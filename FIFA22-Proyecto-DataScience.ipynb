{
  "nbformat": 4,
  "nbformat_minor": 0,
  "metadata": {
    "colab": {
      "provenance": [],
      "collapsed_sections": [
        "d5rgZsBrdeWg",
        "hzTaZpGVpr7j",
        "Gt4WUCpWlJjV",
        "W9JK1Srn3XOJ",
        "J-ljyTOSuB-8",
        "sDNq1RpW7Ro_",
        "-ADaalHB3a05",
        "gcEKJOSVvPRB",
        "TRkOu-aYA0-x",
        "WvZ3uecxRRix"
      ],
      "authorship_tag": "ABX9TyOKeXCinwVXFvbumoNCLt6D",
      "include_colab_link": true
    },
    "kernelspec": {
      "name": "python3",
      "display_name": "Python 3"
    },
    "language_info": {
      "name": "python"
    }
  },
  "cells": [
    {
      "cell_type": "markdown",
      "metadata": {
        "id": "view-in-github",
        "colab_type": "text"
      },
      "source": [
        "<a href=\"https://colab.research.google.com/github/nm1davi/FIFA22-DataScience/blob/main/FIFA22-Proyecto-DataScience.ipynb\" target=\"_parent\"><img src=\"https://colab.research.google.com/assets/colab-badge.svg\" alt=\"Open In Colab\"/></a>"
      ]
    },
    {
      "cell_type": "markdown",
      "source": [
        "# Presentacion en Google Slides: https://docs.google.com/presentation/d/1hNnABb4KnDxKbJx61yaygG5-fe9oQgd1bri8rquuW1U/edit?usp=sharing"
      ],
      "metadata": {
        "id": "d-bxN5sAYJk5"
      }
    },
    {
      "cell_type": "markdown",
      "source": [
        "# Instalación"
      ],
      "metadata": {
        "id": "7cZ8vlItcMk2"
      }
    },
    {
      "cell_type": "code",
      "source": [
        "!pip install plotly --upgrade\n",
        "! pip install chart_studio\n",
        "! pip install bqplot\n",
        "! pip install pingouin\n",
        "!pip install mlxtend\n",
        "! pip install wordcloud\n",
        "!pip install -U -q PyDrive"
      ],
      "metadata": {
        "id": "p3dS9DiQBwT9"
      },
      "execution_count": null,
      "outputs": []
    },
    {
      "cell_type": "code",
      "source": [
        "from wordcloud import WordCloud\n",
        "import pandas                  as pd\n",
        "from   scipy import stats\n",
        "import numpy                   as np\n",
        "import matplotlib.pyplot       as plt\n",
        "import plotly.express as px\n",
        "from plotly.subplots import make_subplots\n",
        "import plotly.graph_objects as go\n",
        "import seaborn                 as sns\n",
        "import statsmodels.formula.api as sm\n",
        "import chart_studio.plotly     as py\n",
        "import os\n",
        "from bokeh.resources import INLINE\n",
        "import bokeh.io\n",
        "from bokeh import *\n",
        "import pingouin\n",
        "import matplotlib.ticker as ticker\n",
        "bokeh.io.output_notebook(INLINE)\n",
        "import sys\n",
        "import joblib\n",
        "sys.modules['sklearn.externals.joblib'] = joblib\n",
        "from pydrive.auth import GoogleAuth\n",
        "from pydrive.drive import GoogleDrive\n",
        "from google.colab import auth\n",
        "from  oauth2client.client import  GoogleCredentials"
      ],
      "metadata": {
        "id": "cLATyPw1afax"
      },
      "execution_count": null,
      "outputs": []
    },
    {
      "cell_type": "markdown",
      "source": [
        "# APÍ Kaggle"
      ],
      "metadata": {
        "id": "nV5jAlmqabtW"
      }
    },
    {
      "cell_type": "code",
      "source": [
        "!pip install kaggle\n"
      ],
      "metadata": {
        "id": "2l5pUXpiWRnO",
        "colab": {
          "base_uri": "https://localhost:8080/"
        },
        "outputId": "1c57981c-5644-4a9f-c6b4-e755da6434e9"
      },
      "execution_count": null,
      "outputs": [
        {
          "output_type": "stream",
          "name": "stdout",
          "text": [
            "Looking in indexes: https://pypi.org/simple, https://us-python.pkg.dev/colab-wheels/public/simple/\n",
            "Requirement already satisfied: kaggle in /usr/local/lib/python3.9/dist-packages (1.5.13)\n",
            "Requirement already satisfied: tqdm in /usr/local/lib/python3.9/dist-packages (from kaggle) (4.65.0)\n",
            "Requirement already satisfied: python-slugify in /usr/local/lib/python3.9/dist-packages (from kaggle) (8.0.1)\n",
            "Requirement already satisfied: certifi in /usr/local/lib/python3.9/dist-packages (from kaggle) (2022.12.7)\n",
            "Requirement already satisfied: python-dateutil in /usr/local/lib/python3.9/dist-packages (from kaggle) (2.8.2)\n",
            "Requirement already satisfied: six>=1.10 in /usr/local/lib/python3.9/dist-packages (from kaggle) (1.15.0)\n",
            "Requirement already satisfied: urllib3 in /usr/local/lib/python3.9/dist-packages (from kaggle) (1.26.14)\n",
            "Requirement already satisfied: requests in /usr/local/lib/python3.9/dist-packages (from kaggle) (2.25.1)\n",
            "Requirement already satisfied: text-unidecode>=1.3 in /usr/local/lib/python3.9/dist-packages (from python-slugify->kaggle) (1.3)\n",
            "Requirement already satisfied: chardet<5,>=3.0.2 in /usr/local/lib/python3.9/dist-packages (from requests->kaggle) (4.0.0)\n",
            "Requirement already satisfied: idna<3,>=2.5 in /usr/local/lib/python3.9/dist-packages (from requests->kaggle) (2.10)\n"
          ]
        }
      ]
    },
    {
      "cell_type": "code",
      "source": [
        "from google.colab import drive\n",
        "drive.mount(\"/content/drive\")"
      ],
      "metadata": {
        "colab": {
          "base_uri": "https://localhost:8080/"
        },
        "id": "zaI-afEdWpgE",
        "outputId": "3d80c9bc-ed7d-4957-e820-ae9096b507d0"
      },
      "execution_count": null,
      "outputs": [
        {
          "output_type": "stream",
          "name": "stdout",
          "text": [
            "Mounted at /content/drive\n"
          ]
        }
      ]
    },
    {
      "cell_type": "code",
      "source": [
        "!cp /content/drive/MyDrive/DataSets/kaggle.json ~/.kaggle/kaggle.json"
      ],
      "metadata": {
        "id": "3LlXZ3JlX9aI",
        "colab": {
          "base_uri": "https://localhost:8080/"
        },
        "outputId": "ff91fdd5-ec4c-47bb-b658-97afc0a4925b"
      },
      "execution_count": null,
      "outputs": [
        {
          "output_type": "stream",
          "name": "stdout",
          "text": [
            "cp: cannot stat '/content/drive/MyDrive/DataSets/kaggle.json': No such file or directory\n"
          ]
        }
      ]
    },
    {
      "cell_type": "code",
      "source": [
        "! chmod 600 ~/.kaggle/kaggle.json"
      ],
      "metadata": {
        "id": "w-NAqQ1_YN2d",
        "colab": {
          "base_uri": "https://localhost:8080/"
        },
        "outputId": "1e273e83-b997-43ac-aad8-82da33ad4d3f"
      },
      "execution_count": null,
      "outputs": [
        {
          "output_type": "stream",
          "name": "stdout",
          "text": [
            "chmod: cannot access '/root/.kaggle/kaggle.json': No such file or directory\n"
          ]
        }
      ]
    },
    {
      "cell_type": "code",
      "source": [
        "! kaggle datasets download stefanoleone992/fifa-22-complete-player-dataset"
      ],
      "metadata": {
        "id": "xOsxSZiqYV2x",
        "colab": {
          "base_uri": "https://localhost:8080/"
        },
        "outputId": "eb4ff4ba-174f-42cc-d43c-f0419719fbcc"
      },
      "execution_count": null,
      "outputs": [
        {
          "output_type": "stream",
          "name": "stdout",
          "text": [
            "Traceback (most recent call last):\n",
            "  File \"/usr/local/bin/kaggle\", line 5, in <module>\n",
            "    from kaggle.cli import main\n",
            "  File \"/usr/local/lib/python3.9/dist-packages/kaggle/__init__.py\", line 23, in <module>\n",
            "    api.authenticate()\n",
            "  File \"/usr/local/lib/python3.9/dist-packages/kaggle/api/kaggle_api_extended.py\", line 164, in authenticate\n",
            "    raise IOError('Could not find {}. Make sure it\\'s located in'\n",
            "OSError: Could not find kaggle.json. Make sure it's located in /root/.kaggle. Or use the environment method.\n"
          ]
        }
      ]
    },
    {
      "cell_type": "code",
      "source": [
        "! unzip fifa-22-complete-player-dataset.zip"
      ],
      "metadata": {
        "id": "xmky-vmiaEbN",
        "colab": {
          "base_uri": "https://localhost:8080/"
        },
        "outputId": "5c40d7d7-938e-4eb7-ef10-394f8646253f"
      },
      "execution_count": null,
      "outputs": [
        {
          "output_type": "stream",
          "name": "stdout",
          "text": [
            "unzip:  cannot find or open fifa-22-complete-player-dataset.zip, fifa-22-complete-player-dataset.zip.zip or fifa-22-complete-player-dataset.zip.ZIP.\n"
          ]
        }
      ]
    },
    {
      "cell_type": "code",
      "source": [
        "df= pd.read_csv(\"/content/drive/MyDrive/DataScience/players_22.csv\")"
      ],
      "metadata": {
        "id": "ixjKZlvTaSIt",
        "colab": {
          "base_uri": "https://localhost:8080/"
        },
        "outputId": "82bbaeeb-4333-4fc8-8610-1ba60aa28e5a"
      },
      "execution_count": null,
      "outputs": [
        {
          "output_type": "stream",
          "name": "stderr",
          "text": [
            "/usr/local/lib/python3.9/dist-packages/IPython/core/interactiveshell.py:3326: DtypeWarning: Columns (25,108) have mixed types.Specify dtype option on import or set low_memory=False.\n",
            "  exec(code_obj, self.user_global_ns, self.user_ns)\n"
          ]
        }
      ]
    },
    {
      "cell_type": "code",
      "source": [
        "df.columns.to_list()"
      ],
      "metadata": {
        "id": "1teREQZ6Co-9"
      },
      "execution_count": null,
      "outputs": []
    },
    {
      "cell_type": "code",
      "source": [
        "df = df[[\"short_name\", \"player_positions\", \"age\", \"overall\", \"potential\", \"value_eur\",\"wage_eur\",\"nationality_name\"]]"
      ],
      "metadata": {
        "id": "_brvKg-Icd7x"
      },
      "execution_count": null,
      "outputs": []
    },
    {
      "cell_type": "markdown",
      "source": [
        "# Contexto y Preguntas\n"
      ],
      "metadata": {
        "id": "d5rgZsBrdeWg"
      }
    },
    {
      "cell_type": "markdown",
      "source": [
        "**Contexto**\n",
        "\n",
        "Cuando era pequeño, siempre me gustaba jugar con mi consola videojuegos de fubtol, eran mis preferidos. Fueron pasando los años, fui creciendo y me siguio interesando este estilo de videojuegos. Cada vez investigaba más y buscaba distintas formas de jugar (dentro del videojuego exiten distintas opciones a la hora de jugar, puede ser un usuario vs la maquina, o un usuario vs otro en un partido normal, o podías ser el Director Tecnico de un equipo e ir avanzando y logrando objetivos), a medida que trasncurrian los años FIFA iba sacando nuevos videojuegos, FIFA 19, FIFA 20, FIFA21 y FIFA22, pero el \"problema\" estaba en que cada vez que te comprabas un nuevo videojuego tenias que armar tu equipo nuenvamente en el formato del juego \"SOY DT\" entonces tenias que volver a empezar las negociaciones con jugadores, ver que jugadores en ese momento estaban en mejor forma y etc. FIFA apartir del año 2021, te permitia crear una cuenta en la que guardaba tus plantillas de \"SOY DT\" entonces cuando comprabas el nuevo juego, solamente tenias que cargar tu cuenta y venian todas tus plantillas y configuraciones. Esto mejoro mucho ya que evitaba rehacer tu carrera como DT. Pero tambien fueron agregando cosas nuevas, como manejar sueldos, contratar promesas para mejorar tu plantillla y algunas cosas más que para un jugador nuevo de FIFA sonaba y se veía un poco complicado.\n",
        "\n",
        "Entonces me gustaria remarcar algunos puntos importantes para que si algun jugador nuevo de FIFA quiere comenzar una \"carrera nueva\", no le sea tan dificil y confuso a la hora de comezar, por eso vamos a responder algunas preguntas que nos ayudaran a armar un equipo competitivo y salvar algunas dudas.\n",
        "\n",
        "1. Que jugadores son los mejores en cada posicion para poder comprar, o pedir a prestamo?\n",
        "2. Que jugadores jovenes van a tener una buena media (overall) en un futuro?\n",
        "3. La mejor media(overall), que pais la tiene, para armar un equipo con esa química.\n"
      ],
      "metadata": {
        "id": "9vDEGLOjlLho"
      }
    },
    {
      "cell_type": "markdown",
      "source": [
        "**Preguntas Principales**\n",
        "\n",
        "1. Que jugadores son los mejores en cada posicion para poder comprar, o pedir a prestamo?\n",
        "2. Que jugadores jovenes van a tener una buena media (overall) en un futuro?\n",
        "3. La mejor media(overall), que pais la tiene? para armar un equipo con esa química.\n",
        "\n",
        "**Preguntas Secundarias**\n",
        "1. De los mejores jugadores en cada posicion, cual es el mas accesible, a la hora de comprarlo?\n",
        "2. En que es mas conveniente fijarse a la hora de comprar un jugador, su media o su pontecial? (debido a lo que vamos a pagar, vamos a tener que pagar de sueldo, y lo que le queda de carrera)\n",
        "3. Cual es el promedio de sueldo de los grandes jugadores? y el promedio del valor de los grandes jugadores?\n",
        "4. A que paises me conviene enviar mis ojeadores? (Los ojeadores son ayudantes que buscan grandes promesas y jugadores)\n"
      ],
      "metadata": {
        "id": "pjtvy5fSoCqF"
      }
    },
    {
      "cell_type": "markdown",
      "source": [
        "# ANALISIS EXPLORATORIO"
      ],
      "metadata": {
        "id": "hzTaZpGVpr7j"
      }
    },
    {
      "cell_type": "markdown",
      "source": [
        "1. De los mejores jugadores en cada posicion, cual es el mas accesible, a la hora de comprarlo?"
      ],
      "metadata": {
        "id": "VSXxMhNFqXnE"
      }
    },
    {
      "cell_type": "markdown",
      "source": [
        "En los siguientes graficos, vemos los 50 mejores jugadores por posicion, en orden de mas a menos.\n",
        "\n",
        "A la hora de pagar por algun jugador asi, podemos ver que:\n",
        "\n",
        "* En arqueros: Neuer, Navas, LLoris y Schmeichel. Cuestan significativamente menos que el resto, pero por ejemplo Neuer es el 3 mejor arquero del juego.\n",
        "\n",
        "Lo mismo podemos ver en:\n",
        "\n",
        "* Defensores: Sergio Ramos, Chiellini y Thiago Silva\n",
        "* Mediocampistas: Modric, Pjanic, Rakitic. En este caso por ejemplo, vemos que Pedri, es bastante mas costoso, eso se debe a que es un jugador joven con un gran Potencial\n",
        "* Delanteros: Ibrahimovic, Dzeko. Lo mismo que recien, Vinicius en este caso es mucho mas caro que jugadores que tienen mejor media, pero se debe a su pontecial y edad.\n",
        "\n",
        "\n",
        "\n",
        "\n",
        "\n",
        "\n"
      ],
      "metadata": {
        "id": "fVrnSguPruXY"
      }
    },
    {
      "cell_type": "code",
      "source": [
        "\n",
        "# Seleccionar los 50 mejores arqueros\n",
        "arqueros = df[df[\"player_positions\"] == \"GK\"].sort_values(\"overall\", ascending=False).head(50)\n",
        "\n",
        "# Seleccionar los 50 mejores defensores\n",
        "\n",
        "defensores = df[df[\"player_positions\"].isin([\"CB\", \"LB\", \"RB\"])].sort_values(\"overall\", ascending=False).head(50)\n",
        "\n",
        "# # Seleccionar los 50 mejores mediocampistas\n",
        "mediocampistas = df[df[\"player_positions\"].isin([\"CM\", \"CDM\", \"CAM\", \"LM\", \"RM\"])].sort_values(\"overall\", ascending=False).head(50)\n",
        "\n",
        "# # Seleccionar los 50 mejores delanteros\n",
        "delanteros = df[df[\"player_positions\"].isin([\"ST\", \"CF\", \"RW\",\"LW\"])].sort_values(\"overall\", ascending=False).head(50)\n"
      ],
      "metadata": {
        "id": "KRRUIQCqKD_u"
      },
      "execution_count": null,
      "outputs": []
    },
    {
      "cell_type": "code",
      "source": [
        "# Crear la figura y la matriz de gráficos con un tamaño de 10x10 pulgadas\n",
        "fig, axs = plt.subplots(2, 2, figsize=(20, 10))\n",
        "\n",
        "fig.subplots_adjust(wspace=0.2, hspace=0.7)\n",
        "\n",
        "\n",
        "# Graficar el valor overall de los arqueros en el primer gráfico (axs[0, 0])\n",
        "axs[0, 0].bar(arqueros['short_name'], arqueros['value_eur'], color=\"darkblue\")\n",
        "axs[0, 0].set_xticklabels(arqueros['short_name'], rotation=90)\n",
        "axs[0, 0].legend(['Arqueros'])\n",
        "\n",
        "# Graficar el valor overall de los defensores en el segundo gráfico (axs[0, 1])\n",
        "axs[0, 1].bar(defensores['short_name'], defensores['value_eur'], color=\"darkblue\")\n",
        "axs[0, 1].set_xticklabels(defensores['short_name'], rotation=90)\n",
        "axs[0, 1].legend(['Defensores'])\n",
        "\n",
        "# Graficar el valor overall de los mediocampistas en el tercer gráfico (axs[1, 0])\n",
        "axs[1, 0].bar(mediocampistas['short_name'], mediocampistas['value_eur'],color=\"darkblue\")\n",
        "axs[1, 0].set_xticklabels(mediocampistas['short_name'], rotation=90)\n",
        "axs[1, 0].legend(['Mediocampistas'])\n",
        "\n",
        "# Graficar el valor overall de los delanteros en el cuarto gráfico (axs[1, 1])\n",
        "axs[1, 1].bar(delanteros['short_name'], delanteros['value_eur'],color=\"darkblue\")\n",
        "axs[1, 1].set_xticklabels(delanteros['short_name'], rotation=90)\n",
        "axs[1, 1].legend(['Delanteros'])\n",
        "\n",
        "# Mostrar el gráfico\n",
        "plt.show()\n",
        "\n"
      ],
      "metadata": {
        "colab": {
          "base_uri": "https://localhost:8080/",
          "height": 847
        },
        "id": "RgvGYU0Xn7jk",
        "outputId": "7ec60e21-6e9b-4345-ca09-5c83380f4100"
      },
      "execution_count": null,
      "outputs": [
        {
          "output_type": "stream",
          "name": "stderr",
          "text": [
            "<ipython-input-28-be9b8bdbb9f1>:9: UserWarning: FixedFormatter should only be used together with FixedLocator\n",
            "  axs[0, 0].set_xticklabels(arqueros['short_name'], rotation=90)\n",
            "<ipython-input-28-be9b8bdbb9f1>:14: UserWarning: FixedFormatter should only be used together with FixedLocator\n",
            "  axs[0, 1].set_xticklabels(defensores['short_name'], rotation=90)\n",
            "<ipython-input-28-be9b8bdbb9f1>:19: UserWarning: FixedFormatter should only be used together with FixedLocator\n",
            "  axs[1, 0].set_xticklabels(mediocampistas['short_name'], rotation=90)\n",
            "<ipython-input-28-be9b8bdbb9f1>:24: UserWarning: FixedFormatter should only be used together with FixedLocator\n",
            "  axs[1, 1].set_xticklabels(delanteros['short_name'], rotation=90)\n"
          ]
        },
        {
          "output_type": "display_data",
          "data": {
            "text/plain": [
              "<Figure size 1440x720 with 4 Axes>"
            ],
            "image/png": "[encoded data removed]"
          },
          "metadata": {
            "needs_background": "light"
          }
        }
      ]
    },
    {
      "cell_type": "markdown",
      "source": [
        "2. En que es mas conveniente fijarse a la hora de comprar un jugador, su media o su pontecial? (debido a lo que vamos a pagar, vamos a tener que pagar de sueldo, y lo que le queda de carrera)"
      ],
      "metadata": {
        "id": "tbC6ncYTt9le"
      }
    },
    {
      "cell_type": "markdown",
      "source": [
        "En este punto tomaremos como ejemplo los 50 mejores jugadores y podemos ver que hay mas cantidad de jugadores con potencial alto, que con media actual alta. Ademas el promedio de potencial, es mayor al promedio de la media actual."
      ],
      "metadata": {
        "id": "86TZVn862oor"
      }
    },
    {
      "cell_type": "code",
      "source": [
        "top_50_overall = df.nlargest(50, \"overall\").sort_values('overall',ascending=False)\n",
        "df_menores_25 = df[df[\"age\"] < 26]\n",
        "top_50_potential = df_menores_25.sort_values(by=\"potential\", ascending=False).head(50)\n"
      ],
      "metadata": {
        "id": "NuHvrr4vs-yP"
      },
      "execution_count": null,
      "outputs": []
    },
    {
      "cell_type": "code",
      "source": [
        "import plotly.graph_objs as go\n",
        "import plotly.subplots as sp\n",
        "\n",
        "fig = sp.make_subplots(rows=1, cols=2)\n",
        "\n",
        "fig.add_trace(go.Histogram(x=top_50_overall['overall'], name='overall',\n",
        "                         marker=dict(color='#EB89B5',line=dict(color='black', width=2))), row=1, col=1)\n",
        "\n",
        "fig.add_trace(go.Histogram(x=top_50_potential['potential'], name='potential',\n",
        "                         marker=dict(color='#6D4C41',line=dict(color='black', width=2))), row=1, col=2)\n",
        "\n",
        "fig.update_layout(title={\n",
        "        'text': \"Media Vs Potencial\",\n",
        "        'y':0.9,\n",
        "        'x':0.5,\n",
        "        'xanchor': 'center',\n",
        "        'yanchor': 'top'}, xaxis_title='Valor', yaxis_title='Frecuencia')\n",
        "\n",
        "fig.show()\n"
      ],
      "metadata": {
        "colab": {
          "base_uri": "https://localhost:8080/",
          "height": 542
        },
        "id": "AuLUweSHuB8G",
        "outputId": "0470bb49-6e19-48be-bace-377e83984460"
      },
      "execution_count": null,
      "outputs": [
        {
          "output_type": "display_data",
          "data": {
            "text/html": [
              "<html>\n",
              "<head><meta charset=\"utf-8\" /></head>\n",
              "<body>\n",
              "    <div>            <script src=\"https://cdnjs.cloudflare.com/ajax/libs/mathjax/2.7.5/MathJax.js?config=TeX-AMS-MML_SVG\"></script><script type=\"text/javascript\">if (window.MathJax && window.MathJax.Hub && window.MathJax.Hub.Config) {window.MathJax.Hub.Config({SVG: {font: \"STIX-Web\"}});}</script>                <script type=\"text/javascript\">window.PlotlyConfig = {MathJaxConfig: 'local'};</script>\n",
              "        <script src=\"https://cdn.plot.ly/plotly-2.18.2.min.js\"></script>                <div id=\"c9d6612d-77f0-4953-97fb-60441782810a\" class=\"plotly-graph-div\" style=\"height:525px; width:100%;\"></div>            <script type=\"text/javascript\">                                    window.PLOTLYENV=window.PLOTLYENV || {};                                    if (document.getElementById(\"c9d6612d-77f0-4953-97fb-60441782810a\")) {                    Plotly.newPlot(                        \"c9d6612d-77f0-4953-97fb-60441782810a\",                        [{\"marker\":{\"color\":\"#EB89B5\",\"line\":{\"color\":\"black\",\"width\":2}},\"name\":\"overall\",\"x\":[93,92,91,91,91,91,91,90,90,90,90,89,89,89,89,89,89,89,89,89,89,89,88,88,88,88,88,88,88,88,87,87,87,87,87,87,87,87,87,87,87,87,87,87,87,87,87,86,86,86],\"type\":\"histogram\",\"xaxis\":\"x\",\"yaxis\":\"y\"},{\"marker\":{\"color\":\"#6D4C41\",\"line\":{\"color\":\"black\",\"width\":2}},\"name\":\"potential\",\"x\":[95,93,93,92,92,92,92,91,91,91,91,91,90,90,90,90,90,90,90,89,89,89,89,89,89,89,89,89,89,89,89,89,89,89,89,89,89,88,88,88,88,88,88,88,88,88,88,88,88,88],\"type\":\"histogram\",\"xaxis\":\"x2\",\"yaxis\":\"y2\"}],                        {\"template\":{\"data\":{\"histogram2dcontour\":[{\"type\":\"histogram2dcontour\",\"colorbar\":{\"outlinewidth\":0,\"ticks\":\"\"},\"colorscale\":[[0.0,\"#0d0887\"],[0.1111111111111111,\"#46039f\"],[0.2222222222222222,\"#7201a8\"],[0.3333333333333333,\"#9c179e\"],[0.4444444444444444,\"#bd3786\"],[0.5555555555555556,\"#d8576b\"],[0.6666666666666666,\"#ed7953\"],[0.7777777777777778,\"#fb9f3a\"],[0.8888888888888888,\"#fdca26\"],[1.0,\"#f0f921\"]]}],\"choropleth\":[{\"type\":\"choropleth\",\"colorbar\":{\"outlinewidth\":0,\"ticks\":\"\"}}],\"histogram2d\":[{\"type\":\"histogram2d\",\"colorbar\":{\"outlinewidth\":0,\"ticks\":\"\"},\"colorscale\":[[0.0,\"#0d0887\"],[0.1111111111111111,\"#46039f\"],[0.2222222222222222,\"#7201a8\"],[0.3333333333333333,\"#9c179e\"],[0.4444444444444444,\"#bd3786\"],[0.5555555555555556,\"#d8576b\"],[0.6666666666666666,\"#ed7953\"],[0.7777777777777778,\"#fb9f3a\"],[0.8888888888888888,\"#fdca26\"],[1.0,\"#f0f921\"]]}],\"heatmap\":[{\"type\":\"heatmap\",\"colorbar\":{\"outlinewidth\":0,\"ticks\":\"\"},\"colorscale\":[[0.0,\"#0d0887\"],[0.1111111111111111,\"#46039f\"],[0.2222222222222222,\"#7201a8\"],[0.3333333333333333,\"#9c179e\"],[0.4444444444444444,\"#bd3786\"],[0.5555555555555556,\"#d8576b\"],[0.6666666666666666,\"#ed7953\"],[0.7777777777777778,\"#fb9f3a\"],[0.8888888888888888,\"#fdca26\"],[1.0,\"#f0f921\"]]}],\"heatmapgl\":[{\"type\":\"heatmapgl\",\"colorbar\":{\"outlinewidth\":0,\"ticks\":\"\"},\"colorscale\":[[0.0,\"#0d0887\"],[0.1111111111111111,\"#46039f\"],[0.2222222222222222,\"#7201a8\"],[0.3333333333333333,\"#9c179e\"],[0.4444444444444444,\"#bd3786\"],[0.5555555555555556,\"#d8576b\"],[0.6666666666666666,\"#ed7953\"],[0.7777777777777778,\"#fb9f3a\"],[0.8888888888888888,\"#fdca26\"],[1.0,\"#f0f921\"]]}],\"contourcarpet\":[{\"type\":\"contourcarpet\",\"colorbar\":{\"outlinewidth\":0,\"ticks\":\"\"}}],\"contour\":[{\"type\":\"contour\",\"colorbar\":{\"outlinewidth\":0,\"ticks\":\"\"},\"colorscale\":[[0.0,\"#0d0887\"],[0.1111111111111111,\"#46039f\"],[0.2222222222222222,\"#7201a8\"],[0.3333333333333333,\"#9c179e\"],[0.4444444444444444,\"#bd3786\"],[0.5555555555555556,\"#d8576b\"],[0.6666666666666666,\"#ed7953\"],[0.7777777777777778,\"#fb9f3a\"],[0.8888888888888888,\"#fdca26\"],[1.0,\"#f0f921\"]]}],\"surface\":[{\"type\":\"surface\",\"colorbar\":{\"outlinewidth\":0,\"ticks\":\"\"},\"colorscale\":[[0.0,\"#0d0887\"],[0.1111111111111111,\"#46039f\"],[0.2222222222222222,\"#7201a8\"],[0.3333333333333333,\"#9c179e\"],[0.4444444444444444,\"#bd3786\"],[0.5555555555555556,\"#d8576b\"],[0.6666666666666666,\"#ed7953\"],[0.7777777777777778,\"#fb9f3a\"],[0.8888888888888888,\"#fdca26\"],[1.0,\"#f0f921\"]]}],\"mesh3d\":[{\"type\":\"mesh3d\",\"colorbar\":{\"outlinewidth\":0,\"ticks\":\"\"}}],\"scatter\":[{\"fillpattern\":{\"fillmode\":\"overlay\",\"size\":10,\"solidity\":0.2},\"type\":\"scatter\"}],\"parcoords\":[{\"type\":\"parcoords\",\"line\":{\"colorbar\":{\"outlinewidth\":0,\"ticks\":\"\"}}}],\"scatterpolargl\":[{\"type\":\"scatterpolargl\",\"marker\":{\"colorbar\":{\"outlinewidth\":0,\"ticks\":\"\"}}}],\"bar\":[{\"error_x\":{\"color\":\"#2a3f5f\"},\"error_y\":{\"color\":\"#2a3f5f\"},\"marker\":{\"line\":{\"color\":\"#E5ECF6\",\"width\":0.5},\"pattern\":{\"fillmode\":\"overlay\",\"size\":10,\"solidity\":0.2}},\"type\":\"bar\"}],\"scattergeo\":[{\"type\":\"scattergeo\",\"marker\":{\"colorbar\":{\"outlinewidth\":0,\"ticks\":\"\"}}}],\"scatterpolar\":[{\"type\":\"scatterpolar\",\"marker\":{\"colorbar\":{\"outlinewidth\":0,\"ticks\":\"\"}}}],\"histogram\":[{\"marker\":{\"pattern\":{\"fillmode\":\"overlay\",\"size\":10,\"solidity\":0.2}},\"type\":\"histogram\"}],\"scattergl\":[{\"type\":\"scattergl\",\"marker\":{\"colorbar\":{\"outlinewidth\":0,\"ticks\":\"\"}}}],\"scatter3d\":[{\"type\":\"scatter3d\",\"line\":{\"colorbar\":{\"outlinewidth\":0,\"ticks\":\"\"}},\"marker\":{\"colorbar\":{\"outlinewidth\":0,\"ticks\":\"\"}}}],\"scattermapbox\":[{\"type\":\"scattermapbox\",\"marker\":{\"colorbar\":{\"outlinewidth\":0,\"ticks\":\"\"}}}],\"scatterternary\":[{\"type\":\"scatterternary\",\"marker\":{\"colorbar\":{\"outlinewidth\":0,\"ticks\":\"\"}}}],\"scattercarpet\":[{\"type\":\"scattercarpet\",\"marker\":{\"colorbar\":{\"outlinewidth\":0,\"ticks\":\"\"}}}],\"carpet\":[{\"aaxis\":{\"endlinecolor\":\"#2a3f5f\",\"gridcolor\":\"white\",\"linecolor\":\"white\",\"minorgridcolor\":\"white\",\"startlinecolor\":\"#2a3f5f\"},\"baxis\":{\"endlinecolor\":\"#2a3f5f\",\"gridcolor\":\"white\",\"linecolor\":\"white\",\"minorgridcolor\":\"white\",\"startlinecolor\":\"#2a3f5f\"},\"type\":\"carpet\"}],\"table\":[{\"cells\":{\"fill\":{\"color\":\"#EBF0F8\"},\"line\":{\"color\":\"white\"}},\"header\":{\"fill\":{\"color\":\"#C8D4E3\"},\"line\":{\"color\":\"white\"}},\"type\":\"table\"}],\"barpolar\":[{\"marker\":{\"line\":{\"color\":\"#E5ECF6\",\"width\":0.5},\"pattern\":{\"fillmode\":\"overlay\",\"size\":10,\"solidity\":0.2}},\"type\":\"barpolar\"}],\"pie\":[{\"automargin\":true,\"type\":\"pie\"}]},\"layout\":{\"autotypenumbers\":\"strict\",\"colorway\":[\"#636efa\",\"#EF553B\",\"#00cc96\",\"#ab63fa\",\"#FFA15A\",\"#19d3f3\",\"#FF6692\",\"#B6E880\",\"#FF97FF\",\"#FECB52\"],\"font\":{\"color\":\"#2a3f5f\"},\"hovermode\":\"closest\",\"hoverlabel\":{\"align\":\"left\"},\"paper_bgcolor\":\"white\",\"plot_bgcolor\":\"#E5ECF6\",\"polar\":{\"bgcolor\":\"#E5ECF6\",\"angularaxis\":{\"gridcolor\":\"white\",\"linecolor\":\"white\",\"ticks\":\"\"},\"radialaxis\":{\"gridcolor\":\"white\",\"linecolor\":\"white\",\"ticks\":\"\"}},\"ternary\":{\"bgcolor\":\"#E5ECF6\",\"aaxis\":{\"gridcolor\":\"white\",\"linecolor\":\"white\",\"ticks\":\"\"},\"baxis\":{\"gridcolor\":\"white\",\"linecolor\":\"white\",\"ticks\":\"\"},\"caxis\":{\"gridcolor\":\"white\",\"linecolor\":\"white\",\"ticks\":\"\"}},\"coloraxis\":{\"colorbar\":{\"outlinewidth\":0,\"ticks\":\"\"}},\"colorscale\":{\"sequential\":[[0.0,\"#0d0887\"],[0.1111111111111111,\"#46039f\"],[0.2222222222222222,\"#7201a8\"],[0.3333333333333333,\"#9c179e\"],[0.4444444444444444,\"#bd3786\"],[0.5555555555555556,\"#d8576b\"],[0.6666666666666666,\"#ed7953\"],[0.7777777777777778,\"#fb9f3a\"],[0.8888888888888888,\"#fdca26\"],[1.0,\"#f0f921\"]],\"sequentialminus\":[[0.0,\"#0d0887\"],[0.1111111111111111,\"#46039f\"],[0.2222222222222222,\"#7201a8\"],[0.3333333333333333,\"#9c179e\"],[0.4444444444444444,\"#bd3786\"],[0.5555555555555556,\"#d8576b\"],[0.6666666666666666,\"#ed7953\"],[0.7777777777777778,\"#fb9f3a\"],[0.8888888888888888,\"#fdca26\"],[1.0,\"#f0f921\"]],\"diverging\":[[0,\"#8e0152\"],[0.1,\"#c51b7d\"],[0.2,\"#de77ae\"],[0.3,\"#f1b6da\"],[0.4,\"#fde0ef\"],[0.5,\"#f7f7f7\"],[0.6,\"#e6f5d0\"],[0.7,\"#b8e186\"],[0.8,\"#7fbc41\"],[0.9,\"#4d9221\"],[1,\"#276419\"]]},\"xaxis\":{\"gridcolor\":\"white\",\"linecolor\":\"white\",\"ticks\":\"\",\"title\":{\"standoff\":15},\"zerolinecolor\":\"white\",\"automargin\":true,\"zerolinewidth\":2},\"yaxis\":{\"gridcolor\":\"white\",\"linecolor\":\"white\",\"ticks\":\"\",\"title\":{\"standoff\":15},\"zerolinecolor\":\"white\",\"automargin\":true,\"zerolinewidth\":2},\"scene\":{\"xaxis\":{\"backgroundcolor\":\"#E5ECF6\",\"gridcolor\":\"white\",\"linecolor\":\"white\",\"showbackground\":true,\"ticks\":\"\",\"zerolinecolor\":\"white\",\"gridwidth\":2},\"yaxis\":{\"backgroundcolor\":\"#E5ECF6\",\"gridcolor\":\"white\",\"linecolor\":\"white\",\"showbackground\":true,\"ticks\":\"\",\"zerolinecolor\":\"white\",\"gridwidth\":2},\"zaxis\":{\"backgroundcolor\":\"#E5ECF6\",\"gridcolor\":\"white\",\"linecolor\":\"white\",\"showbackground\":true,\"ticks\":\"\",\"zerolinecolor\":\"white\",\"gridwidth\":2}},\"shapedefaults\":{\"line\":{\"color\":\"#2a3f5f\"}},\"annotationdefaults\":{\"arrowcolor\":\"#2a3f5f\",\"arrowhead\":0,\"arrowwidth\":1},\"geo\":{\"bgcolor\":\"white\",\"landcolor\":\"#E5ECF6\",\"subunitcolor\":\"white\",\"showland\":true,\"showlakes\":true,\"lakecolor\":\"white\"},\"title\":{\"x\":0.05},\"mapbox\":{\"style\":\"light\"}}},\"xaxis\":{\"anchor\":\"y\",\"domain\":[0.0,0.45],\"title\":{\"text\":\"Valor\"}},\"yaxis\":{\"anchor\":\"x\",\"domain\":[0.0,1.0],\"title\":{\"text\":\"Frecuencia\"}},\"xaxis2\":{\"anchor\":\"y2\",\"domain\":[0.55,1.0]},\"yaxis2\":{\"anchor\":\"x2\",\"domain\":[0.0,1.0]},\"title\":{\"text\":\"Media Vs Potencial\",\"y\":0.9,\"x\":0.5,\"xanchor\":\"center\",\"yanchor\":\"top\"}},                        {\"responsive\": true}                    ).then(function(){\n",
              "                            \n",
              "var gd = document.getElementById('c9d6612d-77f0-4953-97fb-60441782810a');\n",
              "var x = new MutationObserver(function (mutations, observer) {{\n",
              "        var display = window.getComputedStyle(gd).display;\n",
              "        if (!display || display === 'none') {{\n",
              "            console.log([gd, 'removed!']);\n",
              "            Plotly.purge(gd);\n",
              "            observer.disconnect();\n",
              "        }}\n",
              "}});\n",
              "\n",
              "// Listen for the removal of the full notebook cells\n",
              "var notebookContainer = gd.closest('#notebook-container');\n",
              "if (notebookContainer) {{\n",
              "    x.observe(notebookContainer, {childList: true});\n",
              "}}\n",
              "\n",
              "// Listen for the clearing of the current output cell\n",
              "var outputEl = gd.closest('.output');\n",
              "if (outputEl) {{\n",
              "    x.observe(outputEl, {childList: true});\n",
              "}}\n",
              "\n",
              "                        })                };                            </script>        </div>\n",
              "</body>\n",
              "</html>"
            ]
          },
          "metadata": {}
        }
      ]
    },
    {
      "cell_type": "code",
      "source": [
        "#Calculamos el promedio de la media y del potencial de los jugadores\n",
        "media_overall= top_50_overall[\"overall\"].mean()\n",
        "media_potential = top_50_potential[\"potential\"].mean()\n",
        "print(media_overall)\n",
        "print(media_potential)"
      ],
      "metadata": {
        "colab": {
          "base_uri": "https://localhost:8080/"
        },
        "id": "muOUdndTvBQ3",
        "outputId": "702d129f-f40c-47ad-d200-8518277620ae"
      },
      "execution_count": null,
      "outputs": [
        {
          "output_type": "stream",
          "name": "stdout",
          "text": [
            "88.4\n",
            "89.6\n"
          ]
        }
      ]
    },
    {
      "cell_type": "code",
      "source": [
        "#Promedio Media vs Potencial\n",
        "\n",
        "fig = make_subplots(rows=1, cols=2)\n",
        "\n",
        "\n",
        "fig.add_trace(go.Bar(x=['Promedio'], y=[top_50_overall['overall'].mean()],width=[0.2], name='Overall'))\n",
        "\n",
        "\n",
        "fig.add_trace(go.Bar(x=['Promedio'], y=[top_50_potential['potential'].mean()],width=[0.2], name='Potencial'))\n",
        "\n",
        "\n",
        "fig.update_layout(yaxis_title='Valoracion')\n",
        "\n",
        "fig.show()\n"
      ],
      "metadata": {
        "colab": {
          "base_uri": "https://localhost:8080/",
          "height": 542
        },
        "id": "Z8upRlRQY1N9",
        "outputId": "5147924d-f674-4e8d-b4f9-0976e7a14f17"
      },
      "execution_count": null,
      "outputs": [
        {
          "output_type": "display_data",
          "data": {
            "text/html": [
              "<html>\n",
              "<head><meta charset=\"utf-8\" /></head>\n",
              "<body>\n",
              "    <div>            <script src=\"https://cdnjs.cloudflare.com/ajax/libs/mathjax/2.7.5/MathJax.js?config=TeX-AMS-MML_SVG\"></script><script type=\"text/javascript\">if (window.MathJax && window.MathJax.Hub && window.MathJax.Hub.Config) {window.MathJax.Hub.Config({SVG: {font: \"STIX-Web\"}});}</script>                <script type=\"text/javascript\">window.PlotlyConfig = {MathJaxConfig: 'local'};</script>\n",
              "        <script src=\"https://cdn.plot.ly/plotly-2.18.2.min.js\"></script>                <div id=\"81c2d315-ca2d-426c-9b2f-8ce1e7835bf2\" class=\"plotly-graph-div\" style=\"height:525px; width:100%;\"></div>            <script type=\"text/javascript\">                                    window.PLOTLYENV=window.PLOTLYENV || {};                                    if (document.getElementById(\"81c2d315-ca2d-426c-9b2f-8ce1e7835bf2\")) {                    Plotly.newPlot(                        \"81c2d315-ca2d-426c-9b2f-8ce1e7835bf2\",                        [{\"name\":\"Overall\",\"width\":[0.2],\"x\":[\"Promedio\"],\"y\":[88.4],\"type\":\"bar\"},{\"name\":\"Potencial\",\"width\":[0.2],\"x\":[\"Promedio\"],\"y\":[89.6],\"type\":\"bar\"}],                        {\"template\":{\"data\":{\"histogram2dcontour\":[{\"type\":\"histogram2dcontour\",\"colorbar\":{\"outlinewidth\":0,\"ticks\":\"\"},\"colorscale\":[[0.0,\"#0d0887\"],[0.1111111111111111,\"#46039f\"],[0.2222222222222222,\"#7201a8\"],[0.3333333333333333,\"#9c179e\"],[0.4444444444444444,\"#bd3786\"],[0.5555555555555556,\"#d8576b\"],[0.6666666666666666,\"#ed7953\"],[0.7777777777777778,\"#fb9f3a\"],[0.8888888888888888,\"#fdca26\"],[1.0,\"#f0f921\"]]}],\"choropleth\":[{\"type\":\"choropleth\",\"colorbar\":{\"outlinewidth\":0,\"ticks\":\"\"}}],\"histogram2d\":[{\"type\":\"histogram2d\",\"colorbar\":{\"outlinewidth\":0,\"ticks\":\"\"},\"colorscale\":[[0.0,\"#0d0887\"],[0.1111111111111111,\"#46039f\"],[0.2222222222222222,\"#7201a8\"],[0.3333333333333333,\"#9c179e\"],[0.4444444444444444,\"#bd3786\"],[0.5555555555555556,\"#d8576b\"],[0.6666666666666666,\"#ed7953\"],[0.7777777777777778,\"#fb9f3a\"],[0.8888888888888888,\"#fdca26\"],[1.0,\"#f0f921\"]]}],\"heatmap\":[{\"type\":\"heatmap\",\"colorbar\":{\"outlinewidth\":0,\"ticks\":\"\"},\"colorscale\":[[0.0,\"#0d0887\"],[0.1111111111111111,\"#46039f\"],[0.2222222222222222,\"#7201a8\"],[0.3333333333333333,\"#9c179e\"],[0.4444444444444444,\"#bd3786\"],[0.5555555555555556,\"#d8576b\"],[0.6666666666666666,\"#ed7953\"],[0.7777777777777778,\"#fb9f3a\"],[0.8888888888888888,\"#fdca26\"],[1.0,\"#f0f921\"]]}],\"heatmapgl\":[{\"type\":\"heatmapgl\",\"colorbar\":{\"outlinewidth\":0,\"ticks\":\"\"},\"colorscale\":[[0.0,\"#0d0887\"],[0.1111111111111111,\"#46039f\"],[0.2222222222222222,\"#7201a8\"],[0.3333333333333333,\"#9c179e\"],[0.4444444444444444,\"#bd3786\"],[0.5555555555555556,\"#d8576b\"],[0.6666666666666666,\"#ed7953\"],[0.7777777777777778,\"#fb9f3a\"],[0.8888888888888888,\"#fdca26\"],[1.0,\"#f0f921\"]]}],\"contourcarpet\":[{\"type\":\"contourcarpet\",\"colorbar\":{\"outlinewidth\":0,\"ticks\":\"\"}}],\"contour\":[{\"type\":\"contour\",\"colorbar\":{\"outlinewidth\":0,\"ticks\":\"\"},\"colorscale\":[[0.0,\"#0d0887\"],[0.1111111111111111,\"#46039f\"],[0.2222222222222222,\"#7201a8\"],[0.3333333333333333,\"#9c179e\"],[0.4444444444444444,\"#bd3786\"],[0.5555555555555556,\"#d8576b\"],[0.6666666666666666,\"#ed7953\"],[0.7777777777777778,\"#fb9f3a\"],[0.8888888888888888,\"#fdca26\"],[1.0,\"#f0f921\"]]}],\"surface\":[{\"type\":\"surface\",\"colorbar\":{\"outlinewidth\":0,\"ticks\":\"\"},\"colorscale\":[[0.0,\"#0d0887\"],[0.1111111111111111,\"#46039f\"],[0.2222222222222222,\"#7201a8\"],[0.3333333333333333,\"#9c179e\"],[0.4444444444444444,\"#bd3786\"],[0.5555555555555556,\"#d8576b\"],[0.6666666666666666,\"#ed7953\"],[0.7777777777777778,\"#fb9f3a\"],[0.8888888888888888,\"#fdca26\"],[1.0,\"#f0f921\"]]}],\"mesh3d\":[{\"type\":\"mesh3d\",\"colorbar\":{\"outlinewidth\":0,\"ticks\":\"\"}}],\"scatter\":[{\"fillpattern\":{\"fillmode\":\"overlay\",\"size\":10,\"solidity\":0.2},\"type\":\"scatter\"}],\"parcoords\":[{\"type\":\"parcoords\",\"line\":{\"colorbar\":{\"outlinewidth\":0,\"ticks\":\"\"}}}],\"scatterpolargl\":[{\"type\":\"scatterpolargl\",\"marker\":{\"colorbar\":{\"outlinewidth\":0,\"ticks\":\"\"}}}],\"bar\":[{\"error_x\":{\"color\":\"#2a3f5f\"},\"error_y\":{\"color\":\"#2a3f5f\"},\"marker\":{\"line\":{\"color\":\"#E5ECF6\",\"width\":0.5},\"pattern\":{\"fillmode\":\"overlay\",\"size\":10,\"solidity\":0.2}},\"type\":\"bar\"}],\"scattergeo\":[{\"type\":\"scattergeo\",\"marker\":{\"colorbar\":{\"outlinewidth\":0,\"ticks\":\"\"}}}],\"scatterpolar\":[{\"type\":\"scatterpolar\",\"marker\":{\"colorbar\":{\"outlinewidth\":0,\"ticks\":\"\"}}}],\"histogram\":[{\"marker\":{\"pattern\":{\"fillmode\":\"overlay\",\"size\":10,\"solidity\":0.2}},\"type\":\"histogram\"}],\"scattergl\":[{\"type\":\"scattergl\",\"marker\":{\"colorbar\":{\"outlinewidth\":0,\"ticks\":\"\"}}}],\"scatter3d\":[{\"type\":\"scatter3d\",\"line\":{\"colorbar\":{\"outlinewidth\":0,\"ticks\":\"\"}},\"marker\":{\"colorbar\":{\"outlinewidth\":0,\"ticks\":\"\"}}}],\"scattermapbox\":[{\"type\":\"scattermapbox\",\"marker\":{\"colorbar\":{\"outlinewidth\":0,\"ticks\":\"\"}}}],\"scatterternary\":[{\"type\":\"scatterternary\",\"marker\":{\"colorbar\":{\"outlinewidth\":0,\"ticks\":\"\"}}}],\"scattercarpet\":[{\"type\":\"scattercarpet\",\"marker\":{\"colorbar\":{\"outlinewidth\":0,\"ticks\":\"\"}}}],\"carpet\":[{\"aaxis\":{\"endlinecolor\":\"#2a3f5f\",\"gridcolor\":\"white\",\"linecolor\":\"white\",\"minorgridcolor\":\"white\",\"startlinecolor\":\"#2a3f5f\"},\"baxis\":{\"endlinecolor\":\"#2a3f5f\",\"gridcolor\":\"white\",\"linecolor\":\"white\",\"minorgridcolor\":\"white\",\"startlinecolor\":\"#2a3f5f\"},\"type\":\"carpet\"}],\"table\":[{\"cells\":{\"fill\":{\"color\":\"#EBF0F8\"},\"line\":{\"color\":\"white\"}},\"header\":{\"fill\":{\"color\":\"#C8D4E3\"},\"line\":{\"color\":\"white\"}},\"type\":\"table\"}],\"barpolar\":[{\"marker\":{\"line\":{\"color\":\"#E5ECF6\",\"width\":0.5},\"pattern\":{\"fillmode\":\"overlay\",\"size\":10,\"solidity\":0.2}},\"type\":\"barpolar\"}],\"pie\":[{\"automargin\":true,\"type\":\"pie\"}]},\"layout\":{\"autotypenumbers\":\"strict\",\"colorway\":[\"#636efa\",\"#EF553B\",\"#00cc96\",\"#ab63fa\",\"#FFA15A\",\"#19d3f3\",\"#FF6692\",\"#B6E880\",\"#FF97FF\",\"#FECB52\"],\"font\":{\"color\":\"#2a3f5f\"},\"hovermode\":\"closest\",\"hoverlabel\":{\"align\":\"left\"},\"paper_bgcolor\":\"white\",\"plot_bgcolor\":\"#E5ECF6\",\"polar\":{\"bgcolor\":\"#E5ECF6\",\"angularaxis\":{\"gridcolor\":\"white\",\"linecolor\":\"white\",\"ticks\":\"\"},\"radialaxis\":{\"gridcolor\":\"white\",\"linecolor\":\"white\",\"ticks\":\"\"}},\"ternary\":{\"bgcolor\":\"#E5ECF6\",\"aaxis\":{\"gridcolor\":\"white\",\"linecolor\":\"white\",\"ticks\":\"\"},\"baxis\":{\"gridcolor\":\"white\",\"linecolor\":\"white\",\"ticks\":\"\"},\"caxis\":{\"gridcolor\":\"white\",\"linecolor\":\"white\",\"ticks\":\"\"}},\"coloraxis\":{\"colorbar\":{\"outlinewidth\":0,\"ticks\":\"\"}},\"colorscale\":{\"sequential\":[[0.0,\"#0d0887\"],[0.1111111111111111,\"#46039f\"],[0.2222222222222222,\"#7201a8\"],[0.3333333333333333,\"#9c179e\"],[0.4444444444444444,\"#bd3786\"],[0.5555555555555556,\"#d8576b\"],[0.6666666666666666,\"#ed7953\"],[0.7777777777777778,\"#fb9f3a\"],[0.8888888888888888,\"#fdca26\"],[1.0,\"#f0f921\"]],\"sequentialminus\":[[0.0,\"#0d0887\"],[0.1111111111111111,\"#46039f\"],[0.2222222222222222,\"#7201a8\"],[0.3333333333333333,\"#9c179e\"],[0.4444444444444444,\"#bd3786\"],[0.5555555555555556,\"#d8576b\"],[0.6666666666666666,\"#ed7953\"],[0.7777777777777778,\"#fb9f3a\"],[0.8888888888888888,\"#fdca26\"],[1.0,\"#f0f921\"]],\"diverging\":[[0,\"#8e0152\"],[0.1,\"#c51b7d\"],[0.2,\"#de77ae\"],[0.3,\"#f1b6da\"],[0.4,\"#fde0ef\"],[0.5,\"#f7f7f7\"],[0.6,\"#e6f5d0\"],[0.7,\"#b8e186\"],[0.8,\"#7fbc41\"],[0.9,\"#4d9221\"],[1,\"#276419\"]]},\"xaxis\":{\"gridcolor\":\"white\",\"linecolor\":\"white\",\"ticks\":\"\",\"title\":{\"standoff\":15},\"zerolinecolor\":\"white\",\"automargin\":true,\"zerolinewidth\":2},\"yaxis\":{\"gridcolor\":\"white\",\"linecolor\":\"white\",\"ticks\":\"\",\"title\":{\"standoff\":15},\"zerolinecolor\":\"white\",\"automargin\":true,\"zerolinewidth\":2},\"scene\":{\"xaxis\":{\"backgroundcolor\":\"#E5ECF6\",\"gridcolor\":\"white\",\"linecolor\":\"white\",\"showbackground\":true,\"ticks\":\"\",\"zerolinecolor\":\"white\",\"gridwidth\":2},\"yaxis\":{\"backgroundcolor\":\"#E5ECF6\",\"gridcolor\":\"white\",\"linecolor\":\"white\",\"showbackground\":true,\"ticks\":\"\",\"zerolinecolor\":\"white\",\"gridwidth\":2},\"zaxis\":{\"backgroundcolor\":\"#E5ECF6\",\"gridcolor\":\"white\",\"linecolor\":\"white\",\"showbackground\":true,\"ticks\":\"\",\"zerolinecolor\":\"white\",\"gridwidth\":2}},\"shapedefaults\":{\"line\":{\"color\":\"#2a3f5f\"}},\"annotationdefaults\":{\"arrowcolor\":\"#2a3f5f\",\"arrowhead\":0,\"arrowwidth\":1},\"geo\":{\"bgcolor\":\"white\",\"landcolor\":\"#E5ECF6\",\"subunitcolor\":\"white\",\"showland\":true,\"showlakes\":true,\"lakecolor\":\"white\"},\"title\":{\"x\":0.05},\"mapbox\":{\"style\":\"light\"}}},\"xaxis\":{\"anchor\":\"y\",\"domain\":[0.0,0.45]},\"yaxis\":{\"anchor\":\"x\",\"domain\":[0.0,1.0],\"title\":{\"text\":\"Valoracion\"}},\"xaxis2\":{\"anchor\":\"y2\",\"domain\":[0.55,1.0]},\"yaxis2\":{\"anchor\":\"x2\",\"domain\":[0.0,1.0]}},                        {\"responsive\": true}                    ).then(function(){\n",
              "                            \n",
              "var gd = document.getElementById('81c2d315-ca2d-426c-9b2f-8ce1e7835bf2');\n",
              "var x = new MutationObserver(function (mutations, observer) {{\n",
              "        var display = window.getComputedStyle(gd).display;\n",
              "        if (!display || display === 'none') {{\n",
              "            console.log([gd, 'removed!']);\n",
              "            Plotly.purge(gd);\n",
              "            observer.disconnect();\n",
              "        }}\n",
              "}});\n",
              "\n",
              "// Listen for the removal of the full notebook cells\n",
              "var notebookContainer = gd.closest('#notebook-container');\n",
              "if (notebookContainer) {{\n",
              "    x.observe(notebookContainer, {childList: true});\n",
              "}}\n",
              "\n",
              "// Listen for the clearing of the current output cell\n",
              "var outputEl = gd.closest('.output');\n",
              "if (outputEl) {{\n",
              "    x.observe(outputEl, {childList: true});\n",
              "}}\n",
              "\n",
              "                        })                };                            </script>        </div>\n",
              "</body>\n",
              "</html>"
            ]
          },
          "metadata": {}
        }
      ]
    },
    {
      "cell_type": "markdown",
      "source": [
        "Aqui vemos que el grafico del lado derecho(media vs edad) los valores mas altos se encuentran mas a la derecha, esto quiere decir que de los 50 mejores jugadores los mejores superan los 28 años. Y el grafico de la izquierda(potencial vs edad) es alreves los puntos mas altos estan del lado izquierdo, esto quiere decir que de los 50 mejores jugadores, los que tienen mas potencial a desarrollar son menores a 25 años."
      ],
      "metadata": {
        "id": "oAayhMdGb557"
      }
    },
    {
      "cell_type": "code",
      "source": [
        "fig = make_subplots(rows=1, cols=2, subplot_titles=('Media vs Edad', 'Potencial vs Edad'))\n",
        "\n",
        "fig.add_trace(\n",
        "    go.Scatter(x=top_50_overall['age'],  y=top_50_overall['overall'],name=\"Media\",  mode=\"markers\", text=top_50_overall[\"short_name\"]),\n",
        "    row=1, col=1\n",
        ")\n",
        "\n",
        "fig.add_trace(\n",
        "    go.Scatter(x=top_50_potential['age'],  y=top_50_potential['potential'],name=\"Potencial\",  mode=\"markers\", text=top_50_potential[\"short_name\"]),\n",
        "    row=1, col=2\n",
        ")\n",
        "\n",
        "fig.update_layout(title={\n",
        "        'text': \"50 mejores jugadores por Media y Potencial vs Edad\",\n",
        "        'y':0.9,\n",
        "        'x':0.5,\n",
        "        'xanchor': 'center',\n",
        "        'yanchor': 'top'}, xaxis_title='Edad', yaxis_title='Media/Potencial')\n",
        "\n",
        "fig.show()"
      ],
      "metadata": {
        "colab": {
          "base_uri": "https://localhost:8080/",
          "height": 542
        },
        "id": "RzO77j5wAyVK",
        "outputId": "c5f5e8dd-dcc8-4c59-9a66-98396337f083"
      },
      "execution_count": null,
      "outputs": [
        {
          "output_type": "display_data",
          "data": {
            "text/html": [
              "<html>\n",
              "<head><meta charset=\"utf-8\" /></head>\n",
              "<body>\n",
              "    <div>            <script src=\"https://cdnjs.cloudflare.com/ajax/libs/mathjax/2.7.5/MathJax.js?config=TeX-AMS-MML_SVG\"></script><script type=\"text/javascript\">if (window.MathJax && window.MathJax.Hub && window.MathJax.Hub.Config) {window.MathJax.Hub.Config({SVG: {font: \"STIX-Web\"}});}</script>                <script type=\"text/javascript\">window.PlotlyConfig = {MathJaxConfig: 'local'};</script>\n",
              "        <script src=\"https://cdn.plot.ly/plotly-2.18.2.min.js\"></script>                <div id=\"c368a17f-614b-439e-a7e4-100279711817\" class=\"plotly-graph-div\" style=\"height:525px; width:100%;\"></div>            <script type=\"text/javascript\">                                    window.PLOTLYENV=window.PLOTLYENV || {};                                    if (document.getElementById(\"c368a17f-614b-439e-a7e4-100279711817\")) {                    Plotly.newPlot(                        \"c368a17f-614b-439e-a7e4-100279711817\",                        [{\"mode\":\"markers\",\"name\":\"Media\",\"text\":[\"L. Messi\",\"R. Lewandowski\",\"Cristiano Ronaldo\",\"K. De Bruyne\",\"J. Oblak\",\"K. Mbapp\\u00e9\",\"Neymar Jr\",\"M. Neuer\",\"M. ter Stegen\",\"H. Kane\",\"N. Kant\\u00e9\",\"M. Salah\",\"G. Donnarumma\",\"Alisson\",\"J. Kimmich\",\"Ederson\",\"Casemiro\",\"S. Man\\u00e9\",\"V. van Dijk\",\"T. Courtois\",\"K. Benzema\",\"H. Son\",\"K. Navas\",\"E. Haaland\",\"Bruno Fernandes\",\"R. Sterling\",\"R. Lukaku\",\"T. Kroos\",\"L. Su\\u00e1rez\",\"Sergio Ramos\",\"R\\u00faben Dias\",\"J. Sancho\",\"T. Alexander-Arnold\",\"F. de Jong\",\"A. Robertson\",\"P. Dybala\",\"L. Goretzka\",\"Marquinhos\",\"M. Verratti\",\"P. Pogba\",\"C. Immobile\",\"T. M\\u00fcller\",\"W. Szcz\\u0119sny\",\"\\u00c1. Di Mar\\u00eda\",\"L. Modri\\u0107\",\"H. Lloris\",\"S. Ag\\u00fcero\",\"G. Chiellini\",\"S. Handanovi\\u010d\",\"M. Hummels\"],\"x\":[34,32,36,30,28,22,29,35,29,27,30,29,22,28,26,27,29,29,29,29,33,28,34,20,26,26,28,31,34,35,24,21,22,24,27,27,26,27,28,28,31,31,31,33,35,34,33,36,36,32],\"y\":[93,92,91,91,91,91,91,90,90,90,90,89,89,89,89,89,89,89,89,89,89,89,88,88,88,88,88,88,88,88,87,87,87,87,87,87,87,87,87,87,87,87,87,87,87,87,87,86,86,86],\"type\":\"scatter\",\"xaxis\":\"x\",\"yaxis\":\"y\"},{\"mode\":\"markers\",\"name\":\"Potencial\",\"text\":[\"K. Mbapp\\u00e9\",\"E. Haaland\",\"G. Donnarumma\",\"F. de Jong\",\"T. Alexander-Arnold\",\"K. Havertz\",\"P. Foden\",\"Jo\\u00e3o F\\u00e9lix\",\"F. Chiesa\",\"Pedri\",\"R\\u00faben Dias\",\"J. Sancho\",\"Ferran Torres\",\"D. Upamecano\",\"R. Gravenberch\",\"Ansu Fati\",\"T. Hern\\u00e1ndez\",\"Vin\\u00edcius Jr.\",\"M. de Ligt\",\"M. Maignan\",\"F. Wirtz\",\"Rodri\",\"J. Bellingham\",\"L. Mart\\u00ednez\",\"J. Kound\\u00e9\",\"F. Valverde\",\"M. Rashford\",\"M. Mount\",\"D. Kulusevski\",\"Oyarzabal\",\"A. Bastoni\",\"E. Camavinga\",\"Pau Torres\",\"N. Barella\",\"\\u00c9der Milit\\u00e3o\",\"M. Greenwood\",\"A. Davies\",\"Nuno Mendes\",\"W. Ndidi\",\"E. Tapsoba\",\"Carlos Soler\",\"M. Diaby\",\"J. Gomez\",\"G. Raspadori\",\"C. Pulisic\",\"Pedro Gon\\u00e7alves\",\"M. \\u00d8degaard\",\"Antony\",\"T. Kubo\",\"N. Madueke\"],\"x\":[22,20,22,24,22,22,21,21,23,18,24,21,21,22,19,18,23,20,21,25,18,25,18,23,22,22,23,22,21,24,22,18,24,24,23,19,20,19,24,22,24,21,24,21,22,23,22,21,20,19],\"y\":[95,93,93,92,92,92,92,91,91,91,91,91,90,90,90,90,90,90,90,89,89,89,89,89,89,89,89,89,89,89,89,89,89,89,89,89,89,88,88,88,88,88,88,88,88,88,88,88,88,88],\"type\":\"scatter\",\"xaxis\":\"x2\",\"yaxis\":\"y2\"}],                        {\"template\":{\"data\":{\"histogram2dcontour\":[{\"type\":\"histogram2dcontour\",\"colorbar\":{\"outlinewidth\":0,\"ticks\":\"\"},\"colorscale\":[[0.0,\"#0d0887\"],[0.1111111111111111,\"#46039f\"],[0.2222222222222222,\"#7201a8\"],[0.3333333333333333,\"#9c179e\"],[0.4444444444444444,\"#bd3786\"],[0.5555555555555556,\"#d8576b\"],[0.6666666666666666,\"#ed7953\"],[0.7777777777777778,\"#fb9f3a\"],[0.8888888888888888,\"#fdca26\"],[1.0,\"#f0f921\"]]}],\"choropleth\":[{\"type\":\"choropleth\",\"colorbar\":{\"outlinewidth\":0,\"ticks\":\"\"}}],\"histogram2d\":[{\"type\":\"histogram2d\",\"colorbar\":{\"outlinewidth\":0,\"ticks\":\"\"},\"colorscale\":[[0.0,\"#0d0887\"],[0.1111111111111111,\"#46039f\"],[0.2222222222222222,\"#7201a8\"],[0.3333333333333333,\"#9c179e\"],[0.4444444444444444,\"#bd3786\"],[0.5555555555555556,\"#d8576b\"],[0.6666666666666666,\"#ed7953\"],[0.7777777777777778,\"#fb9f3a\"],[0.8888888888888888,\"#fdca26\"],[1.0,\"#f0f921\"]]}],\"heatmap\":[{\"type\":\"heatmap\",\"colorbar\":{\"outlinewidth\":0,\"ticks\":\"\"},\"colorscale\":[[0.0,\"#0d0887\"],[0.1111111111111111,\"#46039f\"],[0.2222222222222222,\"#7201a8\"],[0.3333333333333333,\"#9c179e\"],[0.4444444444444444,\"#bd3786\"],[0.5555555555555556,\"#d8576b\"],[0.6666666666666666,\"#ed7953\"],[0.7777777777777778,\"#fb9f3a\"],[0.8888888888888888,\"#fdca26\"],[1.0,\"#f0f921\"]]}],\"heatmapgl\":[{\"type\":\"heatmapgl\",\"colorbar\":{\"outlinewidth\":0,\"ticks\":\"\"},\"colorscale\":[[0.0,\"#0d0887\"],[0.1111111111111111,\"#46039f\"],[0.2222222222222222,\"#7201a8\"],[0.3333333333333333,\"#9c179e\"],[0.4444444444444444,\"#bd3786\"],[0.5555555555555556,\"#d8576b\"],[0.6666666666666666,\"#ed7953\"],[0.7777777777777778,\"#fb9f3a\"],[0.8888888888888888,\"#fdca26\"],[1.0,\"#f0f921\"]]}],\"contourcarpet\":[{\"type\":\"contourcarpet\",\"colorbar\":{\"outlinewidth\":0,\"ticks\":\"\"}}],\"contour\":[{\"type\":\"contour\",\"colorbar\":{\"outlinewidth\":0,\"ticks\":\"\"},\"colorscale\":[[0.0,\"#0d0887\"],[0.1111111111111111,\"#46039f\"],[0.2222222222222222,\"#7201a8\"],[0.3333333333333333,\"#9c179e\"],[0.4444444444444444,\"#bd3786\"],[0.5555555555555556,\"#d8576b\"],[0.6666666666666666,\"#ed7953\"],[0.7777777777777778,\"#fb9f3a\"],[0.8888888888888888,\"#fdca26\"],[1.0,\"#f0f921\"]]}],\"surface\":[{\"type\":\"surface\",\"colorbar\":{\"outlinewidth\":0,\"ticks\":\"\"},\"colorscale\":[[0.0,\"#0d0887\"],[0.1111111111111111,\"#46039f\"],[0.2222222222222222,\"#7201a8\"],[0.3333333333333333,\"#9c179e\"],[0.4444444444444444,\"#bd3786\"],[0.5555555555555556,\"#d8576b\"],[0.6666666666666666,\"#ed7953\"],[0.7777777777777778,\"#fb9f3a\"],[0.8888888888888888,\"#fdca26\"],[1.0,\"#f0f921\"]]}],\"mesh3d\":[{\"type\":\"mesh3d\",\"colorbar\":{\"outlinewidth\":0,\"ticks\":\"\"}}],\"scatter\":[{\"fillpattern\":{\"fillmode\":\"overlay\",\"size\":10,\"solidity\":0.2},\"type\":\"scatter\"}],\"parcoords\":[{\"type\":\"parcoords\",\"line\":{\"colorbar\":{\"outlinewidth\":0,\"ticks\":\"\"}}}],\"scatterpolargl\":[{\"type\":\"scatterpolargl\",\"marker\":{\"colorbar\":{\"outlinewidth\":0,\"ticks\":\"\"}}}],\"bar\":[{\"error_x\":{\"color\":\"#2a3f5f\"},\"error_y\":{\"color\":\"#2a3f5f\"},\"marker\":{\"line\":{\"color\":\"#E5ECF6\",\"width\":0.5},\"pattern\":{\"fillmode\":\"overlay\",\"size\":10,\"solidity\":0.2}},\"type\":\"bar\"}],\"scattergeo\":[{\"type\":\"scattergeo\",\"marker\":{\"colorbar\":{\"outlinewidth\":0,\"ticks\":\"\"}}}],\"scatterpolar\":[{\"type\":\"scatterpolar\",\"marker\":{\"colorbar\":{\"outlinewidth\":0,\"ticks\":\"\"}}}],\"histogram\":[{\"marker\":{\"pattern\":{\"fillmode\":\"overlay\",\"size\":10,\"solidity\":0.2}},\"type\":\"histogram\"}],\"scattergl\":[{\"type\":\"scattergl\",\"marker\":{\"colorbar\":{\"outlinewidth\":0,\"ticks\":\"\"}}}],\"scatter3d\":[{\"type\":\"scatter3d\",\"line\":{\"colorbar\":{\"outlinewidth\":0,\"ticks\":\"\"}},\"marker\":{\"colorbar\":{\"outlinewidth\":0,\"ticks\":\"\"}}}],\"scattermapbox\":[{\"type\":\"scattermapbox\",\"marker\":{\"colorbar\":{\"outlinewidth\":0,\"ticks\":\"\"}}}],\"scatterternary\":[{\"type\":\"scatterternary\",\"marker\":{\"colorbar\":{\"outlinewidth\":0,\"ticks\":\"\"}}}],\"scattercarpet\":[{\"type\":\"scattercarpet\",\"marker\":{\"colorbar\":{\"outlinewidth\":0,\"ticks\":\"\"}}}],\"carpet\":[{\"aaxis\":{\"endlinecolor\":\"#2a3f5f\",\"gridcolor\":\"white\",\"linecolor\":\"white\",\"minorgridcolor\":\"white\",\"startlinecolor\":\"#2a3f5f\"},\"baxis\":{\"endlinecolor\":\"#2a3f5f\",\"gridcolor\":\"white\",\"linecolor\":\"white\",\"minorgridcolor\":\"white\",\"startlinecolor\":\"#2a3f5f\"},\"type\":\"carpet\"}],\"table\":[{\"cells\":{\"fill\":{\"color\":\"#EBF0F8\"},\"line\":{\"color\":\"white\"}},\"header\":{\"fill\":{\"color\":\"#C8D4E3\"},\"line\":{\"color\":\"white\"}},\"type\":\"table\"}],\"barpolar\":[{\"marker\":{\"line\":{\"color\":\"#E5ECF6\",\"width\":0.5},\"pattern\":{\"fillmode\":\"overlay\",\"size\":10,\"solidity\":0.2}},\"type\":\"barpolar\"}],\"pie\":[{\"automargin\":true,\"type\":\"pie\"}]},\"layout\":{\"autotypenumbers\":\"strict\",\"colorway\":[\"#636efa\",\"#EF553B\",\"#00cc96\",\"#ab63fa\",\"#FFA15A\",\"#19d3f3\",\"#FF6692\",\"#B6E880\",\"#FF97FF\",\"#FECB52\"],\"font\":{\"color\":\"#2a3f5f\"},\"hovermode\":\"closest\",\"hoverlabel\":{\"align\":\"left\"},\"paper_bgcolor\":\"white\",\"plot_bgcolor\":\"#E5ECF6\",\"polar\":{\"bgcolor\":\"#E5ECF6\",\"angularaxis\":{\"gridcolor\":\"white\",\"linecolor\":\"white\",\"ticks\":\"\"},\"radialaxis\":{\"gridcolor\":\"white\",\"linecolor\":\"white\",\"ticks\":\"\"}},\"ternary\":{\"bgcolor\":\"#E5ECF6\",\"aaxis\":{\"gridcolor\":\"white\",\"linecolor\":\"white\",\"ticks\":\"\"},\"baxis\":{\"gridcolor\":\"white\",\"linecolor\":\"white\",\"ticks\":\"\"},\"caxis\":{\"gridcolor\":\"white\",\"linecolor\":\"white\",\"ticks\":\"\"}},\"coloraxis\":{\"colorbar\":{\"outlinewidth\":0,\"ticks\":\"\"}},\"colorscale\":{\"sequential\":[[0.0,\"#0d0887\"],[0.1111111111111111,\"#46039f\"],[0.2222222222222222,\"#7201a8\"],[0.3333333333333333,\"#9c179e\"],[0.4444444444444444,\"#bd3786\"],[0.5555555555555556,\"#d8576b\"],[0.6666666666666666,\"#ed7953\"],[0.7777777777777778,\"#fb9f3a\"],[0.8888888888888888,\"#fdca26\"],[1.0,\"#f0f921\"]],\"sequentialminus\":[[0.0,\"#0d0887\"],[0.1111111111111111,\"#46039f\"],[0.2222222222222222,\"#7201a8\"],[0.3333333333333333,\"#9c179e\"],[0.4444444444444444,\"#bd3786\"],[0.5555555555555556,\"#d8576b\"],[0.6666666666666666,\"#ed7953\"],[0.7777777777777778,\"#fb9f3a\"],[0.8888888888888888,\"#fdca26\"],[1.0,\"#f0f921\"]],\"diverging\":[[0,\"#8e0152\"],[0.1,\"#c51b7d\"],[0.2,\"#de77ae\"],[0.3,\"#f1b6da\"],[0.4,\"#fde0ef\"],[0.5,\"#f7f7f7\"],[0.6,\"#e6f5d0\"],[0.7,\"#b8e186\"],[0.8,\"#7fbc41\"],[0.9,\"#4d9221\"],[1,\"#276419\"]]},\"xaxis\":{\"gridcolor\":\"white\",\"linecolor\":\"white\",\"ticks\":\"\",\"title\":{\"standoff\":15},\"zerolinecolor\":\"white\",\"automargin\":true,\"zerolinewidth\":2},\"yaxis\":{\"gridcolor\":\"white\",\"linecolor\":\"white\",\"ticks\":\"\",\"title\":{\"standoff\":15},\"zerolinecolor\":\"white\",\"automargin\":true,\"zerolinewidth\":2},\"scene\":{\"xaxis\":{\"backgroundcolor\":\"#E5ECF6\",\"gridcolor\":\"white\",\"linecolor\":\"white\",\"showbackground\":true,\"ticks\":\"\",\"zerolinecolor\":\"white\",\"gridwidth\":2},\"yaxis\":{\"backgroundcolor\":\"#E5ECF6\",\"gridcolor\":\"white\",\"linecolor\":\"white\",\"showbackground\":true,\"ticks\":\"\",\"zerolinecolor\":\"white\",\"gridwidth\":2},\"zaxis\":{\"backgroundcolor\":\"#E5ECF6\",\"gridcolor\":\"white\",\"linecolor\":\"white\",\"showbackground\":true,\"ticks\":\"\",\"zerolinecolor\":\"white\",\"gridwidth\":2}},\"shapedefaults\":{\"line\":{\"color\":\"#2a3f5f\"}},\"annotationdefaults\":{\"arrowcolor\":\"#2a3f5f\",\"arrowhead\":0,\"arrowwidth\":1},\"geo\":{\"bgcolor\":\"white\",\"landcolor\":\"#E5ECF6\",\"subunitcolor\":\"white\",\"showland\":true,\"showlakes\":true,\"lakecolor\":\"white\"},\"title\":{\"x\":0.05},\"mapbox\":{\"style\":\"light\"}}},\"xaxis\":{\"anchor\":\"y\",\"domain\":[0.0,0.45],\"title\":{\"text\":\"Edad\"}},\"yaxis\":{\"anchor\":\"x\",\"domain\":[0.0,1.0],\"title\":{\"text\":\"Media/Potencial\"}},\"xaxis2\":{\"anchor\":\"y2\",\"domain\":[0.55,1.0]},\"yaxis2\":{\"anchor\":\"x2\",\"domain\":[0.0,1.0]},\"annotations\":[{\"font\":{\"size\":16},\"showarrow\":false,\"text\":\"Media vs Edad\",\"x\":0.225,\"xanchor\":\"center\",\"xref\":\"paper\",\"y\":1.0,\"yanchor\":\"bottom\",\"yref\":\"paper\"},{\"font\":{\"size\":16},\"showarrow\":false,\"text\":\"Potencial vs Edad\",\"x\":0.775,\"xanchor\":\"center\",\"xref\":\"paper\",\"y\":1.0,\"yanchor\":\"bottom\",\"yref\":\"paper\"}],\"title\":{\"text\":\"50 mejores jugadores por Media y Potencial vs Edad\",\"y\":0.9,\"x\":0.5,\"xanchor\":\"center\",\"yanchor\":\"top\"}},                        {\"responsive\": true}                    ).then(function(){\n",
              "                            \n",
              "var gd = document.getElementById('c368a17f-614b-439e-a7e4-100279711817');\n",
              "var x = new MutationObserver(function (mutations, observer) {{\n",
              "        var display = window.getComputedStyle(gd).display;\n",
              "        if (!display || display === 'none') {{\n",
              "            console.log([gd, 'removed!']);\n",
              "            Plotly.purge(gd);\n",
              "            observer.disconnect();\n",
              "        }}\n",
              "}});\n",
              "\n",
              "// Listen for the removal of the full notebook cells\n",
              "var notebookContainer = gd.closest('#notebook-container');\n",
              "if (notebookContainer) {{\n",
              "    x.observe(notebookContainer, {childList: true});\n",
              "}}\n",
              "\n",
              "// Listen for the clearing of the current output cell\n",
              "var outputEl = gd.closest('.output');\n",
              "if (outputEl) {{\n",
              "    x.observe(outputEl, {childList: true});\n",
              "}}\n",
              "\n",
              "                        })                };                            </script>        </div>\n",
              "</body>\n",
              "</html>"
            ]
          },
          "metadata": {}
        }
      ]
    },
    {
      "cell_type": "markdown",
      "source": [
        "A continuacion podemos observar que:\n",
        "\n",
        "Hay jugadores que tienen un gran potencial y cuestan significativamente menos que jugadores con media actual mas alta. Por ejemplo: Vinicius Jr, cuesta 46.5 M, con un potencial a desarrollar a 90, 20 años y Toni Kross con 31 años (es decir con 3 o 4 años mas por jugar) cuesta 75.6 M.\n",
        "\n",
        "Y asi podemos ver algunos otros ejemplos."
      ],
      "metadata": {
        "id": "KxF9YSXRx_QH"
      }
    },
    {
      "cell_type": "code",
      "source": [
        "top_50_overall_valor = top_50_overall.sort_values('value_eur',ascending=True)\n",
        "top_50_potential_valor= top_50_potential.sort_values('value_eur',ascending=True)\n",
        "\n",
        "\n",
        "fig = make_subplots(rows=1, cols=2)\n",
        "\n",
        "fig.add_trace(go.Bar(x=top_50_overall_valor[\"short_name\"], y=top_50_overall_valor[\"value_eur\"],\n",
        "                    name='Media', marker=dict(color='blue')), row=1, col=1)\n",
        "\n",
        "fig.add_trace(go.Bar(x=top_50_potential_valor[\"short_name\"], y=top_50_potential_valor[\"value_eur\"],\n",
        "                    name='Potencial', marker=dict(color='orange')), row=1, col=2)\n",
        "\n",
        "fig.update_layout(title={\n",
        "        'text': \"Valor del Jugador vs Media y Potencial\",\n",
        "        'y':0.9,\n",
        "        'x':0.5,\n",
        "        'xanchor': 'center',\n",
        "        'yanchor': 'top'}, xaxis_title='Nombre', yaxis_title='Valor en Euros')\n",
        "\n",
        "\n",
        "fig.show()\n"
      ],
      "metadata": {
        "colab": {
          "base_uri": "https://localhost:8080/",
          "height": 542
        },
        "id": "hbdJFPW5myoe",
        "outputId": "e99c734e-d72c-4f3e-b25b-f6914734f555"
      },
      "execution_count": null,
      "outputs": [
        {
          "output_type": "display_data",
          "data": {
            "text/html": [
              "<html>\n",
              "<head><meta charset=\"utf-8\" /></head>\n",
              "<body>\n",
              "    <div>            <script src=\"https://cdnjs.cloudflare.com/ajax/libs/mathjax/2.7.5/MathJax.js?config=TeX-AMS-MML_SVG\"></script><script type=\"text/javascript\">if (window.MathJax && window.MathJax.Hub && window.MathJax.Hub.Config) {window.MathJax.Hub.Config({SVG: {font: \"STIX-Web\"}});}</script>                <script type=\"text/javascript\">window.PlotlyConfig = {MathJaxConfig: 'local'};</script>\n",
              "        <script src=\"https://cdn.plot.ly/plotly-2.18.2.min.js\"></script>                <div id=\"b47d0f73-172d-4bd5-b300-14e60ca74e03\" class=\"plotly-graph-div\" style=\"height:525px; width:100%;\"></div>            <script type=\"text/javascript\">                                    window.PLOTLYENV=window.PLOTLYENV || {};                                    if (document.getElementById(\"b47d0f73-172d-4bd5-b300-14e60ca74e03\")) {                    Plotly.newPlot(                        \"b47d0f73-172d-4bd5-b300-14e60ca74e03\",                        [{\"marker\":{\"color\":\"blue\"},\"name\":\"Media\",\"x\":[\"S. Handanovi\\u010d\",\"G. Chiellini\",\"H. Lloris\",\"M. Neuer\",\"K. Navas\",\"Sergio Ramos\",\"L. Modri\\u0107\",\"W. Szcz\\u0119sny\",\"M. Hummels\",\"L. Su\\u00e1rez\",\"Cristiano Ronaldo\",\"\\u00c1. Di Mar\\u00eda\",\"S. Ag\\u00fcero\",\"T. M\\u00fcller\",\"K. Benzema\",\"C. Immobile\",\"T. Kroos\",\"L. Messi\",\"M. Verratti\",\"P. Pogba\",\"Alisson\",\"A. Robertson\",\"T. Courtois\",\"V. van Dijk\",\"Casemiro\",\"Marquinhos\",\"L. Goretzka\",\"P. Dybala\",\"R. Lukaku\",\"Ederson\",\"M. ter Stegen\",\"N. Kant\\u00e9\",\"M. Salah\",\"S. Man\\u00e9\",\"R\\u00faben Dias\",\"H. Son\",\"Bruno Fernandes\",\"R. Sterling\",\"J. Kimmich\",\"J. Oblak\",\"T. Alexander-Arnold\",\"J. Sancho\",\"G. Donnarumma\",\"R. Lewandowski\",\"F. de Jong\",\"K. De Bruyne\",\"Neymar Jr\",\"H. Kane\",\"E. Haaland\",\"K. Mbapp\\u00e9\"],\"y\":[7500000.0,12000000.0,13500000.0,13500000.0,15500000.0,24000000.0,32000000.0,42000000.0,44000000.0,44500000.0,45000000.0,49500000.0,51000000.0,66000000.0,66000000.0,67500000.0,75000000.0,78000000.0,79500000.0,79500000.0,82000000.0,83500000.0,85500000.0,86000000.0,88000000.0,90500000.0,93000000.0,93000000.0,93500000.0,94000000.0,99000000.0,100000000.0,101000000.0,101000000.0,102500000.0,104000000.0,107500000.0,107500000.0,108000000.0,112000000.0,114000000.0,116500000.0,119500000.0,119500000.0,119500000.0,125500000.0,129000000.0,129500000.0,137500000.0,194000000.0],\"type\":\"bar\",\"xaxis\":\"x\",\"yaxis\":\"y\"},{\"marker\":{\"color\":\"orange\"},\"name\":\"Potencial\",\"x\":[\"G. Raspadori\",\"T. Kubo\",\"Ansu Fati\",\"N. Madueke\",\"Nuno Mendes\",\"E. Camavinga\",\"F. Wirtz\",\"M. Greenwood\",\"R. Gravenberch\",\"J. Bellingham\",\"Antony\",\"J. Gomez\",\"A. Bastoni\",\"Vin\\u00edcius Jr.\",\"E. Tapsoba\",\"M. \\u00d8degaard\",\"C. Pulisic\",\"M. Maignan\",\"Pedro Gon\\u00e7alves\",\"Carlos Soler\",\"M. Diaby\",\"J. Kound\\u00e9\",\"Pedri\",\"Pau Torres\",\"\\u00c9der Milit\\u00e3o\",\"A. Davies\",\"F. Valverde\",\"D. Kulusevski\",\"M. Mount\",\"T. Hern\\u00e1ndez\",\"N. Barella\",\"D. Upamecano\",\"W. Ndidi\",\"Ferran Torres\",\"M. de Ligt\",\"Oyarzabal\",\"M. Rashford\",\"L. Mart\\u00ednez\",\"F. Chiesa\",\"Rodri\",\"Jo\\u00e3o F\\u00e9lix\",\"P. Foden\",\"K. Havertz\",\"R\\u00faben Dias\",\"T. Alexander-Arnold\",\"J. Sancho\",\"G. Donnarumma\",\"F. de Jong\",\"E. Haaland\",\"K. Mbapp\\u00e9\"],\"y\":[10500000.0,13500000.0,17500000.0,23000000.0,29000000.0,29500000.0,29500000.0,30500000.0,33000000.0,37000000.0,39500000.0,43500000.0,44500000.0,46500000.0,48500000.0,49000000.0,49000000.0,49500000.0,51500000.0,51500000.0,52500000.0,53000000.0,54000000.0,56500000.0,56500000.0,57000000.0,58000000.0,58000000.0,58500000.0,62500000.0,63500000.0,64000000.0,66500000.0,68500000.0,75000000.0,77500000.0,77500000.0,78000000.0,80500000.0,81000000.0,82000000.0,94500000.0,94500000.0,102500000.0,114000000.0,116500000.0,119500000.0,119500000.0,137500000.0,194000000.0],\"type\":\"bar\",\"xaxis\":\"x2\",\"yaxis\":\"y2\"}],                        {\"template\":{\"data\":{\"histogram2dcontour\":[{\"type\":\"histogram2dcontour\",\"colorbar\":{\"outlinewidth\":0,\"ticks\":\"\"},\"colorscale\":[[0.0,\"#0d0887\"],[0.1111111111111111,\"#46039f\"],[0.2222222222222222,\"#7201a8\"],[0.3333333333333333,\"#9c179e\"],[0.4444444444444444,\"#bd3786\"],[0.5555555555555556,\"#d8576b\"],[0.6666666666666666,\"#ed7953\"],[0.7777777777777778,\"#fb9f3a\"],[0.8888888888888888,\"#fdca26\"],[1.0,\"#f0f921\"]]}],\"choropleth\":[{\"type\":\"choropleth\",\"colorbar\":{\"outlinewidth\":0,\"ticks\":\"\"}}],\"histogram2d\":[{\"type\":\"histogram2d\",\"colorbar\":{\"outlinewidth\":0,\"ticks\":\"\"},\"colorscale\":[[0.0,\"#0d0887\"],[0.1111111111111111,\"#46039f\"],[0.2222222222222222,\"#7201a8\"],[0.3333333333333333,\"#9c179e\"],[0.4444444444444444,\"#bd3786\"],[0.5555555555555556,\"#d8576b\"],[0.6666666666666666,\"#ed7953\"],[0.7777777777777778,\"#fb9f3a\"],[0.8888888888888888,\"#fdca26\"],[1.0,\"#f0f921\"]]}],\"heatmap\":[{\"type\":\"heatmap\",\"colorbar\":{\"outlinewidth\":0,\"ticks\":\"\"},\"colorscale\":[[0.0,\"#0d0887\"],[0.1111111111111111,\"#46039f\"],[0.2222222222222222,\"#7201a8\"],[0.3333333333333333,\"#9c179e\"],[0.4444444444444444,\"#bd3786\"],[0.5555555555555556,\"#d8576b\"],[0.6666666666666666,\"#ed7953\"],[0.7777777777777778,\"#fb9f3a\"],[0.8888888888888888,\"#fdca26\"],[1.0,\"#f0f921\"]]}],\"heatmapgl\":[{\"type\":\"heatmapgl\",\"colorbar\":{\"outlinewidth\":0,\"ticks\":\"\"},\"colorscale\":[[0.0,\"#0d0887\"],[0.1111111111111111,\"#46039f\"],[0.2222222222222222,\"#7201a8\"],[0.3333333333333333,\"#9c179e\"],[0.4444444444444444,\"#bd3786\"],[0.5555555555555556,\"#d8576b\"],[0.6666666666666666,\"#ed7953\"],[0.7777777777777778,\"#fb9f3a\"],[0.8888888888888888,\"#fdca26\"],[1.0,\"#f0f921\"]]}],\"contourcarpet\":[{\"type\":\"contourcarpet\",\"colorbar\":{\"outlinewidth\":0,\"ticks\":\"\"}}],\"contour\":[{\"type\":\"contour\",\"colorbar\":{\"outlinewidth\":0,\"ticks\":\"\"},\"colorscale\":[[0.0,\"#0d0887\"],[0.1111111111111111,\"#46039f\"],[0.2222222222222222,\"#7201a8\"],[0.3333333333333333,\"#9c179e\"],[0.4444444444444444,\"#bd3786\"],[0.5555555555555556,\"#d8576b\"],[0.6666666666666666,\"#ed7953\"],[0.7777777777777778,\"#fb9f3a\"],[0.8888888888888888,\"#fdca26\"],[1.0,\"#f0f921\"]]}],\"surface\":[{\"type\":\"surface\",\"colorbar\":{\"outlinewidth\":0,\"ticks\":\"\"},\"colorscale\":[[0.0,\"#0d0887\"],[0.1111111111111111,\"#46039f\"],[0.2222222222222222,\"#7201a8\"],[0.3333333333333333,\"#9c179e\"],[0.4444444444444444,\"#bd3786\"],[0.5555555555555556,\"#d8576b\"],[0.6666666666666666,\"#ed7953\"],[0.7777777777777778,\"#fb9f3a\"],[0.8888888888888888,\"#fdca26\"],[1.0,\"#f0f921\"]]}],\"mesh3d\":[{\"type\":\"mesh3d\",\"colorbar\":{\"outlinewidth\":0,\"ticks\":\"\"}}],\"scatter\":[{\"fillpattern\":{\"fillmode\":\"overlay\",\"size\":10,\"solidity\":0.2},\"type\":\"scatter\"}],\"parcoords\":[{\"type\":\"parcoords\",\"line\":{\"colorbar\":{\"outlinewidth\":0,\"ticks\":\"\"}}}],\"scatterpolargl\":[{\"type\":\"scatterpolargl\",\"marker\":{\"colorbar\":{\"outlinewidth\":0,\"ticks\":\"\"}}}],\"bar\":[{\"error_x\":{\"color\":\"#2a3f5f\"},\"error_y\":{\"color\":\"#2a3f5f\"},\"marker\":{\"line\":{\"color\":\"#E5ECF6\",\"width\":0.5},\"pattern\":{\"fillmode\":\"overlay\",\"size\":10,\"solidity\":0.2}},\"type\":\"bar\"}],\"scattergeo\":[{\"type\":\"scattergeo\",\"marker\":{\"colorbar\":{\"outlinewidth\":0,\"ticks\":\"\"}}}],\"scatterpolar\":[{\"type\":\"scatterpolar\",\"marker\":{\"colorbar\":{\"outlinewidth\":0,\"ticks\":\"\"}}}],\"histogram\":[{\"marker\":{\"pattern\":{\"fillmode\":\"overlay\",\"size\":10,\"solidity\":0.2}},\"type\":\"histogram\"}],\"scattergl\":[{\"type\":\"scattergl\",\"marker\":{\"colorbar\":{\"outlinewidth\":0,\"ticks\":\"\"}}}],\"scatter3d\":[{\"type\":\"scatter3d\",\"line\":{\"colorbar\":{\"outlinewidth\":0,\"ticks\":\"\"}},\"marker\":{\"colorbar\":{\"outlinewidth\":0,\"ticks\":\"\"}}}],\"scattermapbox\":[{\"type\":\"scattermapbox\",\"marker\":{\"colorbar\":{\"outlinewidth\":0,\"ticks\":\"\"}}}],\"scatterternary\":[{\"type\":\"scatterternary\",\"marker\":{\"colorbar\":{\"outlinewidth\":0,\"ticks\":\"\"}}}],\"scattercarpet\":[{\"type\":\"scattercarpet\",\"marker\":{\"colorbar\":{\"outlinewidth\":0,\"ticks\":\"\"}}}],\"carpet\":[{\"aaxis\":{\"endlinecolor\":\"#2a3f5f\",\"gridcolor\":\"white\",\"linecolor\":\"white\",\"minorgridcolor\":\"white\",\"startlinecolor\":\"#2a3f5f\"},\"baxis\":{\"endlinecolor\":\"#2a3f5f\",\"gridcolor\":\"white\",\"linecolor\":\"white\",\"minorgridcolor\":\"white\",\"startlinecolor\":\"#2a3f5f\"},\"type\":\"carpet\"}],\"table\":[{\"cells\":{\"fill\":{\"color\":\"#EBF0F8\"},\"line\":{\"color\":\"white\"}},\"header\":{\"fill\":{\"color\":\"#C8D4E3\"},\"line\":{\"color\":\"white\"}},\"type\":\"table\"}],\"barpolar\":[{\"marker\":{\"line\":{\"color\":\"#E5ECF6\",\"width\":0.5},\"pattern\":{\"fillmode\":\"overlay\",\"size\":10,\"solidity\":0.2}},\"type\":\"barpolar\"}],\"pie\":[{\"automargin\":true,\"type\":\"pie\"}]},\"layout\":{\"autotypenumbers\":\"strict\",\"colorway\":[\"#636efa\",\"#EF553B\",\"#00cc96\",\"#ab63fa\",\"#FFA15A\",\"#19d3f3\",\"#FF6692\",\"#B6E880\",\"#FF97FF\",\"#FECB52\"],\"font\":{\"color\":\"#2a3f5f\"},\"hovermode\":\"closest\",\"hoverlabel\":{\"align\":\"left\"},\"paper_bgcolor\":\"white\",\"plot_bgcolor\":\"#E5ECF6\",\"polar\":{\"bgcolor\":\"#E5ECF6\",\"angularaxis\":{\"gridcolor\":\"white\",\"linecolor\":\"white\",\"ticks\":\"\"},\"radialaxis\":{\"gridcolor\":\"white\",\"linecolor\":\"white\",\"ticks\":\"\"}},\"ternary\":{\"bgcolor\":\"#E5ECF6\",\"aaxis\":{\"gridcolor\":\"white\",\"linecolor\":\"white\",\"ticks\":\"\"},\"baxis\":{\"gridcolor\":\"white\",\"linecolor\":\"white\",\"ticks\":\"\"},\"caxis\":{\"gridcolor\":\"white\",\"linecolor\":\"white\",\"ticks\":\"\"}},\"coloraxis\":{\"colorbar\":{\"outlinewidth\":0,\"ticks\":\"\"}},\"colorscale\":{\"sequential\":[[0.0,\"#0d0887\"],[0.1111111111111111,\"#46039f\"],[0.2222222222222222,\"#7201a8\"],[0.3333333333333333,\"#9c179e\"],[0.4444444444444444,\"#bd3786\"],[0.5555555555555556,\"#d8576b\"],[0.6666666666666666,\"#ed7953\"],[0.7777777777777778,\"#fb9f3a\"],[0.8888888888888888,\"#fdca26\"],[1.0,\"#f0f921\"]],\"sequentialminus\":[[0.0,\"#0d0887\"],[0.1111111111111111,\"#46039f\"],[0.2222222222222222,\"#7201a8\"],[0.3333333333333333,\"#9c179e\"],[0.4444444444444444,\"#bd3786\"],[0.5555555555555556,\"#d8576b\"],[0.6666666666666666,\"#ed7953\"],[0.7777777777777778,\"#fb9f3a\"],[0.8888888888888888,\"#fdca26\"],[1.0,\"#f0f921\"]],\"diverging\":[[0,\"#8e0152\"],[0.1,\"#c51b7d\"],[0.2,\"#de77ae\"],[0.3,\"#f1b6da\"],[0.4,\"#fde0ef\"],[0.5,\"#f7f7f7\"],[0.6,\"#e6f5d0\"],[0.7,\"#b8e186\"],[0.8,\"#7fbc41\"],[0.9,\"#4d9221\"],[1,\"#276419\"]]},\"xaxis\":{\"gridcolor\":\"white\",\"linecolor\":\"white\",\"ticks\":\"\",\"title\":{\"standoff\":15},\"zerolinecolor\":\"white\",\"automargin\":true,\"zerolinewidth\":2},\"yaxis\":{\"gridcolor\":\"white\",\"linecolor\":\"white\",\"ticks\":\"\",\"title\":{\"standoff\":15},\"zerolinecolor\":\"white\",\"automargin\":true,\"zerolinewidth\":2},\"scene\":{\"xaxis\":{\"backgroundcolor\":\"#E5ECF6\",\"gridcolor\":\"white\",\"linecolor\":\"white\",\"showbackground\":true,\"ticks\":\"\",\"zerolinecolor\":\"white\",\"gridwidth\":2},\"yaxis\":{\"backgroundcolor\":\"#E5ECF6\",\"gridcolor\":\"white\",\"linecolor\":\"white\",\"showbackground\":true,\"ticks\":\"\",\"zerolinecolor\":\"white\",\"gridwidth\":2},\"zaxis\":{\"backgroundcolor\":\"#E5ECF6\",\"gridcolor\":\"white\",\"linecolor\":\"white\",\"showbackground\":true,\"ticks\":\"\",\"zerolinecolor\":\"white\",\"gridwidth\":2}},\"shapedefaults\":{\"line\":{\"color\":\"#2a3f5f\"}},\"annotationdefaults\":{\"arrowcolor\":\"#2a3f5f\",\"arrowhead\":0,\"arrowwidth\":1},\"geo\":{\"bgcolor\":\"white\",\"landcolor\":\"#E5ECF6\",\"subunitcolor\":\"white\",\"showland\":true,\"showlakes\":true,\"lakecolor\":\"white\"},\"title\":{\"x\":0.05},\"mapbox\":{\"style\":\"light\"}}},\"xaxis\":{\"anchor\":\"y\",\"domain\":[0.0,0.45],\"title\":{\"text\":\"Nombre\"}},\"yaxis\":{\"anchor\":\"x\",\"domain\":[0.0,1.0],\"title\":{\"text\":\"Valor en Euros\"}},\"xaxis2\":{\"anchor\":\"y2\",\"domain\":[0.55,1.0]},\"yaxis2\":{\"anchor\":\"x2\",\"domain\":[0.0,1.0]},\"title\":{\"text\":\"Valor del Jugador vs Media y Potencial\",\"y\":0.9,\"x\":0.5,\"xanchor\":\"center\",\"yanchor\":\"top\"}},                        {\"responsive\": true}                    ).then(function(){\n",
              "                            \n",
              "var gd = document.getElementById('b47d0f73-172d-4bd5-b300-14e60ca74e03');\n",
              "var x = new MutationObserver(function (mutations, observer) {{\n",
              "        var display = window.getComputedStyle(gd).display;\n",
              "        if (!display || display === 'none') {{\n",
              "            console.log([gd, 'removed!']);\n",
              "            Plotly.purge(gd);\n",
              "            observer.disconnect();\n",
              "        }}\n",
              "}});\n",
              "\n",
              "// Listen for the removal of the full notebook cells\n",
              "var notebookContainer = gd.closest('#notebook-container');\n",
              "if (notebookContainer) {{\n",
              "    x.observe(notebookContainer, {childList: true});\n",
              "}}\n",
              "\n",
              "// Listen for the clearing of the current output cell\n",
              "var outputEl = gd.closest('.output');\n",
              "if (outputEl) {{\n",
              "    x.observe(outputEl, {childList: true});\n",
              "}}\n",
              "\n",
              "                        })                };                            </script>        </div>\n",
              "</body>\n",
              "</html>"
            ]
          },
          "metadata": {}
        }
      ]
    },
    {
      "cell_type": "markdown",
      "source": [
        "En el siguiente grafico podemos ver algo parecido al anterior:\n",
        "\n",
        "Por ejemplo: En este caso Ansu Fati con 20 años, un potencial de 90, cobra 44 K por temporada. Mientras que Benzema, con 33 años, media de 89 cobra 310 K por temporada."
      ],
      "metadata": {
        "id": "Cei8H9Opz8QM"
      }
    },
    {
      "cell_type": "code",
      "source": [
        "top_50_overall_sueldos = top_50_overall.sort_values('wage_eur',ascending=True)\n",
        "top_50_potential_sueldos= top_50_potential.sort_values('wage_eur',ascending=True)\n",
        "\n",
        "fig = make_subplots(rows=1, cols=2)\n",
        "\n",
        "\n",
        "fig.add_trace(go.Bar(x=top_50_overall_sueldos[\"short_name\"], y=top_50_overall_sueldos[\"wage_eur\"],\n",
        "                    name='Media', marker=dict(color='blue')), row=1, col=1)\n",
        "\n",
        "\n",
        "fig.add_trace(go.Bar(x=top_50_potential_sueldos[\"short_name\"], y=top_50_potential_sueldos[\"wage_eur\"],\n",
        "                    name='Potencial', marker=dict(color='orange')), row=1, col=2)\n",
        "\n",
        "fig.update_layout(title={\n",
        "        'text': \"Sueldo del Jugador VS Media y Potencial\",\n",
        "        'y':0.9,\n",
        "        'x':0.5,\n",
        "        'xanchor': 'center',\n",
        "        'yanchor': 'top'}, xaxis_title='Nombre', yaxis_title='Sueldo en Euros')\n",
        "\n",
        "fig.show()\n"
      ],
      "metadata": {
        "colab": {
          "base_uri": "https://localhost:8080/",
          "height": 542
        },
        "id": "-zmeatMLr-40",
        "outputId": "eaccc729-87a4-4e5a-f38d-61a3aea61b3c"
      },
      "execution_count": null,
      "outputs": [
        {
          "output_type": "display_data",
          "data": {
            "text/html": [
              "<html>\n",
              "<head><meta charset=\"utf-8\" /></head>\n",
              "<body>\n",
              "    <div>            <script src=\"https://cdnjs.cloudflare.com/ajax/libs/mathjax/2.7.5/MathJax.js?config=TeX-AMS-MML_SVG\"></script><script type=\"text/javascript\">if (window.MathJax && window.MathJax.Hub && window.MathJax.Hub.Config) {window.MathJax.Hub.Config({SVG: {font: \"STIX-Web\"}});}</script>                <script type=\"text/javascript\">window.PlotlyConfig = {MathJaxConfig: 'local'};</script>\n",
              "        <script src=\"https://cdn.plot.ly/plotly-2.18.2.min.js\"></script>                <div id=\"12fd8956-745a-4435-be7f-a85c4d847208\" class=\"plotly-graph-div\" style=\"height:525px; width:100%;\"></div>            <script type=\"text/javascript\">                                    window.PLOTLYENV=window.PLOTLYENV || {};                                    if (document.getElementById(\"12fd8956-745a-4435-be7f-a85c4d847208\")) {                    Plotly.newPlot(                        \"12fd8956-745a-4435-be7f-a85c4d847208\",                        [{\"marker\":{\"color\":\"blue\"},\"name\":\"Media\",\"x\":[\"S. Handanovi\\u010d\",\"M. Neuer\",\"G. Chiellini\",\"M. Hummels\",\"W. Szcz\\u0119sny\",\"E. Haaland\",\"G. Donnarumma\",\"Sergio Ramos\",\"C. Immobile\",\"H. Lloris\",\"J. Oblak\",\"K. Navas\",\"L. Su\\u00e1rez\",\"Marquinhos\",\"T. M\\u00fcller\",\"L. Goretzka\",\"J. Sancho\",\"T. Alexander-Arnold\",\"M. Verratti\",\"J. Kimmich\",\"P. Dybala\",\"\\u00c1. Di Mar\\u00eda\",\"R\\u00faben Dias\",\"A. Robertson\",\"L. Modri\\u0107\",\"Alisson\",\"Ederson\",\"F. de Jong\",\"H. Son\",\"P. Pogba\",\"K. Mbapp\\u00e9\",\"N. Kant\\u00e9\",\"V. van Dijk\",\"H. Kane\",\"Bruno Fernandes\",\"T. Courtois\",\"M. ter Stegen\",\"R. Lukaku\",\"S. Ag\\u00fcero\",\"S. Man\\u00e9\",\"M. Salah\",\"Neymar Jr\",\"Cristiano Ronaldo\",\"R. Lewandowski\",\"R. Sterling\",\"Casemiro\",\"T. Kroos\",\"L. Messi\",\"K. Benzema\",\"K. De Bruyne\"],\"y\":[78000.0,86000.0,88000.0,95000.0,105000.0,110000.0,110000.0,115000.0,125000.0,125000.0,130000.0,130000.0,135000.0,135000.0,140000.0,140000.0,150000.0,150000.0,155000.0,160000.0,160000.0,160000.0,170000.0,175000.0,190000.0,190000.0,200000.0,210000.0,220000.0,220000.0,230000.0,230000.0,230000.0,240000.0,250000.0,250000.0,250000.0,260000.0,260000.0,270000.0,270000.0,270000.0,270000.0,270000.0,290000.0,310000.0,310000.0,320000.0,350000.0,350000.0],\"type\":\"bar\",\"xaxis\":\"x\",\"yaxis\":\"y\"},{\"marker\":{\"color\":\"orange\"},\"name\":\"Potencial\",\"x\":[\"Nuno Mendes\",\"N. Madueke\",\"R. Gravenberch\",\"Antony\",\"F. Wirtz\",\"Pedro Gon\\u00e7alves\",\"J. Bellingham\",\"G. Raspadori\",\"J. Kound\\u00e9\",\"Pau Torres\",\"Carlos Soler\",\"Ansu Fati\",\"E. Camavinga\",\"M. Maignan\",\"E. Tapsoba\",\"Pedri\",\"T. Hern\\u00e1ndez\",\"M. Diaby\",\"M. Greenwood\",\"Oyarzabal\",\"A. Davies\",\"Jo\\u00e3o F\\u00e9lix\",\"D. Upamecano\",\"D. Kulusevski\",\"F. Chiesa\",\"T. Kubo\",\"A. Bastoni\",\"M. de Ligt\",\"M. \\u00d8degaard\",\"J. Gomez\",\"E. Haaland\",\"G. Donnarumma\",\"N. Barella\",\"W. Ndidi\",\"Ferran Torres\",\"M. Mount\",\"C. Pulisic\",\"Vin\\u00edcius Jr.\",\"P. Foden\",\"\\u00c9der Milit\\u00e3o\",\"K. Havertz\",\"L. Mart\\u00ednez\",\"J. Sancho\",\"M. Rashford\",\"T. Alexander-Arnold\",\"F. Valverde\",\"R\\u00faben Dias\",\"Rodri\",\"F. de Jong\",\"K. Mbapp\\u00e9\"],\"y\":[8000.0,11000.0,11000.0,17000.0,18000.0,19000.0,21000.0,22000.0,33000.0,35000.0,39000.0,44000.0,44000.0,45000.0,49000.0,51000.0,51000.0,52000.0,56000.0,57000.0,59000.0,61000.0,70000.0,72000.0,74000.0,77000.0,77000.0,81000.0,89000.0,100000.0,110000.0,110000.0,120000.0,120000.0,120000.0,120000.0,120000.0,120000.0,125000.0,130000.0,130000.0,145000.0,150000.0,150000.0,150000.0,160000.0,170000.0,175000.0,210000.0,230000.0],\"type\":\"bar\",\"xaxis\":\"x2\",\"yaxis\":\"y2\"}],                        {\"template\":{\"data\":{\"histogram2dcontour\":[{\"type\":\"histogram2dcontour\",\"colorbar\":{\"outlinewidth\":0,\"ticks\":\"\"},\"colorscale\":[[0.0,\"#0d0887\"],[0.1111111111111111,\"#46039f\"],[0.2222222222222222,\"#7201a8\"],[0.3333333333333333,\"#9c179e\"],[0.4444444444444444,\"#bd3786\"],[0.5555555555555556,\"#d8576b\"],[0.6666666666666666,\"#ed7953\"],[0.7777777777777778,\"#fb9f3a\"],[0.8888888888888888,\"#fdca26\"],[1.0,\"#f0f921\"]]}],\"choropleth\":[{\"type\":\"choropleth\",\"colorbar\":{\"outlinewidth\":0,\"ticks\":\"\"}}],\"histogram2d\":[{\"type\":\"histogram2d\",\"colorbar\":{\"outlinewidth\":0,\"ticks\":\"\"},\"colorscale\":[[0.0,\"#0d0887\"],[0.1111111111111111,\"#46039f\"],[0.2222222222222222,\"#7201a8\"],[0.3333333333333333,\"#9c179e\"],[0.4444444444444444,\"#bd3786\"],[0.5555555555555556,\"#d8576b\"],[0.6666666666666666,\"#ed7953\"],[0.7777777777777778,\"#fb9f3a\"],[0.8888888888888888,\"#fdca26\"],[1.0,\"#f0f921\"]]}],\"heatmap\":[{\"type\":\"heatmap\",\"colorbar\":{\"outlinewidth\":0,\"ticks\":\"\"},\"colorscale\":[[0.0,\"#0d0887\"],[0.1111111111111111,\"#46039f\"],[0.2222222222222222,\"#7201a8\"],[0.3333333333333333,\"#9c179e\"],[0.4444444444444444,\"#bd3786\"],[0.5555555555555556,\"#d8576b\"],[0.6666666666666666,\"#ed7953\"],[0.7777777777777778,\"#fb9f3a\"],[0.8888888888888888,\"#fdca26\"],[1.0,\"#f0f921\"]]}],\"heatmapgl\":[{\"type\":\"heatmapgl\",\"colorbar\":{\"outlinewidth\":0,\"ticks\":\"\"},\"colorscale\":[[0.0,\"#0d0887\"],[0.1111111111111111,\"#46039f\"],[0.2222222222222222,\"#7201a8\"],[0.3333333333333333,\"#9c179e\"],[0.4444444444444444,\"#bd3786\"],[0.5555555555555556,\"#d8576b\"],[0.6666666666666666,\"#ed7953\"],[0.7777777777777778,\"#fb9f3a\"],[0.8888888888888888,\"#fdca26\"],[1.0,\"#f0f921\"]]}],\"contourcarpet\":[{\"type\":\"contourcarpet\",\"colorbar\":{\"outlinewidth\":0,\"ticks\":\"\"}}],\"contour\":[{\"type\":\"contour\",\"colorbar\":{\"outlinewidth\":0,\"ticks\":\"\"},\"colorscale\":[[0.0,\"#0d0887\"],[0.1111111111111111,\"#46039f\"],[0.2222222222222222,\"#7201a8\"],[0.3333333333333333,\"#9c179e\"],[0.4444444444444444,\"#bd3786\"],[0.5555555555555556,\"#d8576b\"],[0.6666666666666666,\"#ed7953\"],[0.7777777777777778,\"#fb9f3a\"],[0.8888888888888888,\"#fdca26\"],[1.0,\"#f0f921\"]]}],\"surface\":[{\"type\":\"surface\",\"colorbar\":{\"outlinewidth\":0,\"ticks\":\"\"},\"colorscale\":[[0.0,\"#0d0887\"],[0.1111111111111111,\"#46039f\"],[0.2222222222222222,\"#7201a8\"],[0.3333333333333333,\"#9c179e\"],[0.4444444444444444,\"#bd3786\"],[0.5555555555555556,\"#d8576b\"],[0.6666666666666666,\"#ed7953\"],[0.7777777777777778,\"#fb9f3a\"],[0.8888888888888888,\"#fdca26\"],[1.0,\"#f0f921\"]]}],\"mesh3d\":[{\"type\":\"mesh3d\",\"colorbar\":{\"outlinewidth\":0,\"ticks\":\"\"}}],\"scatter\":[{\"fillpattern\":{\"fillmode\":\"overlay\",\"size\":10,\"solidity\":0.2},\"type\":\"scatter\"}],\"parcoords\":[{\"type\":\"parcoords\",\"line\":{\"colorbar\":{\"outlinewidth\":0,\"ticks\":\"\"}}}],\"scatterpolargl\":[{\"type\":\"scatterpolargl\",\"marker\":{\"colorbar\":{\"outlinewidth\":0,\"ticks\":\"\"}}}],\"bar\":[{\"error_x\":{\"color\":\"#2a3f5f\"},\"error_y\":{\"color\":\"#2a3f5f\"},\"marker\":{\"line\":{\"color\":\"#E5ECF6\",\"width\":0.5},\"pattern\":{\"fillmode\":\"overlay\",\"size\":10,\"solidity\":0.2}},\"type\":\"bar\"}],\"scattergeo\":[{\"type\":\"scattergeo\",\"marker\":{\"colorbar\":{\"outlinewidth\":0,\"ticks\":\"\"}}}],\"scatterpolar\":[{\"type\":\"scatterpolar\",\"marker\":{\"colorbar\":{\"outlinewidth\":0,\"ticks\":\"\"}}}],\"histogram\":[{\"marker\":{\"pattern\":{\"fillmode\":\"overlay\",\"size\":10,\"solidity\":0.2}},\"type\":\"histogram\"}],\"scattergl\":[{\"type\":\"scattergl\",\"marker\":{\"colorbar\":{\"outlinewidth\":0,\"ticks\":\"\"}}}],\"scatter3d\":[{\"type\":\"scatter3d\",\"line\":{\"colorbar\":{\"outlinewidth\":0,\"ticks\":\"\"}},\"marker\":{\"colorbar\":{\"outlinewidth\":0,\"ticks\":\"\"}}}],\"scattermapbox\":[{\"type\":\"scattermapbox\",\"marker\":{\"colorbar\":{\"outlinewidth\":0,\"ticks\":\"\"}}}],\"scatterternary\":[{\"type\":\"scatterternary\",\"marker\":{\"colorbar\":{\"outlinewidth\":0,\"ticks\":\"\"}}}],\"scattercarpet\":[{\"type\":\"scattercarpet\",\"marker\":{\"colorbar\":{\"outlinewidth\":0,\"ticks\":\"\"}}}],\"carpet\":[{\"aaxis\":{\"endlinecolor\":\"#2a3f5f\",\"gridcolor\":\"white\",\"linecolor\":\"white\",\"minorgridcolor\":\"white\",\"startlinecolor\":\"#2a3f5f\"},\"baxis\":{\"endlinecolor\":\"#2a3f5f\",\"gridcolor\":\"white\",\"linecolor\":\"white\",\"minorgridcolor\":\"white\",\"startlinecolor\":\"#2a3f5f\"},\"type\":\"carpet\"}],\"table\":[{\"cells\":{\"fill\":{\"color\":\"#EBF0F8\"},\"line\":{\"color\":\"white\"}},\"header\":{\"fill\":{\"color\":\"#C8D4E3\"},\"line\":{\"color\":\"white\"}},\"type\":\"table\"}],\"barpolar\":[{\"marker\":{\"line\":{\"color\":\"#E5ECF6\",\"width\":0.5},\"pattern\":{\"fillmode\":\"overlay\",\"size\":10,\"solidity\":0.2}},\"type\":\"barpolar\"}],\"pie\":[{\"automargin\":true,\"type\":\"pie\"}]},\"layout\":{\"autotypenumbers\":\"strict\",\"colorway\":[\"#636efa\",\"#EF553B\",\"#00cc96\",\"#ab63fa\",\"#FFA15A\",\"#19d3f3\",\"#FF6692\",\"#B6E880\",\"#FF97FF\",\"#FECB52\"],\"font\":{\"color\":\"#2a3f5f\"},\"hovermode\":\"closest\",\"hoverlabel\":{\"align\":\"left\"},\"paper_bgcolor\":\"white\",\"plot_bgcolor\":\"#E5ECF6\",\"polar\":{\"bgcolor\":\"#E5ECF6\",\"angularaxis\":{\"gridcolor\":\"white\",\"linecolor\":\"white\",\"ticks\":\"\"},\"radialaxis\":{\"gridcolor\":\"white\",\"linecolor\":\"white\",\"ticks\":\"\"}},\"ternary\":{\"bgcolor\":\"#E5ECF6\",\"aaxis\":{\"gridcolor\":\"white\",\"linecolor\":\"white\",\"ticks\":\"\"},\"baxis\":{\"gridcolor\":\"white\",\"linecolor\":\"white\",\"ticks\":\"\"},\"caxis\":{\"gridcolor\":\"white\",\"linecolor\":\"white\",\"ticks\":\"\"}},\"coloraxis\":{\"colorbar\":{\"outlinewidth\":0,\"ticks\":\"\"}},\"colorscale\":{\"sequential\":[[0.0,\"#0d0887\"],[0.1111111111111111,\"#46039f\"],[0.2222222222222222,\"#7201a8\"],[0.3333333333333333,\"#9c179e\"],[0.4444444444444444,\"#bd3786\"],[0.5555555555555556,\"#d8576b\"],[0.6666666666666666,\"#ed7953\"],[0.7777777777777778,\"#fb9f3a\"],[0.8888888888888888,\"#fdca26\"],[1.0,\"#f0f921\"]],\"sequentialminus\":[[0.0,\"#0d0887\"],[0.1111111111111111,\"#46039f\"],[0.2222222222222222,\"#7201a8\"],[0.3333333333333333,\"#9c179e\"],[0.4444444444444444,\"#bd3786\"],[0.5555555555555556,\"#d8576b\"],[0.6666666666666666,\"#ed7953\"],[0.7777777777777778,\"#fb9f3a\"],[0.8888888888888888,\"#fdca26\"],[1.0,\"#f0f921\"]],\"diverging\":[[0,\"#8e0152\"],[0.1,\"#c51b7d\"],[0.2,\"#de77ae\"],[0.3,\"#f1b6da\"],[0.4,\"#fde0ef\"],[0.5,\"#f7f7f7\"],[0.6,\"#e6f5d0\"],[0.7,\"#b8e186\"],[0.8,\"#7fbc41\"],[0.9,\"#4d9221\"],[1,\"#276419\"]]},\"xaxis\":{\"gridcolor\":\"white\",\"linecolor\":\"white\",\"ticks\":\"\",\"title\":{\"standoff\":15},\"zerolinecolor\":\"white\",\"automargin\":true,\"zerolinewidth\":2},\"yaxis\":{\"gridcolor\":\"white\",\"linecolor\":\"white\",\"ticks\":\"\",\"title\":{\"standoff\":15},\"zerolinecolor\":\"white\",\"automargin\":true,\"zerolinewidth\":2},\"scene\":{\"xaxis\":{\"backgroundcolor\":\"#E5ECF6\",\"gridcolor\":\"white\",\"linecolor\":\"white\",\"showbackground\":true,\"ticks\":\"\",\"zerolinecolor\":\"white\",\"gridwidth\":2},\"yaxis\":{\"backgroundcolor\":\"#E5ECF6\",\"gridcolor\":\"white\",\"linecolor\":\"white\",\"showbackground\":true,\"ticks\":\"\",\"zerolinecolor\":\"white\",\"gridwidth\":2},\"zaxis\":{\"backgroundcolor\":\"#E5ECF6\",\"gridcolor\":\"white\",\"linecolor\":\"white\",\"showbackground\":true,\"ticks\":\"\",\"zerolinecolor\":\"white\",\"gridwidth\":2}},\"shapedefaults\":{\"line\":{\"color\":\"#2a3f5f\"}},\"annotationdefaults\":{\"arrowcolor\":\"#2a3f5f\",\"arrowhead\":0,\"arrowwidth\":1},\"geo\":{\"bgcolor\":\"white\",\"landcolor\":\"#E5ECF6\",\"subunitcolor\":\"white\",\"showland\":true,\"showlakes\":true,\"lakecolor\":\"white\"},\"title\":{\"x\":0.05},\"mapbox\":{\"style\":\"light\"}}},\"xaxis\":{\"anchor\":\"y\",\"domain\":[0.0,0.45],\"title\":{\"text\":\"Nombre\"}},\"yaxis\":{\"anchor\":\"x\",\"domain\":[0.0,1.0],\"title\":{\"text\":\"Sueldo en Euros\"}},\"xaxis2\":{\"anchor\":\"y2\",\"domain\":[0.55,1.0]},\"yaxis2\":{\"anchor\":\"x2\",\"domain\":[0.0,1.0]},\"title\":{\"text\":\"Sueldo del Jugador VS Media y Potencial\",\"y\":0.9,\"x\":0.5,\"xanchor\":\"center\",\"yanchor\":\"top\"}},                        {\"responsive\": true}                    ).then(function(){\n",
              "                            \n",
              "var gd = document.getElementById('12fd8956-745a-4435-be7f-a85c4d847208');\n",
              "var x = new MutationObserver(function (mutations, observer) {{\n",
              "        var display = window.getComputedStyle(gd).display;\n",
              "        if (!display || display === 'none') {{\n",
              "            console.log([gd, 'removed!']);\n",
              "            Plotly.purge(gd);\n",
              "            observer.disconnect();\n",
              "        }}\n",
              "}});\n",
              "\n",
              "// Listen for the removal of the full notebook cells\n",
              "var notebookContainer = gd.closest('#notebook-container');\n",
              "if (notebookContainer) {{\n",
              "    x.observe(notebookContainer, {childList: true});\n",
              "}}\n",
              "\n",
              "// Listen for the clearing of the current output cell\n",
              "var outputEl = gd.closest('.output');\n",
              "if (outputEl) {{\n",
              "    x.observe(outputEl, {childList: true});\n",
              "}}\n",
              "\n",
              "                        })                };                            </script>        </div>\n",
              "</body>\n",
              "</html>"
            ]
          },
          "metadata": {}
        }
      ]
    },
    {
      "cell_type": "markdown",
      "source": [
        "3. Cual es el promedio de sueldo de los grandes jugadores? y el promedio del valor de los grandes jugadores?"
      ],
      "metadata": {
        "id": "e4HKAXXliwUl"
      }
    },
    {
      "cell_type": "markdown",
      "source": [
        "En este punto, lo que vamos a analizar es:\n",
        "\n",
        "El promedio de sueldo del TOP 50, esto nos da referencia que los valores que estan por encima de ese promedio, es que ganan mas que lo normal, y los que ganan menos, lo contrario. Con esta pregunta tambien podemos ayudarnos a la hora de negociar, saber cual es el promedio de los jugadores estrellas y establecer un sueldo menor para comenzar a negociar, hasta llegar al promedio."
      ],
      "metadata": {
        "id": "p_ajLeYmi96H"
      }
    },
    {
      "cell_type": "markdown",
      "source": [
        "Podemos observar que el TOP 50 potencial, hay una mayor varianza respectoa a la media, los datos estan mas distribuidos, por lo que tendremos mas posibilades de negociar entre uno y otro jugador. Pero podemos ver tambien que la media del TOP 50 Potencial, es menor al otro, entonces va a ser mas accesible, negociar con estos jugadores porque tendremos que comenzar desde mas abajo a ofrece sueldos."
      ],
      "metadata": {
        "id": "wMo1mmjiyVjh"
      }
    },
    {
      "cell_type": "code",
      "source": [
        "fig = go.Figure()\n",
        "fig.add_trace(go.Box(x=top_50_overall[\"wage_eur\"], name=\"Sueldo TOP 50 Media\",text=top_50_overall[\"short_name\"]))\n",
        "fig.add_trace(go.Box(x=top_50_potential[\"wage_eur\"],name=\"Sueldo TOP 50 Potencial\",text=top_50_potential[\"short_name\"]))\n",
        "\n",
        "fig.update_traces(boxpoints='all', jitter=0)\n",
        "fig.show()\n"
      ],
      "metadata": {
        "colab": {
          "base_uri": "https://localhost:8080/",
          "height": 542
        },
        "id": "ZXzy8aprlk-O",
        "outputId": "281c49e1-860b-4e3e-bf87-29ffb290a9bd"
      },
      "execution_count": null,
      "outputs": [
        {
          "output_type": "display_data",
          "data": {
            "text/html": [
              "<html>\n",
              "<head><meta charset=\"utf-8\" /></head>\n",
              "<body>\n",
              "    <div>            <script src=\"https://cdnjs.cloudflare.com/ajax/libs/mathjax/2.7.5/MathJax.js?config=TeX-AMS-MML_SVG\"></script><script type=\"text/javascript\">if (window.MathJax && window.MathJax.Hub && window.MathJax.Hub.Config) {window.MathJax.Hub.Config({SVG: {font: \"STIX-Web\"}});}</script>                <script type=\"text/javascript\">window.PlotlyConfig = {MathJaxConfig: 'local'};</script>\n",
              "        <script src=\"https://cdn.plot.ly/plotly-2.18.2.min.js\"></script>                <div id=\"5c7e938c-b8bc-46da-9226-495f5ef82e13\" class=\"plotly-graph-div\" style=\"height:525px; width:100%;\"></div>            <script type=\"text/javascript\">                                    window.PLOTLYENV=window.PLOTLYENV || {};                                    if (document.getElementById(\"5c7e938c-b8bc-46da-9226-495f5ef82e13\")) {                    Plotly.newPlot(                        \"5c7e938c-b8bc-46da-9226-495f5ef82e13\",                        [{\"name\":\"Sueldo TOP 50 Media\",\"text\":[\"L. Messi\",\"R. Lewandowski\",\"Cristiano Ronaldo\",\"K. De Bruyne\",\"J. Oblak\",\"K. Mbapp\\u00e9\",\"Neymar Jr\",\"M. Neuer\",\"M. ter Stegen\",\"H. Kane\",\"N. Kant\\u00e9\",\"M. Salah\",\"G. Donnarumma\",\"Alisson\",\"J. Kimmich\",\"Ederson\",\"Casemiro\",\"S. Man\\u00e9\",\"V. van Dijk\",\"T. Courtois\",\"K. Benzema\",\"H. Son\",\"K. Navas\",\"E. Haaland\",\"Bruno Fernandes\",\"R. Sterling\",\"R. Lukaku\",\"T. Kroos\",\"L. Su\\u00e1rez\",\"Sergio Ramos\",\"R\\u00faben Dias\",\"J. Sancho\",\"T. Alexander-Arnold\",\"F. de Jong\",\"A. Robertson\",\"P. Dybala\",\"L. Goretzka\",\"Marquinhos\",\"M. Verratti\",\"P. Pogba\",\"C. Immobile\",\"T. M\\u00fcller\",\"W. Szcz\\u0119sny\",\"\\u00c1. Di Mar\\u00eda\",\"L. Modri\\u0107\",\"H. Lloris\",\"S. Ag\\u00fcero\",\"G. Chiellini\",\"S. Handanovi\\u010d\",\"M. Hummels\"],\"x\":[320000.0,270000.0,270000.0,350000.0,130000.0,230000.0,270000.0,86000.0,250000.0,240000.0,230000.0,270000.0,110000.0,190000.0,160000.0,200000.0,310000.0,270000.0,230000.0,250000.0,350000.0,220000.0,130000.0,110000.0,250000.0,290000.0,260000.0,310000.0,135000.0,115000.0,170000.0,150000.0,150000.0,210000.0,175000.0,160000.0,140000.0,135000.0,155000.0,220000.0,125000.0,140000.0,105000.0,160000.0,190000.0,125000.0,260000.0,88000.0,78000.0,95000.0],\"type\":\"box\",\"boxpoints\":\"all\",\"jitter\":0},{\"name\":\"Sueldo TOP 50 Potencial\",\"text\":[\"K. Mbapp\\u00e9\",\"E. Haaland\",\"G. Donnarumma\",\"F. de Jong\",\"T. Alexander-Arnold\",\"K. Havertz\",\"P. Foden\",\"Jo\\u00e3o F\\u00e9lix\",\"F. Chiesa\",\"Pedri\",\"R\\u00faben Dias\",\"J. Sancho\",\"Ferran Torres\",\"D. Upamecano\",\"R. Gravenberch\",\"Ansu Fati\",\"T. Hern\\u00e1ndez\",\"Vin\\u00edcius Jr.\",\"M. de Ligt\",\"M. Maignan\",\"F. Wirtz\",\"Rodri\",\"J. Bellingham\",\"L. Mart\\u00ednez\",\"J. Kound\\u00e9\",\"F. Valverde\",\"M. Rashford\",\"M. Mount\",\"D. Kulusevski\",\"Oyarzabal\",\"A. Bastoni\",\"E. Camavinga\",\"Pau Torres\",\"N. Barella\",\"\\u00c9der Milit\\u00e3o\",\"M. Greenwood\",\"A. Davies\",\"Nuno Mendes\",\"W. Ndidi\",\"E. Tapsoba\",\"Carlos Soler\",\"M. Diaby\",\"J. Gomez\",\"G. Raspadori\",\"C. Pulisic\",\"Pedro Gon\\u00e7alves\",\"M. \\u00d8degaard\",\"Antony\",\"T. Kubo\",\"N. Madueke\"],\"x\":[230000.0,110000.0,110000.0,210000.0,150000.0,130000.0,125000.0,61000.0,74000.0,51000.0,170000.0,150000.0,120000.0,70000.0,11000.0,44000.0,51000.0,120000.0,81000.0,45000.0,18000.0,175000.0,21000.0,145000.0,33000.0,160000.0,150000.0,120000.0,72000.0,57000.0,77000.0,44000.0,35000.0,120000.0,130000.0,56000.0,59000.0,8000.0,120000.0,49000.0,39000.0,52000.0,100000.0,22000.0,120000.0,19000.0,89000.0,17000.0,77000.0,11000.0],\"type\":\"box\",\"boxpoints\":\"all\",\"jitter\":0}],                        {\"template\":{\"data\":{\"histogram2dcontour\":[{\"type\":\"histogram2dcontour\",\"colorbar\":{\"outlinewidth\":0,\"ticks\":\"\"},\"colorscale\":[[0.0,\"#0d0887\"],[0.1111111111111111,\"#46039f\"],[0.2222222222222222,\"#7201a8\"],[0.3333333333333333,\"#9c179e\"],[0.4444444444444444,\"#bd3786\"],[0.5555555555555556,\"#d8576b\"],[0.6666666666666666,\"#ed7953\"],[0.7777777777777778,\"#fb9f3a\"],[0.8888888888888888,\"#fdca26\"],[1.0,\"#f0f921\"]]}],\"choropleth\":[{\"type\":\"choropleth\",\"colorbar\":{\"outlinewidth\":0,\"ticks\":\"\"}}],\"histogram2d\":[{\"type\":\"histogram2d\",\"colorbar\":{\"outlinewidth\":0,\"ticks\":\"\"},\"colorscale\":[[0.0,\"#0d0887\"],[0.1111111111111111,\"#46039f\"],[0.2222222222222222,\"#7201a8\"],[0.3333333333333333,\"#9c179e\"],[0.4444444444444444,\"#bd3786\"],[0.5555555555555556,\"#d8576b\"],[0.6666666666666666,\"#ed7953\"],[0.7777777777777778,\"#fb9f3a\"],[0.8888888888888888,\"#fdca26\"],[1.0,\"#f0f921\"]]}],\"heatmap\":[{\"type\":\"heatmap\",\"colorbar\":{\"outlinewidth\":0,\"ticks\":\"\"},\"colorscale\":[[0.0,\"#0d0887\"],[0.1111111111111111,\"#46039f\"],[0.2222222222222222,\"#7201a8\"],[0.3333333333333333,\"#9c179e\"],[0.4444444444444444,\"#bd3786\"],[0.5555555555555556,\"#d8576b\"],[0.6666666666666666,\"#ed7953\"],[0.7777777777777778,\"#fb9f3a\"],[0.8888888888888888,\"#fdca26\"],[1.0,\"#f0f921\"]]}],\"heatmapgl\":[{\"type\":\"heatmapgl\",\"colorbar\":{\"outlinewidth\":0,\"ticks\":\"\"},\"colorscale\":[[0.0,\"#0d0887\"],[0.1111111111111111,\"#46039f\"],[0.2222222222222222,\"#7201a8\"],[0.3333333333333333,\"#9c179e\"],[0.4444444444444444,\"#bd3786\"],[0.5555555555555556,\"#d8576b\"],[0.6666666666666666,\"#ed7953\"],[0.7777777777777778,\"#fb9f3a\"],[0.8888888888888888,\"#fdca26\"],[1.0,\"#f0f921\"]]}],\"contourcarpet\":[{\"type\":\"contourcarpet\",\"colorbar\":{\"outlinewidth\":0,\"ticks\":\"\"}}],\"contour\":[{\"type\":\"contour\",\"colorbar\":{\"outlinewidth\":0,\"ticks\":\"\"},\"colorscale\":[[0.0,\"#0d0887\"],[0.1111111111111111,\"#46039f\"],[0.2222222222222222,\"#7201a8\"],[0.3333333333333333,\"#9c179e\"],[0.4444444444444444,\"#bd3786\"],[0.5555555555555556,\"#d8576b\"],[0.6666666666666666,\"#ed7953\"],[0.7777777777777778,\"#fb9f3a\"],[0.8888888888888888,\"#fdca26\"],[1.0,\"#f0f921\"]]}],\"surface\":[{\"type\":\"surface\",\"colorbar\":{\"outlinewidth\":0,\"ticks\":\"\"},\"colorscale\":[[0.0,\"#0d0887\"],[0.1111111111111111,\"#46039f\"],[0.2222222222222222,\"#7201a8\"],[0.3333333333333333,\"#9c179e\"],[0.4444444444444444,\"#bd3786\"],[0.5555555555555556,\"#d8576b\"],[0.6666666666666666,\"#ed7953\"],[0.7777777777777778,\"#fb9f3a\"],[0.8888888888888888,\"#fdca26\"],[1.0,\"#f0f921\"]]}],\"mesh3d\":[{\"type\":\"mesh3d\",\"colorbar\":{\"outlinewidth\":0,\"ticks\":\"\"}}],\"scatter\":[{\"fillpattern\":{\"fillmode\":\"overlay\",\"size\":10,\"solidity\":0.2},\"type\":\"scatter\"}],\"parcoords\":[{\"type\":\"parcoords\",\"line\":{\"colorbar\":{\"outlinewidth\":0,\"ticks\":\"\"}}}],\"scatterpolargl\":[{\"type\":\"scatterpolargl\",\"marker\":{\"colorbar\":{\"outlinewidth\":0,\"ticks\":\"\"}}}],\"bar\":[{\"error_x\":{\"color\":\"#2a3f5f\"},\"error_y\":{\"color\":\"#2a3f5f\"},\"marker\":{\"line\":{\"color\":\"#E5ECF6\",\"width\":0.5},\"pattern\":{\"fillmode\":\"overlay\",\"size\":10,\"solidity\":0.2}},\"type\":\"bar\"}],\"scattergeo\":[{\"type\":\"scattergeo\",\"marker\":{\"colorbar\":{\"outlinewidth\":0,\"ticks\":\"\"}}}],\"scatterpolar\":[{\"type\":\"scatterpolar\",\"marker\":{\"colorbar\":{\"outlinewidth\":0,\"ticks\":\"\"}}}],\"histogram\":[{\"marker\":{\"pattern\":{\"fillmode\":\"overlay\",\"size\":10,\"solidity\":0.2}},\"type\":\"histogram\"}],\"scattergl\":[{\"type\":\"scattergl\",\"marker\":{\"colorbar\":{\"outlinewidth\":0,\"ticks\":\"\"}}}],\"scatter3d\":[{\"type\":\"scatter3d\",\"line\":{\"colorbar\":{\"outlinewidth\":0,\"ticks\":\"\"}},\"marker\":{\"colorbar\":{\"outlinewidth\":0,\"ticks\":\"\"}}}],\"scattermapbox\":[{\"type\":\"scattermapbox\",\"marker\":{\"colorbar\":{\"outlinewidth\":0,\"ticks\":\"\"}}}],\"scatterternary\":[{\"type\":\"scatterternary\",\"marker\":{\"colorbar\":{\"outlinewidth\":0,\"ticks\":\"\"}}}],\"scattercarpet\":[{\"type\":\"scattercarpet\",\"marker\":{\"colorbar\":{\"outlinewidth\":0,\"ticks\":\"\"}}}],\"carpet\":[{\"aaxis\":{\"endlinecolor\":\"#2a3f5f\",\"gridcolor\":\"white\",\"linecolor\":\"white\",\"minorgridcolor\":\"white\",\"startlinecolor\":\"#2a3f5f\"},\"baxis\":{\"endlinecolor\":\"#2a3f5f\",\"gridcolor\":\"white\",\"linecolor\":\"white\",\"minorgridcolor\":\"white\",\"startlinecolor\":\"#2a3f5f\"},\"type\":\"carpet\"}],\"table\":[{\"cells\":{\"fill\":{\"color\":\"#EBF0F8\"},\"line\":{\"color\":\"white\"}},\"header\":{\"fill\":{\"color\":\"#C8D4E3\"},\"line\":{\"color\":\"white\"}},\"type\":\"table\"}],\"barpolar\":[{\"marker\":{\"line\":{\"color\":\"#E5ECF6\",\"width\":0.5},\"pattern\":{\"fillmode\":\"overlay\",\"size\":10,\"solidity\":0.2}},\"type\":\"barpolar\"}],\"pie\":[{\"automargin\":true,\"type\":\"pie\"}]},\"layout\":{\"autotypenumbers\":\"strict\",\"colorway\":[\"#636efa\",\"#EF553B\",\"#00cc96\",\"#ab63fa\",\"#FFA15A\",\"#19d3f3\",\"#FF6692\",\"#B6E880\",\"#FF97FF\",\"#FECB52\"],\"font\":{\"color\":\"#2a3f5f\"},\"hovermode\":\"closest\",\"hoverlabel\":{\"align\":\"left\"},\"paper_bgcolor\":\"white\",\"plot_bgcolor\":\"#E5ECF6\",\"polar\":{\"bgcolor\":\"#E5ECF6\",\"angularaxis\":{\"gridcolor\":\"white\",\"linecolor\":\"white\",\"ticks\":\"\"},\"radialaxis\":{\"gridcolor\":\"white\",\"linecolor\":\"white\",\"ticks\":\"\"}},\"ternary\":{\"bgcolor\":\"#E5ECF6\",\"aaxis\":{\"gridcolor\":\"white\",\"linecolor\":\"white\",\"ticks\":\"\"},\"baxis\":{\"gridcolor\":\"white\",\"linecolor\":\"white\",\"ticks\":\"\"},\"caxis\":{\"gridcolor\":\"white\",\"linecolor\":\"white\",\"ticks\":\"\"}},\"coloraxis\":{\"colorbar\":{\"outlinewidth\":0,\"ticks\":\"\"}},\"colorscale\":{\"sequential\":[[0.0,\"#0d0887\"],[0.1111111111111111,\"#46039f\"],[0.2222222222222222,\"#7201a8\"],[0.3333333333333333,\"#9c179e\"],[0.4444444444444444,\"#bd3786\"],[0.5555555555555556,\"#d8576b\"],[0.6666666666666666,\"#ed7953\"],[0.7777777777777778,\"#fb9f3a\"],[0.8888888888888888,\"#fdca26\"],[1.0,\"#f0f921\"]],\"sequentialminus\":[[0.0,\"#0d0887\"],[0.1111111111111111,\"#46039f\"],[0.2222222222222222,\"#7201a8\"],[0.3333333333333333,\"#9c179e\"],[0.4444444444444444,\"#bd3786\"],[0.5555555555555556,\"#d8576b\"],[0.6666666666666666,\"#ed7953\"],[0.7777777777777778,\"#fb9f3a\"],[0.8888888888888888,\"#fdca26\"],[1.0,\"#f0f921\"]],\"diverging\":[[0,\"#8e0152\"],[0.1,\"#c51b7d\"],[0.2,\"#de77ae\"],[0.3,\"#f1b6da\"],[0.4,\"#fde0ef\"],[0.5,\"#f7f7f7\"],[0.6,\"#e6f5d0\"],[0.7,\"#b8e186\"],[0.8,\"#7fbc41\"],[0.9,\"#4d9221\"],[1,\"#276419\"]]},\"xaxis\":{\"gridcolor\":\"white\",\"linecolor\":\"white\",\"ticks\":\"\",\"title\":{\"standoff\":15},\"zerolinecolor\":\"white\",\"automargin\":true,\"zerolinewidth\":2},\"yaxis\":{\"gridcolor\":\"white\",\"linecolor\":\"white\",\"ticks\":\"\",\"title\":{\"standoff\":15},\"zerolinecolor\":\"white\",\"automargin\":true,\"zerolinewidth\":2},\"scene\":{\"xaxis\":{\"backgroundcolor\":\"#E5ECF6\",\"gridcolor\":\"white\",\"linecolor\":\"white\",\"showbackground\":true,\"ticks\":\"\",\"zerolinecolor\":\"white\",\"gridwidth\":2},\"yaxis\":{\"backgroundcolor\":\"#E5ECF6\",\"gridcolor\":\"white\",\"linecolor\":\"white\",\"showbackground\":true,\"ticks\":\"\",\"zerolinecolor\":\"white\",\"gridwidth\":2},\"zaxis\":{\"backgroundcolor\":\"#E5ECF6\",\"gridcolor\":\"white\",\"linecolor\":\"white\",\"showbackground\":true,\"ticks\":\"\",\"zerolinecolor\":\"white\",\"gridwidth\":2}},\"shapedefaults\":{\"line\":{\"color\":\"#2a3f5f\"}},\"annotationdefaults\":{\"arrowcolor\":\"#2a3f5f\",\"arrowhead\":0,\"arrowwidth\":1},\"geo\":{\"bgcolor\":\"white\",\"landcolor\":\"#E5ECF6\",\"subunitcolor\":\"white\",\"showland\":true,\"showlakes\":true,\"lakecolor\":\"white\"},\"title\":{\"x\":0.05},\"mapbox\":{\"style\":\"light\"}}}},                        {\"responsive\": true}                    ).then(function(){\n",
              "                            \n",
              "var gd = document.getElementById('5c7e938c-b8bc-46da-9226-495f5ef82e13');\n",
              "var x = new MutationObserver(function (mutations, observer) {{\n",
              "        var display = window.getComputedStyle(gd).display;\n",
              "        if (!display || display === 'none') {{\n",
              "            console.log([gd, 'removed!']);\n",
              "            Plotly.purge(gd);\n",
              "            observer.disconnect();\n",
              "        }}\n",
              "}});\n",
              "\n",
              "// Listen for the removal of the full notebook cells\n",
              "var notebookContainer = gd.closest('#notebook-container');\n",
              "if (notebookContainer) {{\n",
              "    x.observe(notebookContainer, {childList: true});\n",
              "}}\n",
              "\n",
              "// Listen for the clearing of the current output cell\n",
              "var outputEl = gd.closest('.output');\n",
              "if (outputEl) {{\n",
              "    x.observe(outputEl, {childList: true});\n",
              "}}\n",
              "\n",
              "                        })                };                            </script>        </div>\n",
              "</body>\n",
              "</html>"
            ]
          },
          "metadata": {}
        }
      ]
    },
    {
      "cell_type": "markdown",
      "source": [
        "En este grafico vemos, que existen datos anomalos, lo que signifca que estan por fuera de la REF4, en este caso es Mbappe, ese jugador sera muy dificil de comprar."
      ],
      "metadata": {
        "id": "C2iiIwaPzXb9"
      }
    },
    {
      "cell_type": "code",
      "source": [
        "fig = go.Figure()\n",
        "fig.add_trace(go.Box(x=top_50_overall[\"value_eur\"], name=\"Valor TOP 50 Media\",text=top_50_overall[\"short_name\"]))\n",
        "fig.add_trace(go.Box(x=top_50_potential[\"value_eur\"],name=\"Valor TOP 50 Potencial\",text=top_50_potential[\"short_name\"]))\n",
        "\n",
        "fig.update_traces(boxpoints='all', jitter=0)\n",
        "fig.show()\n"
      ],
      "metadata": {
        "colab": {
          "base_uri": "https://localhost:8080/",
          "height": 542
        },
        "id": "U3EjtwAarqCL",
        "outputId": "4d9ed18c-083c-4d25-8272-bc3557a75bd3"
      },
      "execution_count": null,
      "outputs": [
        {
          "output_type": "display_data",
          "data": {
            "text/html": [
              "<html>\n",
              "<head><meta charset=\"utf-8\" /></head>\n",
              "<body>\n",
              "    <div>            <script src=\"https://cdnjs.cloudflare.com/ajax/libs/mathjax/2.7.5/MathJax.js?config=TeX-AMS-MML_SVG\"></script><script type=\"text/javascript\">if (window.MathJax && window.MathJax.Hub && window.MathJax.Hub.Config) {window.MathJax.Hub.Config({SVG: {font: \"STIX-Web\"}});}</script>                <script type=\"text/javascript\">window.PlotlyConfig = {MathJaxConfig: 'local'};</script>\n",
              "        <script src=\"https://cdn.plot.ly/plotly-2.18.2.min.js\"></script>                <div id=\"334d8c0e-d86e-4e7a-86dc-49b7a79acee7\" class=\"plotly-graph-div\" style=\"height:525px; width:100%;\"></div>            <script type=\"text/javascript\">                                    window.PLOTLYENV=window.PLOTLYENV || {};                                    if (document.getElementById(\"334d8c0e-d86e-4e7a-86dc-49b7a79acee7\")) {                    Plotly.newPlot(                        \"334d8c0e-d86e-4e7a-86dc-49b7a79acee7\",                        [{\"name\":\"Valor TOP 50 Media\",\"text\":[\"L. Messi\",\"R. Lewandowski\",\"Cristiano Ronaldo\",\"K. De Bruyne\",\"J. Oblak\",\"K. Mbapp\\u00e9\",\"Neymar Jr\",\"M. Neuer\",\"M. ter Stegen\",\"H. Kane\",\"N. Kant\\u00e9\",\"M. Salah\",\"G. Donnarumma\",\"Alisson\",\"J. Kimmich\",\"Ederson\",\"Casemiro\",\"S. Man\\u00e9\",\"V. van Dijk\",\"T. Courtois\",\"K. Benzema\",\"H. Son\",\"K. Navas\",\"E. Haaland\",\"Bruno Fernandes\",\"R. Sterling\",\"R. Lukaku\",\"T. Kroos\",\"L. Su\\u00e1rez\",\"Sergio Ramos\",\"R\\u00faben Dias\",\"J. Sancho\",\"T. Alexander-Arnold\",\"F. de Jong\",\"A. Robertson\",\"P. Dybala\",\"L. Goretzka\",\"Marquinhos\",\"M. Verratti\",\"P. Pogba\",\"C. Immobile\",\"T. M\\u00fcller\",\"W. Szcz\\u0119sny\",\"\\u00c1. Di Mar\\u00eda\",\"L. Modri\\u0107\",\"H. Lloris\",\"S. Ag\\u00fcero\",\"G. Chiellini\",\"S. Handanovi\\u010d\",\"M. Hummels\"],\"x\":[78000000.0,119500000.0,45000000.0,125500000.0,112000000.0,194000000.0,129000000.0,13500000.0,99000000.0,129500000.0,100000000.0,101000000.0,119500000.0,82000000.0,108000000.0,94000000.0,88000000.0,101000000.0,86000000.0,85500000.0,66000000.0,104000000.0,15500000.0,137500000.0,107500000.0,107500000.0,93500000.0,75000000.0,44500000.0,24000000.0,102500000.0,116500000.0,114000000.0,119500000.0,83500000.0,93000000.0,93000000.0,90500000.0,79500000.0,79500000.0,67500000.0,66000000.0,42000000.0,49500000.0,32000000.0,13500000.0,51000000.0,12000000.0,7500000.0,44000000.0],\"type\":\"box\",\"boxpoints\":\"all\",\"jitter\":0},{\"name\":\"Valor TOP 50 Potencial\",\"text\":[\"K. Mbapp\\u00e9\",\"E. Haaland\",\"G. Donnarumma\",\"F. de Jong\",\"T. Alexander-Arnold\",\"K. Havertz\",\"P. Foden\",\"Jo\\u00e3o F\\u00e9lix\",\"F. Chiesa\",\"Pedri\",\"R\\u00faben Dias\",\"J. Sancho\",\"Ferran Torres\",\"D. Upamecano\",\"R. Gravenberch\",\"Ansu Fati\",\"T. Hern\\u00e1ndez\",\"Vin\\u00edcius Jr.\",\"M. de Ligt\",\"M. Maignan\",\"F. Wirtz\",\"Rodri\",\"J. Bellingham\",\"L. Mart\\u00ednez\",\"J. Kound\\u00e9\",\"F. Valverde\",\"M. Rashford\",\"M. Mount\",\"D. Kulusevski\",\"Oyarzabal\",\"A. Bastoni\",\"E. Camavinga\",\"Pau Torres\",\"N. Barella\",\"\\u00c9der Milit\\u00e3o\",\"M. Greenwood\",\"A. Davies\",\"Nuno Mendes\",\"W. Ndidi\",\"E. Tapsoba\",\"Carlos Soler\",\"M. Diaby\",\"J. Gomez\",\"G. Raspadori\",\"C. Pulisic\",\"Pedro Gon\\u00e7alves\",\"M. \\u00d8degaard\",\"Antony\",\"T. Kubo\",\"N. Madueke\"],\"x\":[194000000.0,137500000.0,119500000.0,119500000.0,114000000.0,94500000.0,94500000.0,82000000.0,80500000.0,54000000.0,102500000.0,116500000.0,68500000.0,64000000.0,33000000.0,17500000.0,62500000.0,46500000.0,75000000.0,49500000.0,29500000.0,81000000.0,37000000.0,78000000.0,53000000.0,58000000.0,77500000.0,58500000.0,58000000.0,77500000.0,44500000.0,29500000.0,56500000.0,63500000.0,56500000.0,30500000.0,57000000.0,29000000.0,66500000.0,48500000.0,51500000.0,52500000.0,43500000.0,10500000.0,49000000.0,51500000.0,49000000.0,39500000.0,13500000.0,23000000.0],\"type\":\"box\",\"boxpoints\":\"all\",\"jitter\":0}],                        {\"template\":{\"data\":{\"histogram2dcontour\":[{\"type\":\"histogram2dcontour\",\"colorbar\":{\"outlinewidth\":0,\"ticks\":\"\"},\"colorscale\":[[0.0,\"#0d0887\"],[0.1111111111111111,\"#46039f\"],[0.2222222222222222,\"#7201a8\"],[0.3333333333333333,\"#9c179e\"],[0.4444444444444444,\"#bd3786\"],[0.5555555555555556,\"#d8576b\"],[0.6666666666666666,\"#ed7953\"],[0.7777777777777778,\"#fb9f3a\"],[0.8888888888888888,\"#fdca26\"],[1.0,\"#f0f921\"]]}],\"choropleth\":[{\"type\":\"choropleth\",\"colorbar\":{\"outlinewidth\":0,\"ticks\":\"\"}}],\"histogram2d\":[{\"type\":\"histogram2d\",\"colorbar\":{\"outlinewidth\":0,\"ticks\":\"\"},\"colorscale\":[[0.0,\"#0d0887\"],[0.1111111111111111,\"#46039f\"],[0.2222222222222222,\"#7201a8\"],[0.3333333333333333,\"#9c179e\"],[0.4444444444444444,\"#bd3786\"],[0.5555555555555556,\"#d8576b\"],[0.6666666666666666,\"#ed7953\"],[0.7777777777777778,\"#fb9f3a\"],[0.8888888888888888,\"#fdca26\"],[1.0,\"#f0f921\"]]}],\"heatmap\":[{\"type\":\"heatmap\",\"colorbar\":{\"outlinewidth\":0,\"ticks\":\"\"},\"colorscale\":[[0.0,\"#0d0887\"],[0.1111111111111111,\"#46039f\"],[0.2222222222222222,\"#7201a8\"],[0.3333333333333333,\"#9c179e\"],[0.4444444444444444,\"#bd3786\"],[0.5555555555555556,\"#d8576b\"],[0.6666666666666666,\"#ed7953\"],[0.7777777777777778,\"#fb9f3a\"],[0.8888888888888888,\"#fdca26\"],[1.0,\"#f0f921\"]]}],\"heatmapgl\":[{\"type\":\"heatmapgl\",\"colorbar\":{\"outlinewidth\":0,\"ticks\":\"\"},\"colorscale\":[[0.0,\"#0d0887\"],[0.1111111111111111,\"#46039f\"],[0.2222222222222222,\"#7201a8\"],[0.3333333333333333,\"#9c179e\"],[0.4444444444444444,\"#bd3786\"],[0.5555555555555556,\"#d8576b\"],[0.6666666666666666,\"#ed7953\"],[0.7777777777777778,\"#fb9f3a\"],[0.8888888888888888,\"#fdca26\"],[1.0,\"#f0f921\"]]}],\"contourcarpet\":[{\"type\":\"contourcarpet\",\"colorbar\":{\"outlinewidth\":0,\"ticks\":\"\"}}],\"contour\":[{\"type\":\"contour\",\"colorbar\":{\"outlinewidth\":0,\"ticks\":\"\"},\"colorscale\":[[0.0,\"#0d0887\"],[0.1111111111111111,\"#46039f\"],[0.2222222222222222,\"#7201a8\"],[0.3333333333333333,\"#9c179e\"],[0.4444444444444444,\"#bd3786\"],[0.5555555555555556,\"#d8576b\"],[0.6666666666666666,\"#ed7953\"],[0.7777777777777778,\"#fb9f3a\"],[0.8888888888888888,\"#fdca26\"],[1.0,\"#f0f921\"]]}],\"surface\":[{\"type\":\"surface\",\"colorbar\":{\"outlinewidth\":0,\"ticks\":\"\"},\"colorscale\":[[0.0,\"#0d0887\"],[0.1111111111111111,\"#46039f\"],[0.2222222222222222,\"#7201a8\"],[0.3333333333333333,\"#9c179e\"],[0.4444444444444444,\"#bd3786\"],[0.5555555555555556,\"#d8576b\"],[0.6666666666666666,\"#ed7953\"],[0.7777777777777778,\"#fb9f3a\"],[0.8888888888888888,\"#fdca26\"],[1.0,\"#f0f921\"]]}],\"mesh3d\":[{\"type\":\"mesh3d\",\"colorbar\":{\"outlinewidth\":0,\"ticks\":\"\"}}],\"scatter\":[{\"fillpattern\":{\"fillmode\":\"overlay\",\"size\":10,\"solidity\":0.2},\"type\":\"scatter\"}],\"parcoords\":[{\"type\":\"parcoords\",\"line\":{\"colorbar\":{\"outlinewidth\":0,\"ticks\":\"\"}}}],\"scatterpolargl\":[{\"type\":\"scatterpolargl\",\"marker\":{\"colorbar\":{\"outlinewidth\":0,\"ticks\":\"\"}}}],\"bar\":[{\"error_x\":{\"color\":\"#2a3f5f\"},\"error_y\":{\"color\":\"#2a3f5f\"},\"marker\":{\"line\":{\"color\":\"#E5ECF6\",\"width\":0.5},\"pattern\":{\"fillmode\":\"overlay\",\"size\":10,\"solidity\":0.2}},\"type\":\"bar\"}],\"scattergeo\":[{\"type\":\"scattergeo\",\"marker\":{\"colorbar\":{\"outlinewidth\":0,\"ticks\":\"\"}}}],\"scatterpolar\":[{\"type\":\"scatterpolar\",\"marker\":{\"colorbar\":{\"outlinewidth\":0,\"ticks\":\"\"}}}],\"histogram\":[{\"marker\":{\"pattern\":{\"fillmode\":\"overlay\",\"size\":10,\"solidity\":0.2}},\"type\":\"histogram\"}],\"scattergl\":[{\"type\":\"scattergl\",\"marker\":{\"colorbar\":{\"outlinewidth\":0,\"ticks\":\"\"}}}],\"scatter3d\":[{\"type\":\"scatter3d\",\"line\":{\"colorbar\":{\"outlinewidth\":0,\"ticks\":\"\"}},\"marker\":{\"colorbar\":{\"outlinewidth\":0,\"ticks\":\"\"}}}],\"scattermapbox\":[{\"type\":\"scattermapbox\",\"marker\":{\"colorbar\":{\"outlinewidth\":0,\"ticks\":\"\"}}}],\"scatterternary\":[{\"type\":\"scatterternary\",\"marker\":{\"colorbar\":{\"outlinewidth\":0,\"ticks\":\"\"}}}],\"scattercarpet\":[{\"type\":\"scattercarpet\",\"marker\":{\"colorbar\":{\"outlinewidth\":0,\"ticks\":\"\"}}}],\"carpet\":[{\"aaxis\":{\"endlinecolor\":\"#2a3f5f\",\"gridcolor\":\"white\",\"linecolor\":\"white\",\"minorgridcolor\":\"white\",\"startlinecolor\":\"#2a3f5f\"},\"baxis\":{\"endlinecolor\":\"#2a3f5f\",\"gridcolor\":\"white\",\"linecolor\":\"white\",\"minorgridcolor\":\"white\",\"startlinecolor\":\"#2a3f5f\"},\"type\":\"carpet\"}],\"table\":[{\"cells\":{\"fill\":{\"color\":\"#EBF0F8\"},\"line\":{\"color\":\"white\"}},\"header\":{\"fill\":{\"color\":\"#C8D4E3\"},\"line\":{\"color\":\"white\"}},\"type\":\"table\"}],\"barpolar\":[{\"marker\":{\"line\":{\"color\":\"#E5ECF6\",\"width\":0.5},\"pattern\":{\"fillmode\":\"overlay\",\"size\":10,\"solidity\":0.2}},\"type\":\"barpolar\"}],\"pie\":[{\"automargin\":true,\"type\":\"pie\"}]},\"layout\":{\"autotypenumbers\":\"strict\",\"colorway\":[\"#636efa\",\"#EF553B\",\"#00cc96\",\"#ab63fa\",\"#FFA15A\",\"#19d3f3\",\"#FF6692\",\"#B6E880\",\"#FF97FF\",\"#FECB52\"],\"font\":{\"color\":\"#2a3f5f\"},\"hovermode\":\"closest\",\"hoverlabel\":{\"align\":\"left\"},\"paper_bgcolor\":\"white\",\"plot_bgcolor\":\"#E5ECF6\",\"polar\":{\"bgcolor\":\"#E5ECF6\",\"angularaxis\":{\"gridcolor\":\"white\",\"linecolor\":\"white\",\"ticks\":\"\"},\"radialaxis\":{\"gridcolor\":\"white\",\"linecolor\":\"white\",\"ticks\":\"\"}},\"ternary\":{\"bgcolor\":\"#E5ECF6\",\"aaxis\":{\"gridcolor\":\"white\",\"linecolor\":\"white\",\"ticks\":\"\"},\"baxis\":{\"gridcolor\":\"white\",\"linecolor\":\"white\",\"ticks\":\"\"},\"caxis\":{\"gridcolor\":\"white\",\"linecolor\":\"white\",\"ticks\":\"\"}},\"coloraxis\":{\"colorbar\":{\"outlinewidth\":0,\"ticks\":\"\"}},\"colorscale\":{\"sequential\":[[0.0,\"#0d0887\"],[0.1111111111111111,\"#46039f\"],[0.2222222222222222,\"#7201a8\"],[0.3333333333333333,\"#9c179e\"],[0.4444444444444444,\"#bd3786\"],[0.5555555555555556,\"#d8576b\"],[0.6666666666666666,\"#ed7953\"],[0.7777777777777778,\"#fb9f3a\"],[0.8888888888888888,\"#fdca26\"],[1.0,\"#f0f921\"]],\"sequentialminus\":[[0.0,\"#0d0887\"],[0.1111111111111111,\"#46039f\"],[0.2222222222222222,\"#7201a8\"],[0.3333333333333333,\"#9c179e\"],[0.4444444444444444,\"#bd3786\"],[0.5555555555555556,\"#d8576b\"],[0.6666666666666666,\"#ed7953\"],[0.7777777777777778,\"#fb9f3a\"],[0.8888888888888888,\"#fdca26\"],[1.0,\"#f0f921\"]],\"diverging\":[[0,\"#8e0152\"],[0.1,\"#c51b7d\"],[0.2,\"#de77ae\"],[0.3,\"#f1b6da\"],[0.4,\"#fde0ef\"],[0.5,\"#f7f7f7\"],[0.6,\"#e6f5d0\"],[0.7,\"#b8e186\"],[0.8,\"#7fbc41\"],[0.9,\"#4d9221\"],[1,\"#276419\"]]},\"xaxis\":{\"gridcolor\":\"white\",\"linecolor\":\"white\",\"ticks\":\"\",\"title\":{\"standoff\":15},\"zerolinecolor\":\"white\",\"automargin\":true,\"zerolinewidth\":2},\"yaxis\":{\"gridcolor\":\"white\",\"linecolor\":\"white\",\"ticks\":\"\",\"title\":{\"standoff\":15},\"zerolinecolor\":\"white\",\"automargin\":true,\"zerolinewidth\":2},\"scene\":{\"xaxis\":{\"backgroundcolor\":\"#E5ECF6\",\"gridcolor\":\"white\",\"linecolor\":\"white\",\"showbackground\":true,\"ticks\":\"\",\"zerolinecolor\":\"white\",\"gridwidth\":2},\"yaxis\":{\"backgroundcolor\":\"#E5ECF6\",\"gridcolor\":\"white\",\"linecolor\":\"white\",\"showbackground\":true,\"ticks\":\"\",\"zerolinecolor\":\"white\",\"gridwidth\":2},\"zaxis\":{\"backgroundcolor\":\"#E5ECF6\",\"gridcolor\":\"white\",\"linecolor\":\"white\",\"showbackground\":true,\"ticks\":\"\",\"zerolinecolor\":\"white\",\"gridwidth\":2}},\"shapedefaults\":{\"line\":{\"color\":\"#2a3f5f\"}},\"annotationdefaults\":{\"arrowcolor\":\"#2a3f5f\",\"arrowhead\":0,\"arrowwidth\":1},\"geo\":{\"bgcolor\":\"white\",\"landcolor\":\"#E5ECF6\",\"subunitcolor\":\"white\",\"showland\":true,\"showlakes\":true,\"lakecolor\":\"white\"},\"title\":{\"x\":0.05},\"mapbox\":{\"style\":\"light\"}}}},                        {\"responsive\": true}                    ).then(function(){\n",
              "                            \n",
              "var gd = document.getElementById('334d8c0e-d86e-4e7a-86dc-49b7a79acee7');\n",
              "var x = new MutationObserver(function (mutations, observer) {{\n",
              "        var display = window.getComputedStyle(gd).display;\n",
              "        if (!display || display === 'none') {{\n",
              "            console.log([gd, 'removed!']);\n",
              "            Plotly.purge(gd);\n",
              "            observer.disconnect();\n",
              "        }}\n",
              "}});\n",
              "\n",
              "// Listen for the removal of the full notebook cells\n",
              "var notebookContainer = gd.closest('#notebook-container');\n",
              "if (notebookContainer) {{\n",
              "    x.observe(notebookContainer, {childList: true});\n",
              "}}\n",
              "\n",
              "// Listen for the clearing of the current output cell\n",
              "var outputEl = gd.closest('.output');\n",
              "if (outputEl) {{\n",
              "    x.observe(outputEl, {childList: true});\n",
              "}}\n",
              "\n",
              "                        })                };                            </script>        </div>\n",
              "</body>\n",
              "</html>"
            ]
          },
          "metadata": {}
        }
      ]
    },
    {
      "cell_type": "markdown",
      "source": [
        "4. A que paises me conviene enviar mis ojeadores o por que país comienzo? (Los ojeadores son ayudantes que buscan grandes promesas y jugadores)\n"
      ],
      "metadata": {
        "id": "MpOtn-o91FCg"
      }
    },
    {
      "cell_type": "markdown",
      "source": [
        "Podriamos enviar a nuestros ojeadores o ayudantes a:\n",
        "\n",
        "Francia\n",
        "\n",
        "Brasil\n",
        "\n",
        "Belgica\n",
        "\n",
        "Portugal\n",
        "\n",
        "Para empezar a buscar jugadores, ya que tiene un promedio elevado en la media actual y tambien jugadores con un buen potencial, entonces podriamos optar por las dos opciones.\n",
        "\n",
        "Una vez que conseguimos lo que buscamos, podriamos ir a otro paises como por ejemplo:\n",
        "\n",
        "Alemania\n",
        "\n",
        "Argentina\n",
        "\n",
        "Holanda\n",
        "\n",
        "Ya que son paises que tienen varios de las futuras promesas y como vimos anteriormente, nos convienen jugadores jovenes con gran Potencial"
      ],
      "metadata": {
        "id": "r7R4sKZCc68n"
      }
    },
    {
      "cell_type": "code",
      "source": [
        "top_50_potential_mean = top_50_potential.groupby('nationality_name')['potential'].sum().reset_index()\n",
        "top_50_overall_mean = top_50_overall.groupby('nationality_name')['overall'].sum().reset_index()\n",
        "\n",
        "\n",
        "fig = make_subplots(rows=1, cols=2, specs=[[{'type': 'domain'}, {'type': 'domain'}]])\n",
        "\n",
        "\n",
        "fig.add_trace(go.Pie(values=top_50_overall_mean['overall'], labels=top_50_overall_mean['nationality_name']), 1, 1)\n",
        "\n",
        "fig.add_trace(go.Pie(values=top_50_potential_mean['potential'], labels=top_50_potential_mean['nationality_name']), 1, 2)\n",
        "\n",
        "\n",
        "fig.update_layout(title='Nacionalidad de los 50 Jugadores Vs Potencial y Media',\n",
        "                  showlegend=False,\n",
        "                  annotations=[dict(text='Overall', x=0.18, y=0.5, font_size=20, showarrow=False),\n",
        "                               dict(text='Potential', x=0.82, y=0.5, font_size=20, showarrow=False)])\n",
        "\n",
        "fig.show()\n"
      ],
      "metadata": {
        "colab": {
          "base_uri": "https://localhost:8080/",
          "height": 542
        },
        "id": "ImqnGFWocdKn",
        "outputId": "809659dd-8b6c-45e4-a4e4-8cba8855ee32"
      },
      "execution_count": null,
      "outputs": [
        {
          "output_type": "display_data",
          "data": {
            "text/html": [
              "<html>\n",
              "<head><meta charset=\"utf-8\" /></head>\n",
              "<body>\n",
              "    <div>            <script src=\"https://cdnjs.cloudflare.com/ajax/libs/mathjax/2.7.5/MathJax.js?config=TeX-AMS-MML_SVG\"></script><script type=\"text/javascript\">if (window.MathJax && window.MathJax.Hub && window.MathJax.Hub.Config) {window.MathJax.Hub.Config({SVG: {font: \"STIX-Web\"}});}</script>                <script type=\"text/javascript\">window.PlotlyConfig = {MathJaxConfig: 'local'};</script>\n",
              "        <script src=\"https://cdn.plot.ly/plotly-2.18.2.min.js\"></script>                <div id=\"80337a59-16d2-4daf-bc2f-fdb7b0b18af7\" class=\"plotly-graph-div\" style=\"height:525px; width:100%;\"></div>            <script type=\"text/javascript\">                                    window.PLOTLYENV=window.PLOTLYENV || {};                                    if (document.getElementById(\"80337a59-16d2-4daf-bc2f-fdb7b0b18af7\")) {                    Plotly.newPlot(                        \"80337a59-16d2-4daf-bc2f-fdb7b0b18af7\",                        [{\"labels\":[\"Argentina\",\"Belgium\",\"Brazil\",\"Costa Rica\",\"Croatia\",\"Egypt\",\"England\",\"France\",\"Germany\",\"Italy\",\"Korea Republic\",\"Netherlands\",\"Norway\",\"Poland\",\"Portugal\",\"Scotland\",\"Senegal\",\"Slovenia\",\"Spain\",\"Uruguay\"],\"values\":[354,268,445,88,87,89,352,444,617,349,89,176,88,179,266,87,89,177,88,88],\"type\":\"pie\",\"domain\":{\"x\":[0.0,0.45],\"y\":[0.0,1.0]}},{\"labels\":[\"Argentina\",\"Brazil\",\"Burkina Faso\",\"Canada\",\"England\",\"France\",\"Germany\",\"Italy\",\"Japan\",\"Netherlands\",\"Nigeria\",\"Norway\",\"Portugal\",\"Spain\",\"Sweden\",\"United States\",\"Uruguay\"],\"values\":[89,267,88,89,807,630,181,450,88,272,88,181,358,626,89,88,89],\"type\":\"pie\",\"domain\":{\"x\":[0.55,1.0],\"y\":[0.0,1.0]}}],                        {\"template\":{\"data\":{\"histogram2dcontour\":[{\"type\":\"histogram2dcontour\",\"colorbar\":{\"outlinewidth\":0,\"ticks\":\"\"},\"colorscale\":[[0.0,\"#0d0887\"],[0.1111111111111111,\"#46039f\"],[0.2222222222222222,\"#7201a8\"],[0.3333333333333333,\"#9c179e\"],[0.4444444444444444,\"#bd3786\"],[0.5555555555555556,\"#d8576b\"],[0.6666666666666666,\"#ed7953\"],[0.7777777777777778,\"#fb9f3a\"],[0.8888888888888888,\"#fdca26\"],[1.0,\"#f0f921\"]]}],\"choropleth\":[{\"type\":\"choropleth\",\"colorbar\":{\"outlinewidth\":0,\"ticks\":\"\"}}],\"histogram2d\":[{\"type\":\"histogram2d\",\"colorbar\":{\"outlinewidth\":0,\"ticks\":\"\"},\"colorscale\":[[0.0,\"#0d0887\"],[0.1111111111111111,\"#46039f\"],[0.2222222222222222,\"#7201a8\"],[0.3333333333333333,\"#9c179e\"],[0.4444444444444444,\"#bd3786\"],[0.5555555555555556,\"#d8576b\"],[0.6666666666666666,\"#ed7953\"],[0.7777777777777778,\"#fb9f3a\"],[0.8888888888888888,\"#fdca26\"],[1.0,\"#f0f921\"]]}],\"heatmap\":[{\"type\":\"heatmap\",\"colorbar\":{\"outlinewidth\":0,\"ticks\":\"\"},\"colorscale\":[[0.0,\"#0d0887\"],[0.1111111111111111,\"#46039f\"],[0.2222222222222222,\"#7201a8\"],[0.3333333333333333,\"#9c179e\"],[0.4444444444444444,\"#bd3786\"],[0.5555555555555556,\"#d8576b\"],[0.6666666666666666,\"#ed7953\"],[0.7777777777777778,\"#fb9f3a\"],[0.8888888888888888,\"#fdca26\"],[1.0,\"#f0f921\"]]}],\"heatmapgl\":[{\"type\":\"heatmapgl\",\"colorbar\":{\"outlinewidth\":0,\"ticks\":\"\"},\"colorscale\":[[0.0,\"#0d0887\"],[0.1111111111111111,\"#46039f\"],[0.2222222222222222,\"#7201a8\"],[0.3333333333333333,\"#9c179e\"],[0.4444444444444444,\"#bd3786\"],[0.5555555555555556,\"#d8576b\"],[0.6666666666666666,\"#ed7953\"],[0.7777777777777778,\"#fb9f3a\"],[0.8888888888888888,\"#fdca26\"],[1.0,\"#f0f921\"]]}],\"contourcarpet\":[{\"type\":\"contourcarpet\",\"colorbar\":{\"outlinewidth\":0,\"ticks\":\"\"}}],\"contour\":[{\"type\":\"contour\",\"colorbar\":{\"outlinewidth\":0,\"ticks\":\"\"},\"colorscale\":[[0.0,\"#0d0887\"],[0.1111111111111111,\"#46039f\"],[0.2222222222222222,\"#7201a8\"],[0.3333333333333333,\"#9c179e\"],[0.4444444444444444,\"#bd3786\"],[0.5555555555555556,\"#d8576b\"],[0.6666666666666666,\"#ed7953\"],[0.7777777777777778,\"#fb9f3a\"],[0.8888888888888888,\"#fdca26\"],[1.0,\"#f0f921\"]]}],\"surface\":[{\"type\":\"surface\",\"colorbar\":{\"outlinewidth\":0,\"ticks\":\"\"},\"colorscale\":[[0.0,\"#0d0887\"],[0.1111111111111111,\"#46039f\"],[0.2222222222222222,\"#7201a8\"],[0.3333333333333333,\"#9c179e\"],[0.4444444444444444,\"#bd3786\"],[0.5555555555555556,\"#d8576b\"],[0.6666666666666666,\"#ed7953\"],[0.7777777777777778,\"#fb9f3a\"],[0.8888888888888888,\"#fdca26\"],[1.0,\"#f0f921\"]]}],\"mesh3d\":[{\"type\":\"mesh3d\",\"colorbar\":{\"outlinewidth\":0,\"ticks\":\"\"}}],\"scatter\":[{\"fillpattern\":{\"fillmode\":\"overlay\",\"size\":10,\"solidity\":0.2},\"type\":\"scatter\"}],\"parcoords\":[{\"type\":\"parcoords\",\"line\":{\"colorbar\":{\"outlinewidth\":0,\"ticks\":\"\"}}}],\"scatterpolargl\":[{\"type\":\"scatterpolargl\",\"marker\":{\"colorbar\":{\"outlinewidth\":0,\"ticks\":\"\"}}}],\"bar\":[{\"error_x\":{\"color\":\"#2a3f5f\"},\"error_y\":{\"color\":\"#2a3f5f\"},\"marker\":{\"line\":{\"color\":\"#E5ECF6\",\"width\":0.5},\"pattern\":{\"fillmode\":\"overlay\",\"size\":10,\"solidity\":0.2}},\"type\":\"bar\"}],\"scattergeo\":[{\"type\":\"scattergeo\",\"marker\":{\"colorbar\":{\"outlinewidth\":0,\"ticks\":\"\"}}}],\"scatterpolar\":[{\"type\":\"scatterpolar\",\"marker\":{\"colorbar\":{\"outlinewidth\":0,\"ticks\":\"\"}}}],\"histogram\":[{\"marker\":{\"pattern\":{\"fillmode\":\"overlay\",\"size\":10,\"solidity\":0.2}},\"type\":\"histogram\"}],\"scattergl\":[{\"type\":\"scattergl\",\"marker\":{\"colorbar\":{\"outlinewidth\":0,\"ticks\":\"\"}}}],\"scatter3d\":[{\"type\":\"scatter3d\",\"line\":{\"colorbar\":{\"outlinewidth\":0,\"ticks\":\"\"}},\"marker\":{\"colorbar\":{\"outlinewidth\":0,\"ticks\":\"\"}}}],\"scattermapbox\":[{\"type\":\"scattermapbox\",\"marker\":{\"colorbar\":{\"outlinewidth\":0,\"ticks\":\"\"}}}],\"scatterternary\":[{\"type\":\"scatterternary\",\"marker\":{\"colorbar\":{\"outlinewidth\":0,\"ticks\":\"\"}}}],\"scattercarpet\":[{\"type\":\"scattercarpet\",\"marker\":{\"colorbar\":{\"outlinewidth\":0,\"ticks\":\"\"}}}],\"carpet\":[{\"aaxis\":{\"endlinecolor\":\"#2a3f5f\",\"gridcolor\":\"white\",\"linecolor\":\"white\",\"minorgridcolor\":\"white\",\"startlinecolor\":\"#2a3f5f\"},\"baxis\":{\"endlinecolor\":\"#2a3f5f\",\"gridcolor\":\"white\",\"linecolor\":\"white\",\"minorgridcolor\":\"white\",\"startlinecolor\":\"#2a3f5f\"},\"type\":\"carpet\"}],\"table\":[{\"cells\":{\"fill\":{\"color\":\"#EBF0F8\"},\"line\":{\"color\":\"white\"}},\"header\":{\"fill\":{\"color\":\"#C8D4E3\"},\"line\":{\"color\":\"white\"}},\"type\":\"table\"}],\"barpolar\":[{\"marker\":{\"line\":{\"color\":\"#E5ECF6\",\"width\":0.5},\"pattern\":{\"fillmode\":\"overlay\",\"size\":10,\"solidity\":0.2}},\"type\":\"barpolar\"}],\"pie\":[{\"automargin\":true,\"type\":\"pie\"}]},\"layout\":{\"autotypenumbers\":\"strict\",\"colorway\":[\"#636efa\",\"#EF553B\",\"#00cc96\",\"#ab63fa\",\"#FFA15A\",\"#19d3f3\",\"#FF6692\",\"#B6E880\",\"#FF97FF\",\"#FECB52\"],\"font\":{\"color\":\"#2a3f5f\"},\"hovermode\":\"closest\",\"hoverlabel\":{\"align\":\"left\"},\"paper_bgcolor\":\"white\",\"plot_bgcolor\":\"#E5ECF6\",\"polar\":{\"bgcolor\":\"#E5ECF6\",\"angularaxis\":{\"gridcolor\":\"white\",\"linecolor\":\"white\",\"ticks\":\"\"},\"radialaxis\":{\"gridcolor\":\"white\",\"linecolor\":\"white\",\"ticks\":\"\"}},\"ternary\":{\"bgcolor\":\"#E5ECF6\",\"aaxis\":{\"gridcolor\":\"white\",\"linecolor\":\"white\",\"ticks\":\"\"},\"baxis\":{\"gridcolor\":\"white\",\"linecolor\":\"white\",\"ticks\":\"\"},\"caxis\":{\"gridcolor\":\"white\",\"linecolor\":\"white\",\"ticks\":\"\"}},\"coloraxis\":{\"colorbar\":{\"outlinewidth\":0,\"ticks\":\"\"}},\"colorscale\":{\"sequential\":[[0.0,\"#0d0887\"],[0.1111111111111111,\"#46039f\"],[0.2222222222222222,\"#7201a8\"],[0.3333333333333333,\"#9c179e\"],[0.4444444444444444,\"#bd3786\"],[0.5555555555555556,\"#d8576b\"],[0.6666666666666666,\"#ed7953\"],[0.7777777777777778,\"#fb9f3a\"],[0.8888888888888888,\"#fdca26\"],[1.0,\"#f0f921\"]],\"sequentialminus\":[[0.0,\"#0d0887\"],[0.1111111111111111,\"#46039f\"],[0.2222222222222222,\"#7201a8\"],[0.3333333333333333,\"#9c179e\"],[0.4444444444444444,\"#bd3786\"],[0.5555555555555556,\"#d8576b\"],[0.6666666666666666,\"#ed7953\"],[0.7777777777777778,\"#fb9f3a\"],[0.8888888888888888,\"#fdca26\"],[1.0,\"#f0f921\"]],\"diverging\":[[0,\"#8e0152\"],[0.1,\"#c51b7d\"],[0.2,\"#de77ae\"],[0.3,\"#f1b6da\"],[0.4,\"#fde0ef\"],[0.5,\"#f7f7f7\"],[0.6,\"#e6f5d0\"],[0.7,\"#b8e186\"],[0.8,\"#7fbc41\"],[0.9,\"#4d9221\"],[1,\"#276419\"]]},\"xaxis\":{\"gridcolor\":\"white\",\"linecolor\":\"white\",\"ticks\":\"\",\"title\":{\"standoff\":15},\"zerolinecolor\":\"white\",\"automargin\":true,\"zerolinewidth\":2},\"yaxis\":{\"gridcolor\":\"white\",\"linecolor\":\"white\",\"ticks\":\"\",\"title\":{\"standoff\":15},\"zerolinecolor\":\"white\",\"automargin\":true,\"zerolinewidth\":2},\"scene\":{\"xaxis\":{\"backgroundcolor\":\"#E5ECF6\",\"gridcolor\":\"white\",\"linecolor\":\"white\",\"showbackground\":true,\"ticks\":\"\",\"zerolinecolor\":\"white\",\"gridwidth\":2},\"yaxis\":{\"backgroundcolor\":\"#E5ECF6\",\"gridcolor\":\"white\",\"linecolor\":\"white\",\"showbackground\":true,\"ticks\":\"\",\"zerolinecolor\":\"white\",\"gridwidth\":2},\"zaxis\":{\"backgroundcolor\":\"#E5ECF6\",\"gridcolor\":\"white\",\"linecolor\":\"white\",\"showbackground\":true,\"ticks\":\"\",\"zerolinecolor\":\"white\",\"gridwidth\":2}},\"shapedefaults\":{\"line\":{\"color\":\"#2a3f5f\"}},\"annotationdefaults\":{\"arrowcolor\":\"#2a3f5f\",\"arrowhead\":0,\"arrowwidth\":1},\"geo\":{\"bgcolor\":\"white\",\"landcolor\":\"#E5ECF6\",\"subunitcolor\":\"white\",\"showland\":true,\"showlakes\":true,\"lakecolor\":\"white\"},\"title\":{\"x\":0.05},\"mapbox\":{\"style\":\"light\"}}},\"title\":{\"text\":\"Nacionalidad de los 50 Jugadores Vs Potencial y Media\"},\"showlegend\":false,\"annotations\":[{\"showarrow\":false,\"text\":\"Overall\",\"x\":0.18,\"y\":0.5,\"font\":{\"size\":20}},{\"showarrow\":false,\"text\":\"Potential\",\"x\":0.82,\"y\":0.5,\"font\":{\"size\":20}}]},                        {\"responsive\": true}                    ).then(function(){\n",
              "                            \n",
              "var gd = document.getElementById('80337a59-16d2-4daf-bc2f-fdb7b0b18af7');\n",
              "var x = new MutationObserver(function (mutations, observer) {{\n",
              "        var display = window.getComputedStyle(gd).display;\n",
              "        if (!display || display === 'none') {{\n",
              "            console.log([gd, 'removed!']);\n",
              "            Plotly.purge(gd);\n",
              "            observer.disconnect();\n",
              "        }}\n",
              "}});\n",
              "\n",
              "// Listen for the removal of the full notebook cells\n",
              "var notebookContainer = gd.closest('#notebook-container');\n",
              "if (notebookContainer) {{\n",
              "    x.observe(notebookContainer, {childList: true});\n",
              "}}\n",
              "\n",
              "// Listen for the clearing of the current output cell\n",
              "var outputEl = gd.closest('.output');\n",
              "if (outputEl) {{\n",
              "    x.observe(outputEl, {childList: true});\n",
              "}}\n",
              "\n",
              "                        })                };                            </script>        </div>\n",
              "</body>\n",
              "</html>"
            ]
          },
          "metadata": {}
        }
      ]
    },
    {
      "cell_type": "markdown",
      "source": [
        "Para terminar, armaremos un 11 ideal, el cual se ve bastante competitivo"
      ],
      "metadata": {
        "id": "5PoYnquHmUS1"
      }
    },
    {
      "cell_type": "code",
      "source": [
        "df_11_ideales = pd.DataFrame({'pos': ['GK', 'LB', 'RB', 'CB', 'CB', 'CDM', 'CM', 'CM', 'RW', 'LW', 'CF'],\n",
        "                   'name': ['H. Lloris', 'F. Mendy', 'K. Walker', 'V. Van Dijk', 'M. De Light', 'C. Soler', 'Pedri', 'Pau Torres', 'Vinicius.Jr', 'Ansu Fati', 'E. Haland'],\n",
        "                   'x': [0, -1, 1, -0.5, 0.5, -0.5, 0, 0.5, 1, -1, 0],\n",
        "                   'y': [0, 1, 1, 1, 1, 2, 2.5, 2, 3, 3, 3.5]})\n",
        "\n",
        "\n",
        "fig = px.scatter(df_11_ideales, x='x', y='y', text='name', hover_name='name', color=\"y\",\n",
        "                 labels={'x':'Posición en x', 'y':'Posición en la cancha', 'text':'Nombre del jugador'})\n",
        "\n",
        "fig.update_layout(title={\n",
        "        'text': \"Mi 11 Ideal\",\n",
        "        'y':1,\n",
        "        'x':0.5,\n",
        "        'xanchor': 'center',\n",
        "        'yanchor': 'top'}, xaxis_title=\" \" , yaxis_title=\" \" , plot_bgcolor='lightgreen', xaxis_showgrid=False, yaxis_showgrid=False, xaxis=dict(showticklabels=False), yaxis=dict(showticklabels=False))\n",
        "\n",
        "\n",
        "fig.show()\n",
        "\n",
        "\n",
        "#Posicion en la Cancha\n",
        "# 0=Arqueros\n",
        "# 1= defensores\n",
        "# 2-2,5= mediocampistas\n",
        "# 3-3,5 = Delanteros"
      ],
      "metadata": {
        "colab": {
          "base_uri": "https://localhost:8080/",
          "height": 542
        },
        "id": "GGw3_hIRg8qy",
        "outputId": "63aa54bc-4d82-4734-dc9d-bd46de2860a2"
      },
      "execution_count": null,
      "outputs": [
        {
          "output_type": "display_data",
          "data": {
            "text/html": [
              "<html>\n",
              "<head><meta charset=\"utf-8\" /></head>\n",
              "<body>\n",
              "    <div>            <script src=\"https://cdnjs.cloudflare.com/ajax/libs/mathjax/2.7.5/MathJax.js?config=TeX-AMS-MML_SVG\"></script><script type=\"text/javascript\">if (window.MathJax && window.MathJax.Hub && window.MathJax.Hub.Config) {window.MathJax.Hub.Config({SVG: {font: \"STIX-Web\"}});}</script>                <script type=\"text/javascript\">window.PlotlyConfig = {MathJaxConfig: 'local'};</script>\n",
              "        <script src=\"https://cdn.plot.ly/plotly-2.18.2.min.js\"></script>                <div id=\"1eb96207-05c0-4787-9495-dfb3c0f5537e\" class=\"plotly-graph-div\" style=\"height:525px; width:100%;\"></div>            <script type=\"text/javascript\">                                    window.PLOTLYENV=window.PLOTLYENV || {};                                    if (document.getElementById(\"1eb96207-05c0-4787-9495-dfb3c0f5537e\")) {                    Plotly.newPlot(                        \"1eb96207-05c0-4787-9495-dfb3c0f5537e\",                        [{\"hovertemplate\":\"<b>%{hovertext}</b><br><br>Posici\\u00f3n en x=%{x}<br>Posici\\u00f3n en la cancha=%{marker.color}<br>name=%{text}<extra></extra>\",\"hovertext\":[\"H. Lloris\",\"F. Mendy\",\"K. Walker\",\"V. Van Dijk\",\"M. De Light\",\"C. Soler\",\"Pedri\",\"Pau Torres\",\"Vinicius.Jr\",\"Ansu Fati\",\"E. Haland\"],\"legendgroup\":\"\",\"marker\":{\"color\":[0.0,1.0,1.0,1.0,1.0,2.0,2.5,2.0,3.0,3.0,3.5],\"coloraxis\":\"coloraxis\",\"symbol\":\"circle\"},\"mode\":\"markers+text\",\"name\":\"\",\"orientation\":\"v\",\"showlegend\":false,\"text\":[\"H. Lloris\",\"F. Mendy\",\"K. Walker\",\"V. Van Dijk\",\"M. De Light\",\"C. Soler\",\"Pedri\",\"Pau Torres\",\"Vinicius.Jr\",\"Ansu Fati\",\"E. Haland\"],\"x\":[0.0,-1.0,1.0,-0.5,0.5,-0.5,0.0,0.5,1.0,-1.0,0.0],\"xaxis\":\"x\",\"y\":[0.0,1.0,1.0,1.0,1.0,2.0,2.5,2.0,3.0,3.0,3.5],\"yaxis\":\"y\",\"type\":\"scatter\"}],                        {\"template\":{\"data\":{\"histogram2dcontour\":[{\"type\":\"histogram2dcontour\",\"colorbar\":{\"outlinewidth\":0,\"ticks\":\"\"},\"colorscale\":[[0.0,\"#0d0887\"],[0.1111111111111111,\"#46039f\"],[0.2222222222222222,\"#7201a8\"],[0.3333333333333333,\"#9c179e\"],[0.4444444444444444,\"#bd3786\"],[0.5555555555555556,\"#d8576b\"],[0.6666666666666666,\"#ed7953\"],[0.7777777777777778,\"#fb9f3a\"],[0.8888888888888888,\"#fdca26\"],[1.0,\"#f0f921\"]]}],\"choropleth\":[{\"type\":\"choropleth\",\"colorbar\":{\"outlinewidth\":0,\"ticks\":\"\"}}],\"histogram2d\":[{\"type\":\"histogram2d\",\"colorbar\":{\"outlinewidth\":0,\"ticks\":\"\"},\"colorscale\":[[0.0,\"#0d0887\"],[0.1111111111111111,\"#46039f\"],[0.2222222222222222,\"#7201a8\"],[0.3333333333333333,\"#9c179e\"],[0.4444444444444444,\"#bd3786\"],[0.5555555555555556,\"#d8576b\"],[0.6666666666666666,\"#ed7953\"],[0.7777777777777778,\"#fb9f3a\"],[0.8888888888888888,\"#fdca26\"],[1.0,\"#f0f921\"]]}],\"heatmap\":[{\"type\":\"heatmap\",\"colorbar\":{\"outlinewidth\":0,\"ticks\":\"\"},\"colorscale\":[[0.0,\"#0d0887\"],[0.1111111111111111,\"#46039f\"],[0.2222222222222222,\"#7201a8\"],[0.3333333333333333,\"#9c179e\"],[0.4444444444444444,\"#bd3786\"],[0.5555555555555556,\"#d8576b\"],[0.6666666666666666,\"#ed7953\"],[0.7777777777777778,\"#fb9f3a\"],[0.8888888888888888,\"#fdca26\"],[1.0,\"#f0f921\"]]}],\"heatmapgl\":[{\"type\":\"heatmapgl\",\"colorbar\":{\"outlinewidth\":0,\"ticks\":\"\"},\"colorscale\":[[0.0,\"#0d0887\"],[0.1111111111111111,\"#46039f\"],[0.2222222222222222,\"#7201a8\"],[0.3333333333333333,\"#9c179e\"],[0.4444444444444444,\"#bd3786\"],[0.5555555555555556,\"#d8576b\"],[0.6666666666666666,\"#ed7953\"],[0.7777777777777778,\"#fb9f3a\"],[0.8888888888888888,\"#fdca26\"],[1.0,\"#f0f921\"]]}],\"contourcarpet\":[{\"type\":\"contourcarpet\",\"colorbar\":{\"outlinewidth\":0,\"ticks\":\"\"}}],\"contour\":[{\"type\":\"contour\",\"colorbar\":{\"outlinewidth\":0,\"ticks\":\"\"},\"colorscale\":[[0.0,\"#0d0887\"],[0.1111111111111111,\"#46039f\"],[0.2222222222222222,\"#7201a8\"],[0.3333333333333333,\"#9c179e\"],[0.4444444444444444,\"#bd3786\"],[0.5555555555555556,\"#d8576b\"],[0.6666666666666666,\"#ed7953\"],[0.7777777777777778,\"#fb9f3a\"],[0.8888888888888888,\"#fdca26\"],[1.0,\"#f0f921\"]]}],\"surface\":[{\"type\":\"surface\",\"colorbar\":{\"outlinewidth\":0,\"ticks\":\"\"},\"colorscale\":[[0.0,\"#0d0887\"],[0.1111111111111111,\"#46039f\"],[0.2222222222222222,\"#7201a8\"],[0.3333333333333333,\"#9c179e\"],[0.4444444444444444,\"#bd3786\"],[0.5555555555555556,\"#d8576b\"],[0.6666666666666666,\"#ed7953\"],[0.7777777777777778,\"#fb9f3a\"],[0.8888888888888888,\"#fdca26\"],[1.0,\"#f0f921\"]]}],\"mesh3d\":[{\"type\":\"mesh3d\",\"colorbar\":{\"outlinewidth\":0,\"ticks\":\"\"}}],\"scatter\":[{\"fillpattern\":{\"fillmode\":\"overlay\",\"size\":10,\"solidity\":0.2},\"type\":\"scatter\"}],\"parcoords\":[{\"type\":\"parcoords\",\"line\":{\"colorbar\":{\"outlinewidth\":0,\"ticks\":\"\"}}}],\"scatterpolargl\":[{\"type\":\"scatterpolargl\",\"marker\":{\"colorbar\":{\"outlinewidth\":0,\"ticks\":\"\"}}}],\"bar\":[{\"error_x\":{\"color\":\"#2a3f5f\"},\"error_y\":{\"color\":\"#2a3f5f\"},\"marker\":{\"line\":{\"color\":\"#E5ECF6\",\"width\":0.5},\"pattern\":{\"fillmode\":\"overlay\",\"size\":10,\"solidity\":0.2}},\"type\":\"bar\"}],\"scattergeo\":[{\"type\":\"scattergeo\",\"marker\":{\"colorbar\":{\"outlinewidth\":0,\"ticks\":\"\"}}}],\"scatterpolar\":[{\"type\":\"scatterpolar\",\"marker\":{\"colorbar\":{\"outlinewidth\":0,\"ticks\":\"\"}}}],\"histogram\":[{\"marker\":{\"pattern\":{\"fillmode\":\"overlay\",\"size\":10,\"solidity\":0.2}},\"type\":\"histogram\"}],\"scattergl\":[{\"type\":\"scattergl\",\"marker\":{\"colorbar\":{\"outlinewidth\":0,\"ticks\":\"\"}}}],\"scatter3d\":[{\"type\":\"scatter3d\",\"line\":{\"colorbar\":{\"outlinewidth\":0,\"ticks\":\"\"}},\"marker\":{\"colorbar\":{\"outlinewidth\":0,\"ticks\":\"\"}}}],\"scattermapbox\":[{\"type\":\"scattermapbox\",\"marker\":{\"colorbar\":{\"outlinewidth\":0,\"ticks\":\"\"}}}],\"scatterternary\":[{\"type\":\"scatterternary\",\"marker\":{\"colorbar\":{\"outlinewidth\":0,\"ticks\":\"\"}}}],\"scattercarpet\":[{\"type\":\"scattercarpet\",\"marker\":{\"colorbar\":{\"outlinewidth\":0,\"ticks\":\"\"}}}],\"carpet\":[{\"aaxis\":{\"endlinecolor\":\"#2a3f5f\",\"gridcolor\":\"white\",\"linecolor\":\"white\",\"minorgridcolor\":\"white\",\"startlinecolor\":\"#2a3f5f\"},\"baxis\":{\"endlinecolor\":\"#2a3f5f\",\"gridcolor\":\"white\",\"linecolor\":\"white\",\"minorgridcolor\":\"white\",\"startlinecolor\":\"#2a3f5f\"},\"type\":\"carpet\"}],\"table\":[{\"cells\":{\"fill\":{\"color\":\"#EBF0F8\"},\"line\":{\"color\":\"white\"}},\"header\":{\"fill\":{\"color\":\"#C8D4E3\"},\"line\":{\"color\":\"white\"}},\"type\":\"table\"}],\"barpolar\":[{\"marker\":{\"line\":{\"color\":\"#E5ECF6\",\"width\":0.5},\"pattern\":{\"fillmode\":\"overlay\",\"size\":10,\"solidity\":0.2}},\"type\":\"barpolar\"}],\"pie\":[{\"automargin\":true,\"type\":\"pie\"}]},\"layout\":{\"autotypenumbers\":\"strict\",\"colorway\":[\"#636efa\",\"#EF553B\",\"#00cc96\",\"#ab63fa\",\"#FFA15A\",\"#19d3f3\",\"#FF6692\",\"#B6E880\",\"#FF97FF\",\"#FECB52\"],\"font\":{\"color\":\"#2a3f5f\"},\"hovermode\":\"closest\",\"hoverlabel\":{\"align\":\"left\"},\"paper_bgcolor\":\"white\",\"plot_bgcolor\":\"#E5ECF6\",\"polar\":{\"bgcolor\":\"#E5ECF6\",\"angularaxis\":{\"gridcolor\":\"white\",\"linecolor\":\"white\",\"ticks\":\"\"},\"radialaxis\":{\"gridcolor\":\"white\",\"linecolor\":\"white\",\"ticks\":\"\"}},\"ternary\":{\"bgcolor\":\"#E5ECF6\",\"aaxis\":{\"gridcolor\":\"white\",\"linecolor\":\"white\",\"ticks\":\"\"},\"baxis\":{\"gridcolor\":\"white\",\"linecolor\":\"white\",\"ticks\":\"\"},\"caxis\":{\"gridcolor\":\"white\",\"linecolor\":\"white\",\"ticks\":\"\"}},\"coloraxis\":{\"colorbar\":{\"outlinewidth\":0,\"ticks\":\"\"}},\"colorscale\":{\"sequential\":[[0.0,\"#0d0887\"],[0.1111111111111111,\"#46039f\"],[0.2222222222222222,\"#7201a8\"],[0.3333333333333333,\"#9c179e\"],[0.4444444444444444,\"#bd3786\"],[0.5555555555555556,\"#d8576b\"],[0.6666666666666666,\"#ed7953\"],[0.7777777777777778,\"#fb9f3a\"],[0.8888888888888888,\"#fdca26\"],[1.0,\"#f0f921\"]],\"sequentialminus\":[[0.0,\"#0d0887\"],[0.1111111111111111,\"#46039f\"],[0.2222222222222222,\"#7201a8\"],[0.3333333333333333,\"#9c179e\"],[0.4444444444444444,\"#bd3786\"],[0.5555555555555556,\"#d8576b\"],[0.6666666666666666,\"#ed7953\"],[0.7777777777777778,\"#fb9f3a\"],[0.8888888888888888,\"#fdca26\"],[1.0,\"#f0f921\"]],\"diverging\":[[0,\"#8e0152\"],[0.1,\"#c51b7d\"],[0.2,\"#de77ae\"],[0.3,\"#f1b6da\"],[0.4,\"#fde0ef\"],[0.5,\"#f7f7f7\"],[0.6,\"#e6f5d0\"],[0.7,\"#b8e186\"],[0.8,\"#7fbc41\"],[0.9,\"#4d9221\"],[1,\"#276419\"]]},\"xaxis\":{\"gridcolor\":\"white\",\"linecolor\":\"white\",\"ticks\":\"\",\"title\":{\"standoff\":15},\"zerolinecolor\":\"white\",\"automargin\":true,\"zerolinewidth\":2},\"yaxis\":{\"gridcolor\":\"white\",\"linecolor\":\"white\",\"ticks\":\"\",\"title\":{\"standoff\":15},\"zerolinecolor\":\"white\",\"automargin\":true,\"zerolinewidth\":2},\"scene\":{\"xaxis\":{\"backgroundcolor\":\"#E5ECF6\",\"gridcolor\":\"white\",\"linecolor\":\"white\",\"showbackground\":true,\"ticks\":\"\",\"zerolinecolor\":\"white\",\"gridwidth\":2},\"yaxis\":{\"backgroundcolor\":\"#E5ECF6\",\"gridcolor\":\"white\",\"linecolor\":\"white\",\"showbackground\":true,\"ticks\":\"\",\"zerolinecolor\":\"white\",\"gridwidth\":2},\"zaxis\":{\"backgroundcolor\":\"#E5ECF6\",\"gridcolor\":\"white\",\"linecolor\":\"white\",\"showbackground\":true,\"ticks\":\"\",\"zerolinecolor\":\"white\",\"gridwidth\":2}},\"shapedefaults\":{\"line\":{\"color\":\"#2a3f5f\"}},\"annotationdefaults\":{\"arrowcolor\":\"#2a3f5f\",\"arrowhead\":0,\"arrowwidth\":1},\"geo\":{\"bgcolor\":\"white\",\"landcolor\":\"#E5ECF6\",\"subunitcolor\":\"white\",\"showland\":true,\"showlakes\":true,\"lakecolor\":\"white\"},\"title\":{\"x\":0.05},\"mapbox\":{\"style\":\"light\"}}},\"xaxis\":{\"anchor\":\"y\",\"domain\":[0.0,1.0],\"title\":{\"text\":\" \"},\"showgrid\":false,\"showticklabels\":false},\"yaxis\":{\"anchor\":\"x\",\"domain\":[0.0,1.0],\"title\":{\"text\":\" \"},\"showgrid\":false,\"showticklabels\":false},\"coloraxis\":{\"colorbar\":{\"title\":{\"text\":\"Posici\\u00f3n en la cancha\"}},\"colorscale\":[[0.0,\"#0d0887\"],[0.1111111111111111,\"#46039f\"],[0.2222222222222222,\"#7201a8\"],[0.3333333333333333,\"#9c179e\"],[0.4444444444444444,\"#bd3786\"],[0.5555555555555556,\"#d8576b\"],[0.6666666666666666,\"#ed7953\"],[0.7777777777777778,\"#fb9f3a\"],[0.8888888888888888,\"#fdca26\"],[1.0,\"#f0f921\"]]},\"legend\":{\"tracegroupgap\":0},\"margin\":{\"t\":60},\"title\":{\"text\":\"Mi 11 Ideal\",\"y\":1,\"x\":0.5,\"xanchor\":\"center\",\"yanchor\":\"top\"},\"plot_bgcolor\":\"lightgreen\"},                        {\"responsive\": true}                    ).then(function(){\n",
              "                            \n",
              "var gd = document.getElementById('1eb96207-05c0-4787-9495-dfb3c0f5537e');\n",
              "var x = new MutationObserver(function (mutations, observer) {{\n",
              "        var display = window.getComputedStyle(gd).display;\n",
              "        if (!display || display === 'none') {{\n",
              "            console.log([gd, 'removed!']);\n",
              "            Plotly.purge(gd);\n",
              "            observer.disconnect();\n",
              "        }}\n",
              "}});\n",
              "\n",
              "// Listen for the removal of the full notebook cells\n",
              "var notebookContainer = gd.closest('#notebook-container');\n",
              "if (notebookContainer) {{\n",
              "    x.observe(notebookContainer, {childList: true});\n",
              "}}\n",
              "\n",
              "// Listen for the clearing of the current output cell\n",
              "var outputEl = gd.closest('.output');\n",
              "if (outputEl) {{\n",
              "    x.observe(outputEl, {childList: true});\n",
              "}}\n",
              "\n",
              "                        })                };                            </script>        </div>\n",
              "</body>\n",
              "</html>"
            ]
          },
          "metadata": {}
        }
      ]
    },
    {
      "cell_type": "markdown",
      "source": [
        "# Adjunto URL de presentacion:"
      ],
      "metadata": {
        "id": "Gt4WUCpWlJjV"
      }
    },
    {
      "cell_type": "markdown",
      "source": [
        "URL: https://docs.google.com/presentation/d/12Gha_azEFGT52kyj1a2xQXYHW4vcaA3YKhK4abQti6A/edit?usp=sharing"
      ],
      "metadata": {
        "id": "Pt20v7_GlR_Z"
      }
    },
    {
      "cell_type": "markdown",
      "source": [
        "# Machine Learning\n",
        "\n"
      ],
      "metadata": {
        "id": "W9JK1Srn3XOJ"
      }
    },
    {
      "cell_type": "markdown",
      "source": [
        "Ahora que ya pase por la parte de Analisis Exploratorio, quiero saber si el club estara pagando bien el valor de los jugadores. En el juego existen jugadores que se llaman \"Jugadores Base\" o \"Jugador de la cantera\". Estos son jugadores que tienen enorme potencial pero que al comenzar el juego tienen una media muy baja, entonces vamos a predecir que valor van a tener esos jugadores el dia que lleguen a su potencial. Para ver si nos conviene dejarnos esos jugadores y luego venderlos. O tambien si nos conviene salir a buscar este estilo de jugadores por el valor a futuro vs el valor del comienzo (vale aclarar que el valor del comienzo es casi nulo en relacion a los valores que he estado manenajdo en este proyecto)."
      ],
      "metadata": {
        "id": "DXq3LuVO5Vlu"
      }
    },
    {
      "cell_type": "markdown",
      "source": [
        "Selecciono estas columnas para comenzar mi Machine Learning.\n",
        "\n",
        "* player_positions\n",
        "* age\n",
        "* height_cm\n",
        "* weight_kg\n",
        "* weak_foot (pie debil)\n",
        "* skill_moves\n",
        "* value_eur\n",
        "* wage_eur\n"
      ],
      "metadata": {
        "id": "FCameSH-lEef"
      }
    },
    {
      "cell_type": "code",
      "source": [
        "#Importo datos, y selecciono columnas que necesito\n",
        "\n",
        "df= pd.read_csv(\"/content/drive/MyDrive/DataScience/players_22.csv\", usecols= ['age','player_positions','value_eur','height_cm','weight_kg','weak_foot','skill_moves',])\n",
        "df"
      ],
      "metadata": {
        "colab": {
          "base_uri": "https://localhost:8080/",
          "height": 424
        },
        "id": "Lf0573FIm8bw",
        "outputId": "b45b8f71-7a15-45a2-a587-46162264da7f"
      },
      "execution_count": null,
      "outputs": [
        {
          "output_type": "execute_result",
          "data": {
            "text/plain": [
              "      player_positions    value_eur  age  height_cm  weight_kg  weak_foot  \\\n",
              "0           RW, ST, CF   78000000.0   34        170         72          4   \n",
              "1                   ST  119500000.0   32        185         81          4   \n",
              "2               ST, LW   45000000.0   36        187         83          4   \n",
              "3              LW, CAM  129000000.0   29        175         68          5   \n",
              "4              CM, CAM  125500000.0   30        181         70          5   \n",
              "...                ...          ...  ...        ...        ...        ...   \n",
              "19234              CDM      70000.0   22        180         64          3   \n",
              "19235               CM     110000.0   19        175         70          3   \n",
              "19236               CM     100000.0   21        178         72          3   \n",
              "19237               ST     110000.0   19        173         66          3   \n",
              "19238              CAM     110000.0   19        167         61          3   \n",
              "\n",
              "       skill_moves  \n",
              "0                4  \n",
              "1                4  \n",
              "2                5  \n",
              "3                5  \n",
              "4                4  \n",
              "...            ...  \n",
              "19234            2  \n",
              "19235            2  \n",
              "19236            2  \n",
              "19237            2  \n",
              "19238            2  \n",
              "\n",
              "[19239 rows x 7 columns]"
            ],
            "text/html": [
              "\n",
              "  <div id=\"df-b1066546-d53d-45db-8ab8-a4d460e7dc2c\">\n",
              "    <div class=\"colab-df-container\">\n",
              "      <div>\n",
              "<style scoped>\n",
              "    .dataframe tbody tr th:only-of-type {\n",
              "        vertical-align: middle;\n",
              "    }\n",
              "\n",
              "    .dataframe tbody tr th {\n",
              "        vertical-align: top;\n",
              "    }\n",
              "\n",
              "    .dataframe thead th {\n",
              "        text-align: right;\n",
              "    }\n",
              "</style>\n",
              "<table border=\"1\" class=\"dataframe\">\n",
              "  <thead>\n",
              "    <tr style=\"text-align: right;\">\n",
              "      <th></th>\n",
              "      <th>player_positions</th>\n",
              "      <th>value_eur</th>\n",
              "      <th>age</th>\n",
              "      <th>height_cm</th>\n",
              "      <th>weight_kg</th>\n",
              "      <th>weak_foot</th>\n",
              "      <th>skill_moves</th>\n",
              "    </tr>\n",
              "  </thead>\n",
              "  <tbody>\n",
              "    <tr>\n",
              "      <th>0</th>\n",
              "      <td>RW, ST, CF</td>\n",
              "      <td>78000000.0</td>\n",
              "      <td>34</td>\n",
              "      <td>170</td>\n",
              "      <td>72</td>\n",
              "      <td>4</td>\n",
              "      <td>4</td>\n",
              "    </tr>\n",
              "    <tr>\n",
              "      <th>1</th>\n",
              "      <td>ST</td>\n",
              "      <td>119500000.0</td>\n",
              "      <td>32</td>\n",
              "      <td>185</td>\n",
              "      <td>81</td>\n",
              "      <td>4</td>\n",
              "      <td>4</td>\n",
              "    </tr>\n",
              "    <tr>\n",
              "      <th>2</th>\n",
              "      <td>ST, LW</td>\n",
              "      <td>45000000.0</td>\n",
              "      <td>36</td>\n",
              "      <td>187</td>\n",
              "      <td>83</td>\n",
              "      <td>4</td>\n",
              "      <td>5</td>\n",
              "    </tr>\n",
              "    <tr>\n",
              "      <th>3</th>\n",
              "      <td>LW, CAM</td>\n",
              "      <td>129000000.0</td>\n",
              "      <td>29</td>\n",
              "      <td>175</td>\n",
              "      <td>68</td>\n",
              "      <td>5</td>\n",
              "      <td>5</td>\n",
              "    </tr>\n",
              "    <tr>\n",
              "      <th>4</th>\n",
              "      <td>CM, CAM</td>\n",
              "      <td>125500000.0</td>\n",
              "      <td>30</td>\n",
              "      <td>181</td>\n",
              "      <td>70</td>\n",
              "      <td>5</td>\n",
              "      <td>4</td>\n",
              "    </tr>\n",
              "    <tr>\n",
              "      <th>...</th>\n",
              "      <td>...</td>\n",
              "      <td>...</td>\n",
              "      <td>...</td>\n",
              "      <td>...</td>\n",
              "      <td>...</td>\n",
              "      <td>...</td>\n",
              "      <td>...</td>\n",
              "    </tr>\n",
              "    <tr>\n",
              "      <th>19234</th>\n",
              "      <td>CDM</td>\n",
              "      <td>70000.0</td>\n",
              "      <td>22</td>\n",
              "      <td>180</td>\n",
              "      <td>64</td>\n",
              "      <td>3</td>\n",
              "      <td>2</td>\n",
              "    </tr>\n",
              "    <tr>\n",
              "      <th>19235</th>\n",
              "      <td>CM</td>\n",
              "      <td>110000.0</td>\n",
              "      <td>19</td>\n",
              "      <td>175</td>\n",
              "      <td>70</td>\n",
              "      <td>3</td>\n",
              "      <td>2</td>\n",
              "    </tr>\n",
              "    <tr>\n",
              "      <th>19236</th>\n",
              "      <td>CM</td>\n",
              "      <td>100000.0</td>\n",
              "      <td>21</td>\n",
              "      <td>178</td>\n",
              "      <td>72</td>\n",
              "      <td>3</td>\n",
              "      <td>2</td>\n",
              "    </tr>\n",
              "    <tr>\n",
              "      <th>19237</th>\n",
              "      <td>ST</td>\n",
              "      <td>110000.0</td>\n",
              "      <td>19</td>\n",
              "      <td>173</td>\n",
              "      <td>66</td>\n",
              "      <td>3</td>\n",
              "      <td>2</td>\n",
              "    </tr>\n",
              "    <tr>\n",
              "      <th>19238</th>\n",
              "      <td>CAM</td>\n",
              "      <td>110000.0</td>\n",
              "      <td>19</td>\n",
              "      <td>167</td>\n",
              "      <td>61</td>\n",
              "      <td>3</td>\n",
              "      <td>2</td>\n",
              "    </tr>\n",
              "  </tbody>\n",
              "</table>\n",
              "<p>19239 rows × 7 columns</p>\n",
              "</div>\n",
              "      <button class=\"colab-df-convert\" onclick=\"convertToInteractive('df-b1066546-d53d-45db-8ab8-a4d460e7dc2c')\"\n",
              "              title=\"Convert this dataframe to an interactive table.\"\n",
              "              style=\"display:none;\">\n",
              "        \n",
              "  <svg xmlns=\"http://www.w3.org/2000/svg\" height=\"24px\"viewBox=\"0 0 24 24\"\n",
              "       width=\"24px\">\n",
              "    <path d=\"M0 0h24v24H0V0z\" fill=\"none\"/>\n",
              "    <path d=\"M18.56 5.44l.94 2.06.94-2.06 2.06-.94-2.06-.94-.94-2.06-.94 2.06-2.06.94zm-11 1L8.5 8.5l.94-2.06 2.06-.94-2.06-.94L8.5 2.5l-.94 2.06-2.06.94zm10 10l.94 2.06.94-2.06 2.06-.94-2.06-.94-.94-2.06-.94 2.06-2.06.94z\"/><path d=\"M17.41 7.96l-1.37-1.37c-.4-.4-.92-.59-1.43-.59-.52 0-1.04.2-1.43.59L10.3 9.45l-7.72 7.72c-.78.78-.78 2.05 0 2.83L4 21.41c.39.39.9.59 1.41.59.51 0 1.02-.2 1.41-.59l7.78-7.78 2.81-2.81c.8-.78.8-2.07 0-2.86zM5.41 20L4 18.59l7.72-7.72 1.47 1.35L5.41 20z\"/>\n",
              "  </svg>\n",
              "      </button>\n",
              "      \n",
              "  <style>\n",
              "    .colab-df-container {\n",
              "      display:flex;\n",
              "      flex-wrap:wrap;\n",
              "      gap: 12px;\n",
              "    }\n",
              "\n",
              "    .colab-df-convert {\n",
              "      background-color: #E8F0FE;\n",
              "      border: none;\n",
              "      border-radius: 50%;\n",
              "      cursor: pointer;\n",
              "      display: none;\n",
              "      fill: #1967D2;\n",
              "      height: 32px;\n",
              "      padding: 0 0 0 0;\n",
              "      width: 32px;\n",
              "    }\n",
              "\n",
              "    .colab-df-convert:hover {\n",
              "      background-color: #E2EBFA;\n",
              "      box-shadow: 0px 1px 2px rgba(60, 64, 67, 0.3), 0px 1px 3px 1px rgba(60, 64, 67, 0.15);\n",
              "      fill: #174EA6;\n",
              "    }\n",
              "\n",
              "    [theme=dark] .colab-df-convert {\n",
              "      background-color: #3B4455;\n",
              "      fill: #D2E3FC;\n",
              "    }\n",
              "\n",
              "    [theme=dark] .colab-df-convert:hover {\n",
              "      background-color: #434B5C;\n",
              "      box-shadow: 0px 1px 3px 1px rgba(0, 0, 0, 0.15);\n",
              "      filter: drop-shadow(0px 1px 2px rgba(0, 0, 0, 0.3));\n",
              "      fill: #FFFFFF;\n",
              "    }\n",
              "  </style>\n",
              "\n",
              "      <script>\n",
              "        const buttonEl =\n",
              "          document.querySelector('#df-b1066546-d53d-45db-8ab8-a4d460e7dc2c button.colab-df-convert');\n",
              "        buttonEl.style.display =\n",
              "          google.colab.kernel.accessAllowed ? 'block' : 'none';\n",
              "\n",
              "        async function convertToInteractive(key) {\n",
              "          const element = document.querySelector('#df-b1066546-d53d-45db-8ab8-a4d460e7dc2c');\n",
              "          const dataTable =\n",
              "            await google.colab.kernel.invokeFunction('convertToInteractive',\n",
              "                                                     [key], {});\n",
              "          if (!dataTable) return;\n",
              "\n",
              "          const docLinkHtml = 'Like what you see? Visit the ' +\n",
              "            '<a target=\"_blank\" href=https://colab.research.google.com/notebooks/data_table.ipynb>data table notebook</a>'\n",
              "            + ' to learn more about interactive tables.';\n",
              "          element.innerHTML = '';\n",
              "          dataTable['output_type'] = 'display_data';\n",
              "          await google.colab.output.renderOutput(dataTable, element);\n",
              "          const docLink = document.createElement('div');\n",
              "          docLink.innerHTML = docLinkHtml;\n",
              "          element.appendChild(docLink);\n",
              "        }\n",
              "      </script>\n",
              "    </div>\n",
              "  </div>\n",
              "  "
            ]
          },
          "metadata": {},
          "execution_count": 45
        }
      ]
    },
    {
      "cell_type": "markdown",
      "source": [
        "#DataCleaning"
      ],
      "metadata": {
        "id": "J-ljyTOSuB-8"
      }
    },
    {
      "cell_type": "code",
      "source": [
        "#Hacemos un analisis resumido de los datos\n",
        "df.describe()"
      ],
      "metadata": {
        "colab": {
          "base_uri": "https://localhost:8080/",
          "height": 300
        },
        "id": "X5DENmmYnOAI",
        "outputId": "20b3c916-38ff-4639-8eb9-cb9f63eff317"
      },
      "execution_count": null,
      "outputs": [
        {
          "output_type": "execute_result",
          "data": {
            "text/plain": [
              "                age       overall     potential     value_eur       wage_eur\n",
              "count  19239.000000  19239.000000  19239.000000  1.916500e+04   19178.000000\n",
              "mean      25.210822     65.772182     71.079370  2.850452e+06    9017.989363\n",
              "std        4.748235      6.880232      6.086213  7.613700e+06   19470.176724\n",
              "min       16.000000     47.000000     49.000000  9.000000e+03     500.000000\n",
              "25%       21.000000     61.000000     67.000000  4.750000e+05    1000.000000\n",
              "50%       25.000000     66.000000     71.000000  9.750000e+05    3000.000000\n",
              "75%       29.000000     70.000000     75.000000  2.000000e+06    8000.000000\n",
              "max       54.000000     93.000000     95.000000  1.940000e+08  350000.000000"
            ],
            "text/html": [
              "\n",
              "  <div id=\"df-83aa56f3-953b-4016-96fd-dd97f2448c4d\">\n",
              "    <div class=\"colab-df-container\">\n",
              "      <div>\n",
              "<style scoped>\n",
              "    .dataframe tbody tr th:only-of-type {\n",
              "        vertical-align: middle;\n",
              "    }\n",
              "\n",
              "    .dataframe tbody tr th {\n",
              "        vertical-align: top;\n",
              "    }\n",
              "\n",
              "    .dataframe thead th {\n",
              "        text-align: right;\n",
              "    }\n",
              "</style>\n",
              "<table border=\"1\" class=\"dataframe\">\n",
              "  <thead>\n",
              "    <tr style=\"text-align: right;\">\n",
              "      <th></th>\n",
              "      <th>age</th>\n",
              "      <th>overall</th>\n",
              "      <th>potential</th>\n",
              "      <th>value_eur</th>\n",
              "      <th>wage_eur</th>\n",
              "    </tr>\n",
              "  </thead>\n",
              "  <tbody>\n",
              "    <tr>\n",
              "      <th>count</th>\n",
              "      <td>19239.000000</td>\n",
              "      <td>19239.000000</td>\n",
              "      <td>19239.000000</td>\n",
              "      <td>1.916500e+04</td>\n",
              "      <td>19178.000000</td>\n",
              "    </tr>\n",
              "    <tr>\n",
              "      <th>mean</th>\n",
              "      <td>25.210822</td>\n",
              "      <td>65.772182</td>\n",
              "      <td>71.079370</td>\n",
              "      <td>2.850452e+06</td>\n",
              "      <td>9017.989363</td>\n",
              "    </tr>\n",
              "    <tr>\n",
              "      <th>std</th>\n",
              "      <td>4.748235</td>\n",
              "      <td>6.880232</td>\n",
              "      <td>6.086213</td>\n",
              "      <td>7.613700e+06</td>\n",
              "      <td>19470.176724</td>\n",
              "    </tr>\n",
              "    <tr>\n",
              "      <th>min</th>\n",
              "      <td>16.000000</td>\n",
              "      <td>47.000000</td>\n",
              "      <td>49.000000</td>\n",
              "      <td>9.000000e+03</td>\n",
              "      <td>500.000000</td>\n",
              "    </tr>\n",
              "    <tr>\n",
              "      <th>25%</th>\n",
              "      <td>21.000000</td>\n",
              "      <td>61.000000</td>\n",
              "      <td>67.000000</td>\n",
              "      <td>4.750000e+05</td>\n",
              "      <td>1000.000000</td>\n",
              "    </tr>\n",
              "    <tr>\n",
              "      <th>50%</th>\n",
              "      <td>25.000000</td>\n",
              "      <td>66.000000</td>\n",
              "      <td>71.000000</td>\n",
              "      <td>9.750000e+05</td>\n",
              "      <td>3000.000000</td>\n",
              "    </tr>\n",
              "    <tr>\n",
              "      <th>75%</th>\n",
              "      <td>29.000000</td>\n",
              "      <td>70.000000</td>\n",
              "      <td>75.000000</td>\n",
              "      <td>2.000000e+06</td>\n",
              "      <td>8000.000000</td>\n",
              "    </tr>\n",
              "    <tr>\n",
              "      <th>max</th>\n",
              "      <td>54.000000</td>\n",
              "      <td>93.000000</td>\n",
              "      <td>95.000000</td>\n",
              "      <td>1.940000e+08</td>\n",
              "      <td>350000.000000</td>\n",
              "    </tr>\n",
              "  </tbody>\n",
              "</table>\n",
              "</div>\n",
              "      <button class=\"colab-df-convert\" onclick=\"convertToInteractive('df-83aa56f3-953b-4016-96fd-dd97f2448c4d')\"\n",
              "              title=\"Convert this dataframe to an interactive table.\"\n",
              "              style=\"display:none;\">\n",
              "        \n",
              "  <svg xmlns=\"http://www.w3.org/2000/svg\" height=\"24px\"viewBox=\"0 0 24 24\"\n",
              "       width=\"24px\">\n",
              "    <path d=\"M0 0h24v24H0V0z\" fill=\"none\"/>\n",
              "    <path d=\"M18.56 5.44l.94 2.06.94-2.06 2.06-.94-2.06-.94-.94-2.06-.94 2.06-2.06.94zm-11 1L8.5 8.5l.94-2.06 2.06-.94-2.06-.94L8.5 2.5l-.94 2.06-2.06.94zm10 10l.94 2.06.94-2.06 2.06-.94-2.06-.94-.94-2.06-.94 2.06-2.06.94z\"/><path d=\"M17.41 7.96l-1.37-1.37c-.4-.4-.92-.59-1.43-.59-.52 0-1.04.2-1.43.59L10.3 9.45l-7.72 7.72c-.78.78-.78 2.05 0 2.83L4 21.41c.39.39.9.59 1.41.59.51 0 1.02-.2 1.41-.59l7.78-7.78 2.81-2.81c.8-.78.8-2.07 0-2.86zM5.41 20L4 18.59l7.72-7.72 1.47 1.35L5.41 20z\"/>\n",
              "  </svg>\n",
              "      </button>\n",
              "      \n",
              "  <style>\n",
              "    .colab-df-container {\n",
              "      display:flex;\n",
              "      flex-wrap:wrap;\n",
              "      gap: 12px;\n",
              "    }\n",
              "\n",
              "    .colab-df-convert {\n",
              "      background-color: #E8F0FE;\n",
              "      border: none;\n",
              "      border-radius: 50%;\n",
              "      cursor: pointer;\n",
              "      display: none;\n",
              "      fill: #1967D2;\n",
              "      height: 32px;\n",
              "      padding: 0 0 0 0;\n",
              "      width: 32px;\n",
              "    }\n",
              "\n",
              "    .colab-df-convert:hover {\n",
              "      background-color: #E2EBFA;\n",
              "      box-shadow: 0px 1px 2px rgba(60, 64, 67, 0.3), 0px 1px 3px 1px rgba(60, 64, 67, 0.15);\n",
              "      fill: #174EA6;\n",
              "    }\n",
              "\n",
              "    [theme=dark] .colab-df-convert {\n",
              "      background-color: #3B4455;\n",
              "      fill: #D2E3FC;\n",
              "    }\n",
              "\n",
              "    [theme=dark] .colab-df-convert:hover {\n",
              "      background-color: #434B5C;\n",
              "      box-shadow: 0px 1px 3px 1px rgba(0, 0, 0, 0.15);\n",
              "      filter: drop-shadow(0px 1px 2px rgba(0, 0, 0, 0.3));\n",
              "      fill: #FFFFFF;\n",
              "    }\n",
              "  </style>\n",
              "\n",
              "      <script>\n",
              "        const buttonEl =\n",
              "          document.querySelector('#df-83aa56f3-953b-4016-96fd-dd97f2448c4d button.colab-df-convert');\n",
              "        buttonEl.style.display =\n",
              "          google.colab.kernel.accessAllowed ? 'block' : 'none';\n",
              "\n",
              "        async function convertToInteractive(key) {\n",
              "          const element = document.querySelector('#df-83aa56f3-953b-4016-96fd-dd97f2448c4d');\n",
              "          const dataTable =\n",
              "            await google.colab.kernel.invokeFunction('convertToInteractive',\n",
              "                                                     [key], {});\n",
              "          if (!dataTable) return;\n",
              "\n",
              "          const docLinkHtml = 'Like what you see? Visit the ' +\n",
              "            '<a target=\"_blank\" href=https://colab.research.google.com/notebooks/data_table.ipynb>data table notebook</a>'\n",
              "            + ' to learn more about interactive tables.';\n",
              "          element.innerHTML = '';\n",
              "          dataTable['output_type'] = 'display_data';\n",
              "          await google.colab.output.renderOutput(dataTable, element);\n",
              "          const docLink = document.createElement('div');\n",
              "          docLink.innerHTML = docLinkHtml;\n",
              "          element.appendChild(docLink);\n",
              "        }\n",
              "      </script>\n",
              "    </div>\n",
              "  </div>\n",
              "  "
            ]
          },
          "metadata": {},
          "execution_count": 12
        }
      ]
    },
    {
      "cell_type": "code",
      "source": [
        "#Vemos cantidad de nulos\n",
        "df.isna().sum()"
      ],
      "metadata": {
        "colab": {
          "base_uri": "https://localhost:8080/"
        },
        "id": "ZFUJXD2urpN2",
        "outputId": "6010bd1b-d934-47fa-ad23-1dae2bc21cdc"
      },
      "execution_count": null,
      "outputs": [
        {
          "output_type": "execute_result",
          "data": {
            "text/plain": [
              "player_positions     0\n",
              "value_eur           74\n",
              "age                  0\n",
              "height_cm            0\n",
              "weight_kg            0\n",
              "weak_foot            0\n",
              "skill_moves          0\n",
              "dtype: int64"
            ]
          },
          "metadata": {},
          "execution_count": 46
        }
      ]
    },
    {
      "cell_type": "code",
      "source": [
        "#La cantidad de datos nulos en value_eur son muy pocos en relacion a los que tenemos, entonces los eliminamos.\n",
        "df= df.dropna().reset_index(drop=True)\n",
        "df.isna().sum()"
      ],
      "metadata": {
        "colab": {
          "base_uri": "https://localhost:8080/"
        },
        "id": "kI8nUazirty9",
        "outputId": "6f72fd6e-3911-4f51-ca8e-120e3af95bd1"
      },
      "execution_count": null,
      "outputs": [
        {
          "output_type": "execute_result",
          "data": {
            "text/plain": [
              "player_positions    0\n",
              "value_eur           0\n",
              "age                 0\n",
              "height_cm           0\n",
              "weight_kg           0\n",
              "weak_foot           0\n",
              "skill_moves         0\n",
              "dtype: int64"
            ]
          },
          "metadata": {},
          "execution_count": 47
        }
      ]
    },
    {
      "cell_type": "code",
      "source": [
        "#Corregimos los datos, los transformamos en int\n",
        "df[\"value_eur\"] = df[\"value_eur\"].astype(int)\n",
        "df.head()"
      ],
      "metadata": {
        "colab": {
          "base_uri": "https://localhost:8080/",
          "height": 206
        },
        "id": "QJEivUk4seCh",
        "outputId": "00c25b40-0a94-4934-b372-c13197eed526"
      },
      "execution_count": null,
      "outputs": [
        {
          "output_type": "execute_result",
          "data": {
            "text/plain": [
              "  player_positions  value_eur  age  height_cm  weight_kg  weak_foot  \\\n",
              "0       RW, ST, CF   78000000   34        170         72          4   \n",
              "1               ST  119500000   32        185         81          4   \n",
              "2           ST, LW   45000000   36        187         83          4   \n",
              "3          LW, CAM  129000000   29        175         68          5   \n",
              "4          CM, CAM  125500000   30        181         70          5   \n",
              "\n",
              "   skill_moves  \n",
              "0            4  \n",
              "1            4  \n",
              "2            5  \n",
              "3            5  \n",
              "4            4  "
            ],
            "text/html": [
              "\n",
              "  <div id=\"df-a650da28-bee4-4c17-abb3-bc3ed7309770\">\n",
              "    <div class=\"colab-df-container\">\n",
              "      <div>\n",
              "<style scoped>\n",
              "    .dataframe tbody tr th:only-of-type {\n",
              "        vertical-align: middle;\n",
              "    }\n",
              "\n",
              "    .dataframe tbody tr th {\n",
              "        vertical-align: top;\n",
              "    }\n",
              "\n",
              "    .dataframe thead th {\n",
              "        text-align: right;\n",
              "    }\n",
              "</style>\n",
              "<table border=\"1\" class=\"dataframe\">\n",
              "  <thead>\n",
              "    <tr style=\"text-align: right;\">\n",
              "      <th></th>\n",
              "      <th>player_positions</th>\n",
              "      <th>value_eur</th>\n",
              "      <th>age</th>\n",
              "      <th>height_cm</th>\n",
              "      <th>weight_kg</th>\n",
              "      <th>weak_foot</th>\n",
              "      <th>skill_moves</th>\n",
              "    </tr>\n",
              "  </thead>\n",
              "  <tbody>\n",
              "    <tr>\n",
              "      <th>0</th>\n",
              "      <td>RW, ST, CF</td>\n",
              "      <td>78000000</td>\n",
              "      <td>34</td>\n",
              "      <td>170</td>\n",
              "      <td>72</td>\n",
              "      <td>4</td>\n",
              "      <td>4</td>\n",
              "    </tr>\n",
              "    <tr>\n",
              "      <th>1</th>\n",
              "      <td>ST</td>\n",
              "      <td>119500000</td>\n",
              "      <td>32</td>\n",
              "      <td>185</td>\n",
              "      <td>81</td>\n",
              "      <td>4</td>\n",
              "      <td>4</td>\n",
              "    </tr>\n",
              "    <tr>\n",
              "      <th>2</th>\n",
              "      <td>ST, LW</td>\n",
              "      <td>45000000</td>\n",
              "      <td>36</td>\n",
              "      <td>187</td>\n",
              "      <td>83</td>\n",
              "      <td>4</td>\n",
              "      <td>5</td>\n",
              "    </tr>\n",
              "    <tr>\n",
              "      <th>3</th>\n",
              "      <td>LW, CAM</td>\n",
              "      <td>129000000</td>\n",
              "      <td>29</td>\n",
              "      <td>175</td>\n",
              "      <td>68</td>\n",
              "      <td>5</td>\n",
              "      <td>5</td>\n",
              "    </tr>\n",
              "    <tr>\n",
              "      <th>4</th>\n",
              "      <td>CM, CAM</td>\n",
              "      <td>125500000</td>\n",
              "      <td>30</td>\n",
              "      <td>181</td>\n",
              "      <td>70</td>\n",
              "      <td>5</td>\n",
              "      <td>4</td>\n",
              "    </tr>\n",
              "  </tbody>\n",
              "</table>\n",
              "</div>\n",
              "      <button class=\"colab-df-convert\" onclick=\"convertToInteractive('df-a650da28-bee4-4c17-abb3-bc3ed7309770')\"\n",
              "              title=\"Convert this dataframe to an interactive table.\"\n",
              "              style=\"display:none;\">\n",
              "        \n",
              "  <svg xmlns=\"http://www.w3.org/2000/svg\" height=\"24px\"viewBox=\"0 0 24 24\"\n",
              "       width=\"24px\">\n",
              "    <path d=\"M0 0h24v24H0V0z\" fill=\"none\"/>\n",
              "    <path d=\"M18.56 5.44l.94 2.06.94-2.06 2.06-.94-2.06-.94-.94-2.06-.94 2.06-2.06.94zm-11 1L8.5 8.5l.94-2.06 2.06-.94-2.06-.94L8.5 2.5l-.94 2.06-2.06.94zm10 10l.94 2.06.94-2.06 2.06-.94-2.06-.94-.94-2.06-.94 2.06-2.06.94z\"/><path d=\"M17.41 7.96l-1.37-1.37c-.4-.4-.92-.59-1.43-.59-.52 0-1.04.2-1.43.59L10.3 9.45l-7.72 7.72c-.78.78-.78 2.05 0 2.83L4 21.41c.39.39.9.59 1.41.59.51 0 1.02-.2 1.41-.59l7.78-7.78 2.81-2.81c.8-.78.8-2.07 0-2.86zM5.41 20L4 18.59l7.72-7.72 1.47 1.35L5.41 20z\"/>\n",
              "  </svg>\n",
              "      </button>\n",
              "      \n",
              "  <style>\n",
              "    .colab-df-container {\n",
              "      display:flex;\n",
              "      flex-wrap:wrap;\n",
              "      gap: 12px;\n",
              "    }\n",
              "\n",
              "    .colab-df-convert {\n",
              "      background-color: #E8F0FE;\n",
              "      border: none;\n",
              "      border-radius: 50%;\n",
              "      cursor: pointer;\n",
              "      display: none;\n",
              "      fill: #1967D2;\n",
              "      height: 32px;\n",
              "      padding: 0 0 0 0;\n",
              "      width: 32px;\n",
              "    }\n",
              "\n",
              "    .colab-df-convert:hover {\n",
              "      background-color: #E2EBFA;\n",
              "      box-shadow: 0px 1px 2px rgba(60, 64, 67, 0.3), 0px 1px 3px 1px rgba(60, 64, 67, 0.15);\n",
              "      fill: #174EA6;\n",
              "    }\n",
              "\n",
              "    [theme=dark] .colab-df-convert {\n",
              "      background-color: #3B4455;\n",
              "      fill: #D2E3FC;\n",
              "    }\n",
              "\n",
              "    [theme=dark] .colab-df-convert:hover {\n",
              "      background-color: #434B5C;\n",
              "      box-shadow: 0px 1px 3px 1px rgba(0, 0, 0, 0.15);\n",
              "      filter: drop-shadow(0px 1px 2px rgba(0, 0, 0, 0.3));\n",
              "      fill: #FFFFFF;\n",
              "    }\n",
              "  </style>\n",
              "\n",
              "      <script>\n",
              "        const buttonEl =\n",
              "          document.querySelector('#df-a650da28-bee4-4c17-abb3-bc3ed7309770 button.colab-df-convert');\n",
              "        buttonEl.style.display =\n",
              "          google.colab.kernel.accessAllowed ? 'block' : 'none';\n",
              "\n",
              "        async function convertToInteractive(key) {\n",
              "          const element = document.querySelector('#df-a650da28-bee4-4c17-abb3-bc3ed7309770');\n",
              "          const dataTable =\n",
              "            await google.colab.kernel.invokeFunction('convertToInteractive',\n",
              "                                                     [key], {});\n",
              "          if (!dataTable) return;\n",
              "\n",
              "          const docLinkHtml = 'Like what you see? Visit the ' +\n",
              "            '<a target=\"_blank\" href=https://colab.research.google.com/notebooks/data_table.ipynb>data table notebook</a>'\n",
              "            + ' to learn more about interactive tables.';\n",
              "          element.innerHTML = '';\n",
              "          dataTable['output_type'] = 'display_data';\n",
              "          await google.colab.output.renderOutput(dataTable, element);\n",
              "          const docLink = document.createElement('div');\n",
              "          docLink.innerHTML = docLinkHtml;\n",
              "          element.appendChild(docLink);\n",
              "        }\n",
              "      </script>\n",
              "    </div>\n",
              "  </div>\n",
              "  "
            ]
          },
          "metadata": {},
          "execution_count": 50
        }
      ]
    },
    {
      "cell_type": "code",
      "source": [
        "# Vemos que tipo de datos tenemos, (vemos que hay object, necesitamos que todos sean int64)\n",
        "df.dtypes"
      ],
      "metadata": {
        "colab": {
          "base_uri": "https://localhost:8080/"
        },
        "id": "yDXJBhyX7Rnb",
        "outputId": "794f7e59-c314-4b92-d7ae-2f678101d97a"
      },
      "execution_count": null,
      "outputs": [
        {
          "output_type": "execute_result",
          "data": {
            "text/plain": [
              "player_positions    object\n",
              "value_eur            int64\n",
              "age                  int64\n",
              "height_cm            int64\n",
              "weight_kg            int64\n",
              "weak_foot            int64\n",
              "skill_moves          int64\n",
              "dtype: object"
            ]
          },
          "metadata": {},
          "execution_count": 51
        }
      ]
    },
    {
      "cell_type": "code",
      "source": [
        "#Hacemos One-Hot-Enconding sobre player_positions\n",
        "df_one_hot = pd.get_dummies(df['player_positions'].str.get_dummies(', '))\n",
        "df = pd.concat([df, df_one_hot], axis=1)\n",
        "df.drop(columns='player_positions', inplace=True)\n",
        "df.head()"
      ],
      "metadata": {
        "colab": {
          "base_uri": "https://localhost:8080/",
          "height": 236
        },
        "id": "kFJgB2Ubs8kW",
        "outputId": "0f9bb663-d74c-4f62-aad3-2b01a0b3f59a"
      },
      "execution_count": null,
      "outputs": [
        {
          "output_type": "execute_result",
          "data": {
            "text/plain": [
              "   value_eur  age  height_cm  weight_kg  weak_foot  skill_moves  CAM  CB  CDM  \\\n",
              "0   78000000   34        170         72          4            4    0   0    0   \n",
              "1  119500000   32        185         81          4            4    0   0    0   \n",
              "2   45000000   36        187         83          4            5    0   0    0   \n",
              "3  129000000   29        175         68          5            5    1   0    0   \n",
              "4  125500000   30        181         70          5            4    1   0    0   \n",
              "\n",
              "   CF  ...  GK  LB  LM  LW  LWB  RB  RM  RW  RWB  ST  \n",
              "0   1  ...   0   0   0   0    0   0   0   1    0   1  \n",
              "1   0  ...   0   0   0   0    0   0   0   0    0   1  \n",
              "2   0  ...   0   0   0   1    0   0   0   0    0   1  \n",
              "3   0  ...   0   0   0   1    0   0   0   0    0   0  \n",
              "4   0  ...   0   0   0   0    0   0   0   0    0   0  \n",
              "\n",
              "[5 rows x 21 columns]"
            ],
            "text/html": [
              "\n",
              "  <div id=\"df-4346bcb4-902e-4a8e-8afd-b449f685b509\">\n",
              "    <div class=\"colab-df-container\">\n",
              "      <div>\n",
              "<style scoped>\n",
              "    .dataframe tbody tr th:only-of-type {\n",
              "        vertical-align: middle;\n",
              "    }\n",
              "\n",
              "    .dataframe tbody tr th {\n",
              "        vertical-align: top;\n",
              "    }\n",
              "\n",
              "    .dataframe thead th {\n",
              "        text-align: right;\n",
              "    }\n",
              "</style>\n",
              "<table border=\"1\" class=\"dataframe\">\n",
              "  <thead>\n",
              "    <tr style=\"text-align: right;\">\n",
              "      <th></th>\n",
              "      <th>value_eur</th>\n",
              "      <th>age</th>\n",
              "      <th>height_cm</th>\n",
              "      <th>weight_kg</th>\n",
              "      <th>weak_foot</th>\n",
              "      <th>skill_moves</th>\n",
              "      <th>CAM</th>\n",
              "      <th>CB</th>\n",
              "      <th>CDM</th>\n",
              "      <th>CF</th>\n",
              "      <th>...</th>\n",
              "      <th>GK</th>\n",
              "      <th>LB</th>\n",
              "      <th>LM</th>\n",
              "      <th>LW</th>\n",
              "      <th>LWB</th>\n",
              "      <th>RB</th>\n",
              "      <th>RM</th>\n",
              "      <th>RW</th>\n",
              "      <th>RWB</th>\n",
              "      <th>ST</th>\n",
              "    </tr>\n",
              "  </thead>\n",
              "  <tbody>\n",
              "    <tr>\n",
              "      <th>0</th>\n",
              "      <td>78000000</td>\n",
              "      <td>34</td>\n",
              "      <td>170</td>\n",
              "      <td>72</td>\n",
              "      <td>4</td>\n",
              "      <td>4</td>\n",
              "      <td>0</td>\n",
              "      <td>0</td>\n",
              "      <td>0</td>\n",
              "      <td>1</td>\n",
              "      <td>...</td>\n",
              "      <td>0</td>\n",
              "      <td>0</td>\n",
              "      <td>0</td>\n",
              "      <td>0</td>\n",
              "      <td>0</td>\n",
              "      <td>0</td>\n",
              "      <td>0</td>\n",
              "      <td>1</td>\n",
              "      <td>0</td>\n",
              "      <td>1</td>\n",
              "    </tr>\n",
              "    <tr>\n",
              "      <th>1</th>\n",
              "      <td>119500000</td>\n",
              "      <td>32</td>\n",
              "      <td>185</td>\n",
              "      <td>81</td>\n",
              "      <td>4</td>\n",
              "      <td>4</td>\n",
              "      <td>0</td>\n",
              "      <td>0</td>\n",
              "      <td>0</td>\n",
              "      <td>0</td>\n",
              "      <td>...</td>\n",
              "      <td>0</td>\n",
              "      <td>0</td>\n",
              "      <td>0</td>\n",
              "      <td>0</td>\n",
              "      <td>0</td>\n",
              "      <td>0</td>\n",
              "      <td>0</td>\n",
              "      <td>0</td>\n",
              "      <td>0</td>\n",
              "      <td>1</td>\n",
              "    </tr>\n",
              "    <tr>\n",
              "      <th>2</th>\n",
              "      <td>45000000</td>\n",
              "      <td>36</td>\n",
              "      <td>187</td>\n",
              "      <td>83</td>\n",
              "      <td>4</td>\n",
              "      <td>5</td>\n",
              "      <td>0</td>\n",
              "      <td>0</td>\n",
              "      <td>0</td>\n",
              "      <td>0</td>\n",
              "      <td>...</td>\n",
              "      <td>0</td>\n",
              "      <td>0</td>\n",
              "      <td>0</td>\n",
              "      <td>1</td>\n",
              "      <td>0</td>\n",
              "      <td>0</td>\n",
              "      <td>0</td>\n",
              "      <td>0</td>\n",
              "      <td>0</td>\n",
              "      <td>1</td>\n",
              "    </tr>\n",
              "    <tr>\n",
              "      <th>3</th>\n",
              "      <td>129000000</td>\n",
              "      <td>29</td>\n",
              "      <td>175</td>\n",
              "      <td>68</td>\n",
              "      <td>5</td>\n",
              "      <td>5</td>\n",
              "      <td>1</td>\n",
              "      <td>0</td>\n",
              "      <td>0</td>\n",
              "      <td>0</td>\n",
              "      <td>...</td>\n",
              "      <td>0</td>\n",
              "      <td>0</td>\n",
              "      <td>0</td>\n",
              "      <td>1</td>\n",
              "      <td>0</td>\n",
              "      <td>0</td>\n",
              "      <td>0</td>\n",
              "      <td>0</td>\n",
              "      <td>0</td>\n",
              "      <td>0</td>\n",
              "    </tr>\n",
              "    <tr>\n",
              "      <th>4</th>\n",
              "      <td>125500000</td>\n",
              "      <td>30</td>\n",
              "      <td>181</td>\n",
              "      <td>70</td>\n",
              "      <td>5</td>\n",
              "      <td>4</td>\n",
              "      <td>1</td>\n",
              "      <td>0</td>\n",
              "      <td>0</td>\n",
              "      <td>0</td>\n",
              "      <td>...</td>\n",
              "      <td>0</td>\n",
              "      <td>0</td>\n",
              "      <td>0</td>\n",
              "      <td>0</td>\n",
              "      <td>0</td>\n",
              "      <td>0</td>\n",
              "      <td>0</td>\n",
              "      <td>0</td>\n",
              "      <td>0</td>\n",
              "      <td>0</td>\n",
              "    </tr>\n",
              "  </tbody>\n",
              "</table>\n",
              "<p>5 rows × 21 columns</p>\n",
              "</div>\n",
              "      <button class=\"colab-df-convert\" onclick=\"convertToInteractive('df-4346bcb4-902e-4a8e-8afd-b449f685b509')\"\n",
              "              title=\"Convert this dataframe to an interactive table.\"\n",
              "              style=\"display:none;\">\n",
              "        \n",
              "  <svg xmlns=\"http://www.w3.org/2000/svg\" height=\"24px\"viewBox=\"0 0 24 24\"\n",
              "       width=\"24px\">\n",
              "    <path d=\"M0 0h24v24H0V0z\" fill=\"none\"/>\n",
              "    <path d=\"M18.56 5.44l.94 2.06.94-2.06 2.06-.94-2.06-.94-.94-2.06-.94 2.06-2.06.94zm-11 1L8.5 8.5l.94-2.06 2.06-.94-2.06-.94L8.5 2.5l-.94 2.06-2.06.94zm10 10l.94 2.06.94-2.06 2.06-.94-2.06-.94-.94-2.06-.94 2.06-2.06.94z\"/><path d=\"M17.41 7.96l-1.37-1.37c-.4-.4-.92-.59-1.43-.59-.52 0-1.04.2-1.43.59L10.3 9.45l-7.72 7.72c-.78.78-.78 2.05 0 2.83L4 21.41c.39.39.9.59 1.41.59.51 0 1.02-.2 1.41-.59l7.78-7.78 2.81-2.81c.8-.78.8-2.07 0-2.86zM5.41 20L4 18.59l7.72-7.72 1.47 1.35L5.41 20z\"/>\n",
              "  </svg>\n",
              "      </button>\n",
              "      \n",
              "  <style>\n",
              "    .colab-df-container {\n",
              "      display:flex;\n",
              "      flex-wrap:wrap;\n",
              "      gap: 12px;\n",
              "    }\n",
              "\n",
              "    .colab-df-convert {\n",
              "      background-color: #E8F0FE;\n",
              "      border: none;\n",
              "      border-radius: 50%;\n",
              "      cursor: pointer;\n",
              "      display: none;\n",
              "      fill: #1967D2;\n",
              "      height: 32px;\n",
              "      padding: 0 0 0 0;\n",
              "      width: 32px;\n",
              "    }\n",
              "\n",
              "    .colab-df-convert:hover {\n",
              "      background-color: #E2EBFA;\n",
              "      box-shadow: 0px 1px 2px rgba(60, 64, 67, 0.3), 0px 1px 3px 1px rgba(60, 64, 67, 0.15);\n",
              "      fill: #174EA6;\n",
              "    }\n",
              "\n",
              "    [theme=dark] .colab-df-convert {\n",
              "      background-color: #3B4455;\n",
              "      fill: #D2E3FC;\n",
              "    }\n",
              "\n",
              "    [theme=dark] .colab-df-convert:hover {\n",
              "      background-color: #434B5C;\n",
              "      box-shadow: 0px 1px 3px 1px rgba(0, 0, 0, 0.15);\n",
              "      filter: drop-shadow(0px 1px 2px rgba(0, 0, 0, 0.3));\n",
              "      fill: #FFFFFF;\n",
              "    }\n",
              "  </style>\n",
              "\n",
              "      <script>\n",
              "        const buttonEl =\n",
              "          document.querySelector('#df-4346bcb4-902e-4a8e-8afd-b449f685b509 button.colab-df-convert');\n",
              "        buttonEl.style.display =\n",
              "          google.colab.kernel.accessAllowed ? 'block' : 'none';\n",
              "\n",
              "        async function convertToInteractive(key) {\n",
              "          const element = document.querySelector('#df-4346bcb4-902e-4a8e-8afd-b449f685b509');\n",
              "          const dataTable =\n",
              "            await google.colab.kernel.invokeFunction('convertToInteractive',\n",
              "                                                     [key], {});\n",
              "          if (!dataTable) return;\n",
              "\n",
              "          const docLinkHtml = 'Like what you see? Visit the ' +\n",
              "            '<a target=\"_blank\" href=https://colab.research.google.com/notebooks/data_table.ipynb>data table notebook</a>'\n",
              "            + ' to learn more about interactive tables.';\n",
              "          element.innerHTML = '';\n",
              "          dataTable['output_type'] = 'display_data';\n",
              "          await google.colab.output.renderOutput(dataTable, element);\n",
              "          const docLink = document.createElement('div');\n",
              "          docLink.innerHTML = docLinkHtml;\n",
              "          element.appendChild(docLink);\n",
              "        }\n",
              "      </script>\n",
              "    </div>\n",
              "  </div>\n",
              "  "
            ]
          },
          "metadata": {},
          "execution_count": 52
        }
      ]
    },
    {
      "cell_type": "code",
      "source": [
        "#Verificamos tipos de datos (Son todos int64)\n",
        "df.dtypes"
      ],
      "metadata": {
        "colab": {
          "base_uri": "https://localhost:8080/"
        },
        "id": "ZlJPSlzEtzJo",
        "outputId": "64e3c765-734b-4175-ed62-462657fe92cb"
      },
      "execution_count": null,
      "outputs": [
        {
          "output_type": "execute_result",
          "data": {
            "text/plain": [
              "value_eur      int64\n",
              "age            int64\n",
              "height_cm      int64\n",
              "weight_kg      int64\n",
              "weak_foot      int64\n",
              "skill_moves    int64\n",
              "CAM            int64\n",
              "CB             int64\n",
              "CDM            int64\n",
              "CF             int64\n",
              "CM             int64\n",
              "GK             int64\n",
              "LB             int64\n",
              "LM             int64\n",
              "LW             int64\n",
              "LWB            int64\n",
              "RB             int64\n",
              "RM             int64\n",
              "RW             int64\n",
              "RWB            int64\n",
              "ST             int64\n",
              "dtype: object"
            ]
          },
          "metadata": {},
          "execution_count": 53
        }
      ]
    },
    {
      "cell_type": "markdown",
      "source": [
        "# Entrenamos un modelo para testear performance (este va a andar mal)\n",
        "\n",
        "---\n",
        "\n"
      ],
      "metadata": {
        "id": "sDNq1RpW7Ro_"
      }
    },
    {
      "cell_type": "code",
      "source": [
        "#Separamos el dataset en train y test\n",
        "\n",
        "from sklearn.ensemble import RandomForestRegressor\n",
        "from sklearn.model_selection import train_test_split\n",
        "\n",
        "#Separamos la data en features y target\n",
        "features = df.drop('value_eur', axis=1)\n",
        "target = df['value_eur']\n",
        "\n",
        "# Separamos la data en taining y testing\n",
        "X_train, X_test, y_train, y_test = train_test_split(features, target, test_size=0.2, random_state=0)\n",
        "\n",
        "# Entrenamos The Random Forest Regressor\n",
        "model = RandomForestRegressor(n_estimators=100, random_state=0)\n",
        "model.fit(X_train, y_train)\n",
        "\n",
        "\n",
        "# Evaluamos el modelo\n",
        "score = model.score(X_test, y_test)\n",
        "print(\"Test Score: \", score)"
      ],
      "metadata": {
        "colab": {
          "base_uri": "https://localhost:8080/"
        },
        "id": "81z3yhBa7AIb",
        "outputId": "301fe075-eb6b-4b35-9215-a959f8e1bdf7"
      },
      "execution_count": null,
      "outputs": [
        {
          "output_type": "stream",
          "name": "stdout",
          "text": [
            "Test Score:  0.06528595271603055\n"
          ]
        }
      ]
    },
    {
      "cell_type": "markdown",
      "source": [
        "Vemos que la performance de este entrenamiento es muy baja, tiene un Score de 0.06, es bajisimo"
      ],
      "metadata": {
        "id": "VyFc10RA7u9y"
      }
    },
    {
      "cell_type": "markdown",
      "source": [
        "Decido entrenar mi modelo con las columnas de Overall y Potential ademas de las que estan. Hacemos el data cleaning que hicimos, volvemos a probar el random forest y vemos que le va bien. Para entender que sucede, hacemos la correlacion y vemos que esas 2 variables son las importantes. Decidimos descartar las demas. Ahora volvemos a entrernar el modelo SOLO con esas 2 variables, vemos que la performance es alta y decidimos dejar el modelo asi. Ahora probamos varios modelos, y despues sobre el que elegimos, agregamos hiperparametros"
      ],
      "metadata": {
        "id": "mAMCRzDX6WjY"
      }
    },
    {
      "cell_type": "code",
      "source": [
        "# Agregamos columnas de \"overall\" y \"potential\" para testear\n",
        "\n",
        "df= pd.read_csv(\"/content/drive/MyDrive/DataScience/players_22.csv\", usecols= ['age', 'overall', 'potential', 'player_positions','value_eur','height_cm','weight_kg','weak_foot','skill_moves',])\n",
        "df"
      ],
      "metadata": {
        "id": "pAJdTnl67eOS",
        "colab": {
          "base_uri": "https://localhost:8080/",
          "height": 424
        },
        "outputId": "7a4f1210-7a30-4f46-c378-337297a07940"
      },
      "execution_count": null,
      "outputs": [
        {
          "output_type": "execute_result",
          "data": {
            "text/plain": [
              "      player_positions  overall  potential    value_eur  age  height_cm  \\\n",
              "0           RW, ST, CF       93         93   78000000.0   34        170   \n",
              "1                   ST       92         92  119500000.0   32        185   \n",
              "2               ST, LW       91         91   45000000.0   36        187   \n",
              "3              LW, CAM       91         91  129000000.0   29        175   \n",
              "4              CM, CAM       91         91  125500000.0   30        181   \n",
              "...                ...      ...        ...          ...  ...        ...   \n",
              "19234              CDM       47         52      70000.0   22        180   \n",
              "19235               CM       47         59     110000.0   19        175   \n",
              "19236               CM       47         55     100000.0   21        178   \n",
              "19237               ST       47         60     110000.0   19        173   \n",
              "19238              CAM       47         60     110000.0   19        167   \n",
              "\n",
              "       weight_kg  weak_foot  skill_moves  \n",
              "0             72          4            4  \n",
              "1             81          4            4  \n",
              "2             83          4            5  \n",
              "3             68          5            5  \n",
              "4             70          5            4  \n",
              "...          ...        ...          ...  \n",
              "19234         64          3            2  \n",
              "19235         70          3            2  \n",
              "19236         72          3            2  \n",
              "19237         66          3            2  \n",
              "19238         61          3            2  \n",
              "\n",
              "[19239 rows x 9 columns]"
            ],
            "text/html": [
              "\n",
              "  <div id=\"df-ade45b77-288f-4a8c-9109-5aff854144d0\">\n",
              "    <div class=\"colab-df-container\">\n",
              "      <div>\n",
              "<style scoped>\n",
              "    .dataframe tbody tr th:only-of-type {\n",
              "        vertical-align: middle;\n",
              "    }\n",
              "\n",
              "    .dataframe tbody tr th {\n",
              "        vertical-align: top;\n",
              "    }\n",
              "\n",
              "    .dataframe thead th {\n",
              "        text-align: right;\n",
              "    }\n",
              "</style>\n",
              "<table border=\"1\" class=\"dataframe\">\n",
              "  <thead>\n",
              "    <tr style=\"text-align: right;\">\n",
              "      <th></th>\n",
              "      <th>player_positions</th>\n",
              "      <th>overall</th>\n",
              "      <th>potential</th>\n",
              "      <th>value_eur</th>\n",
              "      <th>age</th>\n",
              "      <th>height_cm</th>\n",
              "      <th>weight_kg</th>\n",
              "      <th>weak_foot</th>\n",
              "      <th>skill_moves</th>\n",
              "    </tr>\n",
              "  </thead>\n",
              "  <tbody>\n",
              "    <tr>\n",
              "      <th>0</th>\n",
              "      <td>RW, ST, CF</td>\n",
              "      <td>93</td>\n",
              "      <td>93</td>\n",
              "      <td>78000000.0</td>\n",
              "      <td>34</td>\n",
              "      <td>170</td>\n",
              "      <td>72</td>\n",
              "      <td>4</td>\n",
              "      <td>4</td>\n",
              "    </tr>\n",
              "    <tr>\n",
              "      <th>1</th>\n",
              "      <td>ST</td>\n",
              "      <td>92</td>\n",
              "      <td>92</td>\n",
              "      <td>119500000.0</td>\n",
              "      <td>32</td>\n",
              "      <td>185</td>\n",
              "      <td>81</td>\n",
              "      <td>4</td>\n",
              "      <td>4</td>\n",
              "    </tr>\n",
              "    <tr>\n",
              "      <th>2</th>\n",
              "      <td>ST, LW</td>\n",
              "      <td>91</td>\n",
              "      <td>91</td>\n",
              "      <td>45000000.0</td>\n",
              "      <td>36</td>\n",
              "      <td>187</td>\n",
              "      <td>83</td>\n",
              "      <td>4</td>\n",
              "      <td>5</td>\n",
              "    </tr>\n",
              "    <tr>\n",
              "      <th>3</th>\n",
              "      <td>LW, CAM</td>\n",
              "      <td>91</td>\n",
              "      <td>91</td>\n",
              "      <td>129000000.0</td>\n",
              "      <td>29</td>\n",
              "      <td>175</td>\n",
              "      <td>68</td>\n",
              "      <td>5</td>\n",
              "      <td>5</td>\n",
              "    </tr>\n",
              "    <tr>\n",
              "      <th>4</th>\n",
              "      <td>CM, CAM</td>\n",
              "      <td>91</td>\n",
              "      <td>91</td>\n",
              "      <td>125500000.0</td>\n",
              "      <td>30</td>\n",
              "      <td>181</td>\n",
              "      <td>70</td>\n",
              "      <td>5</td>\n",
              "      <td>4</td>\n",
              "    </tr>\n",
              "    <tr>\n",
              "      <th>...</th>\n",
              "      <td>...</td>\n",
              "      <td>...</td>\n",
              "      <td>...</td>\n",
              "      <td>...</td>\n",
              "      <td>...</td>\n",
              "      <td>...</td>\n",
              "      <td>...</td>\n",
              "      <td>...</td>\n",
              "      <td>...</td>\n",
              "    </tr>\n",
              "    <tr>\n",
              "      <th>19234</th>\n",
              "      <td>CDM</td>\n",
              "      <td>47</td>\n",
              "      <td>52</td>\n",
              "      <td>70000.0</td>\n",
              "      <td>22</td>\n",
              "      <td>180</td>\n",
              "      <td>64</td>\n",
              "      <td>3</td>\n",
              "      <td>2</td>\n",
              "    </tr>\n",
              "    <tr>\n",
              "      <th>19235</th>\n",
              "      <td>CM</td>\n",
              "      <td>47</td>\n",
              "      <td>59</td>\n",
              "      <td>110000.0</td>\n",
              "      <td>19</td>\n",
              "      <td>175</td>\n",
              "      <td>70</td>\n",
              "      <td>3</td>\n",
              "      <td>2</td>\n",
              "    </tr>\n",
              "    <tr>\n",
              "      <th>19236</th>\n",
              "      <td>CM</td>\n",
              "      <td>47</td>\n",
              "      <td>55</td>\n",
              "      <td>100000.0</td>\n",
              "      <td>21</td>\n",
              "      <td>178</td>\n",
              "      <td>72</td>\n",
              "      <td>3</td>\n",
              "      <td>2</td>\n",
              "    </tr>\n",
              "    <tr>\n",
              "      <th>19237</th>\n",
              "      <td>ST</td>\n",
              "      <td>47</td>\n",
              "      <td>60</td>\n",
              "      <td>110000.0</td>\n",
              "      <td>19</td>\n",
              "      <td>173</td>\n",
              "      <td>66</td>\n",
              "      <td>3</td>\n",
              "      <td>2</td>\n",
              "    </tr>\n",
              "    <tr>\n",
              "      <th>19238</th>\n",
              "      <td>CAM</td>\n",
              "      <td>47</td>\n",
              "      <td>60</td>\n",
              "      <td>110000.0</td>\n",
              "      <td>19</td>\n",
              "      <td>167</td>\n",
              "      <td>61</td>\n",
              "      <td>3</td>\n",
              "      <td>2</td>\n",
              "    </tr>\n",
              "  </tbody>\n",
              "</table>\n",
              "<p>19239 rows × 9 columns</p>\n",
              "</div>\n",
              "      <button class=\"colab-df-convert\" onclick=\"convertToInteractive('df-ade45b77-288f-4a8c-9109-5aff854144d0')\"\n",
              "              title=\"Convert this dataframe to an interactive table.\"\n",
              "              style=\"display:none;\">\n",
              "        \n",
              "  <svg xmlns=\"http://www.w3.org/2000/svg\" height=\"24px\"viewBox=\"0 0 24 24\"\n",
              "       width=\"24px\">\n",
              "    <path d=\"M0 0h24v24H0V0z\" fill=\"none\"/>\n",
              "    <path d=\"M18.56 5.44l.94 2.06.94-2.06 2.06-.94-2.06-.94-.94-2.06-.94 2.06-2.06.94zm-11 1L8.5 8.5l.94-2.06 2.06-.94-2.06-.94L8.5 2.5l-.94 2.06-2.06.94zm10 10l.94 2.06.94-2.06 2.06-.94-2.06-.94-.94-2.06-.94 2.06-2.06.94z\"/><path d=\"M17.41 7.96l-1.37-1.37c-.4-.4-.92-.59-1.43-.59-.52 0-1.04.2-1.43.59L10.3 9.45l-7.72 7.72c-.78.78-.78 2.05 0 2.83L4 21.41c.39.39.9.59 1.41.59.51 0 1.02-.2 1.41-.59l7.78-7.78 2.81-2.81c.8-.78.8-2.07 0-2.86zM5.41 20L4 18.59l7.72-7.72 1.47 1.35L5.41 20z\"/>\n",
              "  </svg>\n",
              "      </button>\n",
              "      \n",
              "  <style>\n",
              "    .colab-df-container {\n",
              "      display:flex;\n",
              "      flex-wrap:wrap;\n",
              "      gap: 12px;\n",
              "    }\n",
              "\n",
              "    .colab-df-convert {\n",
              "      background-color: #E8F0FE;\n",
              "      border: none;\n",
              "      border-radius: 50%;\n",
              "      cursor: pointer;\n",
              "      display: none;\n",
              "      fill: #1967D2;\n",
              "      height: 32px;\n",
              "      padding: 0 0 0 0;\n",
              "      width: 32px;\n",
              "    }\n",
              "\n",
              "    .colab-df-convert:hover {\n",
              "      background-color: #E2EBFA;\n",
              "      box-shadow: 0px 1px 2px rgba(60, 64, 67, 0.3), 0px 1px 3px 1px rgba(60, 64, 67, 0.15);\n",
              "      fill: #174EA6;\n",
              "    }\n",
              "\n",
              "    [theme=dark] .colab-df-convert {\n",
              "      background-color: #3B4455;\n",
              "      fill: #D2E3FC;\n",
              "    }\n",
              "\n",
              "    [theme=dark] .colab-df-convert:hover {\n",
              "      background-color: #434B5C;\n",
              "      box-shadow: 0px 1px 3px 1px rgba(0, 0, 0, 0.15);\n",
              "      filter: drop-shadow(0px 1px 2px rgba(0, 0, 0, 0.3));\n",
              "      fill: #FFFFFF;\n",
              "    }\n",
              "  </style>\n",
              "\n",
              "      <script>\n",
              "        const buttonEl =\n",
              "          document.querySelector('#df-ade45b77-288f-4a8c-9109-5aff854144d0 button.colab-df-convert');\n",
              "        buttonEl.style.display =\n",
              "          google.colab.kernel.accessAllowed ? 'block' : 'none';\n",
              "\n",
              "        async function convertToInteractive(key) {\n",
              "          const element = document.querySelector('#df-ade45b77-288f-4a8c-9109-5aff854144d0');\n",
              "          const dataTable =\n",
              "            await google.colab.kernel.invokeFunction('convertToInteractive',\n",
              "                                                     [key], {});\n",
              "          if (!dataTable) return;\n",
              "\n",
              "          const docLinkHtml = 'Like what you see? Visit the ' +\n",
              "            '<a target=\"_blank\" href=https://colab.research.google.com/notebooks/data_table.ipynb>data table notebook</a>'\n",
              "            + ' to learn more about interactive tables.';\n",
              "          element.innerHTML = '';\n",
              "          dataTable['output_type'] = 'display_data';\n",
              "          await google.colab.output.renderOutput(dataTable, element);\n",
              "          const docLink = document.createElement('div');\n",
              "          docLink.innerHTML = docLinkHtml;\n",
              "          element.appendChild(docLink);\n",
              "        }\n",
              "      </script>\n",
              "    </div>\n",
              "  </div>\n",
              "  "
            ]
          },
          "metadata": {},
          "execution_count": 55
        }
      ]
    },
    {
      "cell_type": "code",
      "source": [
        "#Data Cleaning\n",
        "\n",
        "#Hacemos un analisis resumido de los datos\n",
        "df.describe()\n",
        "\n",
        "#Vemos cantidad de nulos\n",
        "df.isna().sum()\n",
        "\n",
        "#La cantidad de datos nulos en value_eur son muy pocos en relacion a los que tenemos, entonces los eliminamos.\n",
        "df= df.dropna().reset_index(drop=True)\n",
        "df.isna().sum()\n",
        "\n",
        "#Corregimos los datos\n",
        "df[\"value_eur\"] = df[\"value_eur\"].astype(int)\n",
        "df.head()\n",
        "\n",
        "#Hacemos One-Hot-Enconding sobre player_positions\n",
        "df_one_hot = pd.get_dummies(df['player_positions'].str.get_dummies(', '))\n",
        "df = pd.concat([df, df_one_hot], axis=1)\n",
        "df.drop(columns='player_positions', inplace=True)\n",
        "df.head()\n",
        "\n",
        "df.dtypes"
      ],
      "metadata": {
        "colab": {
          "base_uri": "https://localhost:8080/"
        },
        "id": "R--c-Bxe72Ui",
        "outputId": "40f1aa58-138e-4412-aebe-93cb4264701c"
      },
      "execution_count": null,
      "outputs": [
        {
          "output_type": "execute_result",
          "data": {
            "text/plain": [
              "overall        int64\n",
              "potential      int64\n",
              "value_eur      int64\n",
              "age            int64\n",
              "height_cm      int64\n",
              "weight_kg      int64\n",
              "weak_foot      int64\n",
              "skill_moves    int64\n",
              "CAM            int64\n",
              "CB             int64\n",
              "CDM            int64\n",
              "CF             int64\n",
              "CM             int64\n",
              "GK             int64\n",
              "LB             int64\n",
              "LM             int64\n",
              "LW             int64\n",
              "LWB            int64\n",
              "RB             int64\n",
              "RM             int64\n",
              "RW             int64\n",
              "RWB            int64\n",
              "ST             int64\n",
              "dtype: object"
            ]
          },
          "metadata": {},
          "execution_count": 56
        }
      ]
    },
    {
      "cell_type": "code",
      "source": [
        "#Separamos el dataset en train y test\n",
        "\n",
        "from sklearn.ensemble import RandomForestRegressor\n",
        "from sklearn.model_selection import train_test_split\n",
        "\n",
        "# Split the data into features and target variable\n",
        "features = df.drop('value_eur', axis=1)\n",
        "target = df['value_eur']\n",
        "\n",
        "# Split the data into training and testing sets\n",
        "X_train, X_test, y_train, y_test = train_test_split(features, target, test_size=0.2, random_state=0)\n",
        "\n",
        "# Train the Random Forest Regressor\n",
        "model = RandomForestRegressor(n_estimators=100, random_state=0)\n",
        "model.fit(X_train, y_train)\n",
        "\n",
        "# Evaluate the model on the test set\n",
        "score = model.score(X_test, y_test)\n",
        "print(\"Test Score: \", score)"
      ],
      "metadata": {
        "colab": {
          "base_uri": "https://localhost:8080/"
        },
        "id": "VmU941Ze8ksV",
        "outputId": "53a8fca0-c1d7-48b8-a49a-540246a38f52"
      },
      "execution_count": null,
      "outputs": [
        {
          "output_type": "stream",
          "name": "stdout",
          "text": [
            "Test Score:  0.9914307615877175\n"
          ]
        }
      ]
    },
    {
      "cell_type": "markdown",
      "source": [
        "Vemos que ahora el Test Score es del 0.99, es decir, muy alto. Pero para enteder esto, hacemos una correlacion entre las variables a ver que es lo que sucede"
      ],
      "metadata": {
        "id": "PW1dObhX8peb"
      }
    },
    {
      "cell_type": "code",
      "source": [
        "df.corr()['value_eur'].sort_values(ascending=False)[1:]"
      ],
      "metadata": {
        "id": "Vl-60Rdf3B7Q",
        "colab": {
          "base_uri": "https://localhost:8080/"
        },
        "outputId": "29237137-fc8a-4b04-f5a8-2afd81f496bf"
      },
      "execution_count": null,
      "outputs": [
        {
          "output_type": "execute_result",
          "data": {
            "text/plain": [
              "overall        0.554684\n",
              "potential      0.527738\n",
              "skill_moves    0.257232\n",
              "weak_foot      0.149757\n",
              "CF             0.068834\n",
              "LW             0.049143\n",
              "age            0.042886\n",
              "RW             0.040037\n",
              "CAM            0.035692\n",
              "weight_kg      0.035188\n",
              "CM             0.030310\n",
              "ST             0.015891\n",
              "LM             0.014443\n",
              "RM             0.014246\n",
              "CDM            0.010508\n",
              "height_cm      0.010291\n",
              "RWB            0.003092\n",
              "LWB           -0.000692\n",
              "LB            -0.018368\n",
              "CB            -0.022418\n",
              "RB            -0.024052\n",
              "GK            -0.042647\n",
              "Name: value_eur, dtype: float64"
            ]
          },
          "metadata": {},
          "execution_count": 58
        }
      ]
    },
    {
      "cell_type": "markdown",
      "source": [
        "# Feature Engineering"
      ],
      "metadata": {
        "id": "-ADaalHB3a05"
      }
    },
    {
      "cell_type": "code",
      "source": [
        "#Quitamos las variables que tienen una correlacion baja y, ademas, sacamos skill moves y weak foot porque overal y potential son linealmnete dependientes de estas, simplificando el modelo\n",
        "\n",
        "df = df[['overall', 'potential', 'value_eur']]\n",
        "df.head()"
      ],
      "metadata": {
        "colab": {
          "base_uri": "https://localhost:8080/",
          "height": 206
        },
        "id": "OOYS56i93d27",
        "outputId": "75535ce1-23f2-47a7-af64-9a95baaaca67"
      },
      "execution_count": null,
      "outputs": [
        {
          "output_type": "execute_result",
          "data": {
            "text/plain": [
              "   overall  potential  value_eur\n",
              "0       93         93   78000000\n",
              "1       92         92  119500000\n",
              "2       91         91   45000000\n",
              "3       91         91  129000000\n",
              "4       91         91  125500000"
            ],
            "text/html": [
              "\n",
              "  <div id=\"df-c86a633d-aabf-43d1-97b7-af9e6ba011f6\">\n",
              "    <div class=\"colab-df-container\">\n",
              "      <div>\n",
              "<style scoped>\n",
              "    .dataframe tbody tr th:only-of-type {\n",
              "        vertical-align: middle;\n",
              "    }\n",
              "\n",
              "    .dataframe tbody tr th {\n",
              "        vertical-align: top;\n",
              "    }\n",
              "\n",
              "    .dataframe thead th {\n",
              "        text-align: right;\n",
              "    }\n",
              "</style>\n",
              "<table border=\"1\" class=\"dataframe\">\n",
              "  <thead>\n",
              "    <tr style=\"text-align: right;\">\n",
              "      <th></th>\n",
              "      <th>overall</th>\n",
              "      <th>potential</th>\n",
              "      <th>value_eur</th>\n",
              "    </tr>\n",
              "  </thead>\n",
              "  <tbody>\n",
              "    <tr>\n",
              "      <th>0</th>\n",
              "      <td>93</td>\n",
              "      <td>93</td>\n",
              "      <td>78000000</td>\n",
              "    </tr>\n",
              "    <tr>\n",
              "      <th>1</th>\n",
              "      <td>92</td>\n",
              "      <td>92</td>\n",
              "      <td>119500000</td>\n",
              "    </tr>\n",
              "    <tr>\n",
              "      <th>2</th>\n",
              "      <td>91</td>\n",
              "      <td>91</td>\n",
              "      <td>45000000</td>\n",
              "    </tr>\n",
              "    <tr>\n",
              "      <th>3</th>\n",
              "      <td>91</td>\n",
              "      <td>91</td>\n",
              "      <td>129000000</td>\n",
              "    </tr>\n",
              "    <tr>\n",
              "      <th>4</th>\n",
              "      <td>91</td>\n",
              "      <td>91</td>\n",
              "      <td>125500000</td>\n",
              "    </tr>\n",
              "  </tbody>\n",
              "</table>\n",
              "</div>\n",
              "      <button class=\"colab-df-convert\" onclick=\"convertToInteractive('df-c86a633d-aabf-43d1-97b7-af9e6ba011f6')\"\n",
              "              title=\"Convert this dataframe to an interactive table.\"\n",
              "              style=\"display:none;\">\n",
              "        \n",
              "  <svg xmlns=\"http://www.w3.org/2000/svg\" height=\"24px\"viewBox=\"0 0 24 24\"\n",
              "       width=\"24px\">\n",
              "    <path d=\"M0 0h24v24H0V0z\" fill=\"none\"/>\n",
              "    <path d=\"M18.56 5.44l.94 2.06.94-2.06 2.06-.94-2.06-.94-.94-2.06-.94 2.06-2.06.94zm-11 1L8.5 8.5l.94-2.06 2.06-.94-2.06-.94L8.5 2.5l-.94 2.06-2.06.94zm10 10l.94 2.06.94-2.06 2.06-.94-2.06-.94-.94-2.06-.94 2.06-2.06.94z\"/><path d=\"M17.41 7.96l-1.37-1.37c-.4-.4-.92-.59-1.43-.59-.52 0-1.04.2-1.43.59L10.3 9.45l-7.72 7.72c-.78.78-.78 2.05 0 2.83L4 21.41c.39.39.9.59 1.41.59.51 0 1.02-.2 1.41-.59l7.78-7.78 2.81-2.81c.8-.78.8-2.07 0-2.86zM5.41 20L4 18.59l7.72-7.72 1.47 1.35L5.41 20z\"/>\n",
              "  </svg>\n",
              "      </button>\n",
              "      \n",
              "  <style>\n",
              "    .colab-df-container {\n",
              "      display:flex;\n",
              "      flex-wrap:wrap;\n",
              "      gap: 12px;\n",
              "    }\n",
              "\n",
              "    .colab-df-convert {\n",
              "      background-color: #E8F0FE;\n",
              "      border: none;\n",
              "      border-radius: 50%;\n",
              "      cursor: pointer;\n",
              "      display: none;\n",
              "      fill: #1967D2;\n",
              "      height: 32px;\n",
              "      padding: 0 0 0 0;\n",
              "      width: 32px;\n",
              "    }\n",
              "\n",
              "    .colab-df-convert:hover {\n",
              "      background-color: #E2EBFA;\n",
              "      box-shadow: 0px 1px 2px rgba(60, 64, 67, 0.3), 0px 1px 3px 1px rgba(60, 64, 67, 0.15);\n",
              "      fill: #174EA6;\n",
              "    }\n",
              "\n",
              "    [theme=dark] .colab-df-convert {\n",
              "      background-color: #3B4455;\n",
              "      fill: #D2E3FC;\n",
              "    }\n",
              "\n",
              "    [theme=dark] .colab-df-convert:hover {\n",
              "      background-color: #434B5C;\n",
              "      box-shadow: 0px 1px 3px 1px rgba(0, 0, 0, 0.15);\n",
              "      filter: drop-shadow(0px 1px 2px rgba(0, 0, 0, 0.3));\n",
              "      fill: #FFFFFF;\n",
              "    }\n",
              "  </style>\n",
              "\n",
              "      <script>\n",
              "        const buttonEl =\n",
              "          document.querySelector('#df-c86a633d-aabf-43d1-97b7-af9e6ba011f6 button.colab-df-convert');\n",
              "        buttonEl.style.display =\n",
              "          google.colab.kernel.accessAllowed ? 'block' : 'none';\n",
              "\n",
              "        async function convertToInteractive(key) {\n",
              "          const element = document.querySelector('#df-c86a633d-aabf-43d1-97b7-af9e6ba011f6');\n",
              "          const dataTable =\n",
              "            await google.colab.kernel.invokeFunction('convertToInteractive',\n",
              "                                                     [key], {});\n",
              "          if (!dataTable) return;\n",
              "\n",
              "          const docLinkHtml = 'Like what you see? Visit the ' +\n",
              "            '<a target=\"_blank\" href=https://colab.research.google.com/notebooks/data_table.ipynb>data table notebook</a>'\n",
              "            + ' to learn more about interactive tables.';\n",
              "          element.innerHTML = '';\n",
              "          dataTable['output_type'] = 'display_data';\n",
              "          await google.colab.output.renderOutput(dataTable, element);\n",
              "          const docLink = document.createElement('div');\n",
              "          docLink.innerHTML = docLinkHtml;\n",
              "          element.appendChild(docLink);\n",
              "        }\n",
              "      </script>\n",
              "    </div>\n",
              "  </div>\n",
              "  "
            ]
          },
          "metadata": {},
          "execution_count": 59
        }
      ]
    },
    {
      "cell_type": "code",
      "source": [
        "#Separamos el dataset en train y test\n",
        "\n",
        "from sklearn.ensemble import RandomForestRegressor\n",
        "from sklearn.model_selection import train_test_split\n",
        "\n",
        "#Separamos la data en features y target\n",
        "features = df.drop('value_eur', axis=1)\n",
        "target = df['value_eur']\n",
        "\n",
        "# Separamos la data en taining y testing\n",
        "X_train, X_test, y_train, y_test = train_test_split(features, target, test_size=0.2, random_state=0)\n",
        "\n",
        "# Entrenamos The Random Forest Regressor\n",
        "model = RandomForestRegressor(n_estimators=100, random_state=0)\n",
        "model.fit(X_train, y_train)\n",
        "\n",
        "# Evaluamos el modelo\n",
        "score = model.score(X_test, y_test)\n",
        "print(\"Test Score: \", score)\n",
        "\n",
        "# Vemos que se redujo a un 0.94 el Test Score, pero aun asi la performance sigue siendo muy buena, por lo tanto entrenamos diferentes modelos con estas columnas (variables)"
      ],
      "metadata": {
        "colab": {
          "base_uri": "https://localhost:8080/"
        },
        "id": "G7ZuqaYO9M1_",
        "outputId": "3e7e1da9-09fa-4ab8-c961-7c2a79b4218c"
      },
      "execution_count": null,
      "outputs": [
        {
          "output_type": "stream",
          "name": "stdout",
          "text": [
            "Test Score:  0.9436427034157671\n"
          ]
        }
      ]
    },
    {
      "cell_type": "markdown",
      "source": [
        "# Entrenamiento de modelos"
      ],
      "metadata": {
        "id": "gcEKJOSVvPRB"
      }
    },
    {
      "cell_type": "code",
      "source": [
        "from sklearn.model_selection import train_test_split\n",
        "from sklearn.linear_model import LinearRegression, Ridge, Lasso, ElasticNet\n",
        "from sklearn.preprocessing import PolynomialFeatures\n",
        "from sklearn.svm import SVR\n",
        "from sklearn.tree import DecisionTreeRegressor\n",
        "from sklearn.ensemble import RandomForestRegressor, GradientBoostingRegressor\n",
        "from xgboost import XGBRegressor\n",
        "from lightgbm import LGBMRegressor\n",
        "from sklearn.neighbors import KNeighborsRegressor\n",
        "from sklearn.neural_network import MLPRegressor\n",
        "from sklearn.metrics import mean_squared_error, r2_score, accuracy_score\n",
        "\n",
        "models = {\n",
        "    'Linear Regression': LinearRegression(),\n",
        "    'Ridge Regression': Ridge(),\n",
        "    'Lasso Regression': Lasso(),\n",
        "    'Elastic Net': ElasticNet(),\n",
        "    'Support Vector Regression': SVR(),\n",
        "    'Decision Tree Regression': DecisionTreeRegressor(),\n",
        "    'Random Forest Regression': RandomForestRegressor(),\n",
        "    'Gradient Boosting Regression': GradientBoostingRegressor(),\n",
        "    'XGBoost Regression': XGBRegressor(),\n",
        "    'LightGBM Regression': LGBMRegressor(),\n",
        "    'K-Nearest Neighbors Regression': KNeighborsRegressor(),\n",
        "    'Neural Network Regression': MLPRegressor()\n",
        "}\n",
        "\n",
        "# Entrenamos y evaluamos cada modelo\n",
        "for name, model in models.items():\n",
        "    # Fit the model to the training data\n",
        "    # Entrenamos el modelo con la data\n",
        "    model.fit(X_train, y_train)\n",
        "\n",
        "    # Predecimos con nuestro testeo\n",
        "    y_pred = model.predict(X_test)\n",
        "\n",
        "    # Evaluamos el modelo usando la metricas apropiadas\n",
        "    rmse = mean_squared_error(y_test, y_pred, squared=False)\n",
        "    r2 = r2_score(y_test, y_pred)\n",
        "\n",
        "    # Imprimimos el resultado\n",
        "    print(f\"{name}:\")\n",
        "    print(f\"\\tRMSE: {rmse:.2f}\")\n",
        "    print(f\"\\tR2 score: {r2:.2f}\")\n",
        "\n"
      ],
      "metadata": {
        "colab": {
          "base_uri": "https://localhost:8080/"
        },
        "id": "yVk1pj49zryw",
        "outputId": "d9aa8211-eba6-4c8e-a9f1-565f997a142a"
      },
      "execution_count": null,
      "outputs": [
        {
          "output_type": "stream",
          "name": "stdout",
          "text": [
            "Linear Regression:\n",
            "\tRMSE: 5977776.87\n",
            "\tR2 score: 0.36\n",
            "Ridge Regression:\n",
            "\tRMSE: 5977776.94\n",
            "\tR2 score: 0.36\n",
            "Lasso Regression:\n",
            "\tRMSE: 5977776.88\n",
            "\tR2 score: 0.36\n",
            "Elastic Net:\n",
            "\tRMSE: 5978348.02\n",
            "\tR2 score: 0.36\n",
            "Support Vector Regression:\n",
            "\tRMSE: 7717762.17\n",
            "\tR2 score: -0.06\n",
            "Decision Tree Regression:\n",
            "\tRMSE: 1785668.66\n",
            "\tR2 score: 0.94\n",
            "Random Forest Regression:\n",
            "\tRMSE: 1777137.08\n",
            "\tR2 score: 0.94\n",
            "Gradient Boosting Regression:\n",
            "\tRMSE: 1884758.80\n",
            "\tR2 score: 0.94\n",
            "XGBoost Regression:\n",
            "\tRMSE: 1793643.69\n",
            "\tR2 score: 0.94\n",
            "LightGBM Regression:\n",
            "\tRMSE: 1845192.00\n",
            "\tR2 score: 0.94\n",
            "K-Nearest Neighbors Regression:\n",
            "\tRMSE: 1838212.09\n",
            "\tR2 score: 0.94\n",
            "Neural Network Regression:\n",
            "\tRMSE: 7486505.29\n",
            "\tR2 score: 0.00\n"
          ]
        },
        {
          "output_type": "stream",
          "name": "stderr",
          "text": [
            "/usr/local/lib/python3.8/dist-packages/sklearn/neural_network/_multilayer_perceptron.py:684: ConvergenceWarning:\n",
            "\n",
            "Stochastic Optimizer: Maximum iterations (200) reached and the optimization hasn't converged yet.\n",
            "\n"
          ]
        }
      ]
    },
    {
      "cell_type": "markdown",
      "source": [
        "# Entrenamiento de un modelo de Machine Learning"
      ],
      "metadata": {
        "id": "TRkOu-aYA0-x"
      }
    },
    {
      "cell_type": "code",
      "source": [
        "# Vamos a tratar de mejorar nuestro modelo con hiperparametros.\n",
        "\n",
        "#Elegimos Random Forest y vamos a tratar de mejorar el perforamnce\n",
        "\n",
        "from sklearn.ensemble import RandomForestRegressor\n",
        "from sklearn.model_selection import RandomizedSearchCV\n",
        "from scipy.stats import randint\n",
        "\n",
        "# Definimos la cuadricula de hyperparamentros de search over\n",
        "param_dist = {\n",
        "    'n_estimators': randint(50, 200),\n",
        "    'max_depth': [None] + list(range(5, 30, 5)),\n",
        "    'min_samples_split': randint(2, 11),\n",
        "    'min_samples_leaf': randint(1, 11),\n",
        "    'max_features': ['auto', 'sqrt', 'log2', None]\n",
        "}\n",
        "\n",
        "# Creamos un modelo de Regresion de Random Forest\n",
        "rf = RandomForestRegressor()\n",
        "\n",
        "# # Realizar una búsqueda aleatoria sobre la cuadrícula de hiperparámetros\n",
        "random_search = RandomizedSearchCV(\n",
        "    rf, param_distributions=param_dist, n_iter=50, cv=5, scoring='neg_mean_squared_error'\n",
        ")\n",
        "\n",
        "# Entrenamos nuestro modelo\n",
        "random_search.fit(X_train, y_train)\n",
        "\n",
        "\n",
        "# Imprimimos los mejores hyperparamentros corespondiente a nuestros modelo\n",
        "print(\"Best hyperparameters: \", random_search.best_params_)\n",
        "print(\"Best score: \", -random_search.best_score_)"
      ],
      "metadata": {
        "id": "0BCKDDy4DSco"
      },
      "execution_count": null,
      "outputs": []
    },
    {
      "cell_type": "code",
      "source": [
        "from math import sqrt\n",
        "\n",
        "print(sqrt(-random_search.best_score_))"
      ],
      "metadata": {
        "colab": {
          "base_uri": "https://localhost:8080/"
        },
        "id": "blzkm2aqGotU",
        "outputId": "af0102a6-f2dd-4e67-c11c-a531e4291d34"
      },
      "execution_count": null,
      "outputs": [
        {
          "output_type": "stream",
          "name": "stdout",
          "text": [
            "2026460.3685968064\n"
          ]
        }
      ]
    },
    {
      "cell_type": "code",
      "source": [
        "#Entrenamos este modelo con estos hiperparametros50\n",
        "model = RandomForestRegressor(max_depth = 10, max_features= \"log2\" , min_samples_leaf= 1, min_samples_split= 3, n_estimators=101, random_state=0)\n",
        "model.fit(X_train, y_train)\n",
        "\n",
        "score = model.score(X_test, y_test)\n",
        "print(\"Test Score: \", score)"
      ],
      "metadata": {
        "colab": {
          "base_uri": "https://localhost:8080/"
        },
        "id": "JO-XGkpLHjys",
        "outputId": "55afc258-49ba-4982-86d9-dfd10b87fc25"
      },
      "execution_count": null,
      "outputs": [
        {
          "output_type": "stream",
          "name": "stdout",
          "text": [
            "Test Score:  0.943523790269692\n"
          ]
        }
      ]
    },
    {
      "cell_type": "code",
      "source": [
        "# Probamos con 10 \"Jugadores base\" que en en un futuro tengan esa media (overall) y potencial (potential)\n",
        "\n",
        "players = {\n",
        "    'Sofía Hernández': {'Overall': 85, 'Potential': 89},\n",
        "    'Alejandro Martínez': {'Overall': 90, 'Potential': 92},\n",
        "    'Carla González': {'Overall': 82, 'Potential': 87},\n",
        "    'Miguel Rodríguez': {'Overall': 88, 'Potential': 91},\n",
        "    'Lucía García': {'Overall': 91, 'Potential': 94},\n",
        "    'Hugo Pérez': {'Overall': 83, 'Potential': 88},\n",
        "    'Julia Sánchez': {'Overall': 86, 'Potential': 90},\n",
        "    'Antonio Fernández': {'Overall': 89, 'Potential': 93},\n",
        "    'Isabel Romero': {'Overall': 84, 'Potential': 89},\n",
        "    'David López': {'Overall': 87, 'Potential': 92}\n",
        "}"
      ],
      "metadata": {
        "id": "WpCfE18jDSeK"
      },
      "execution_count": null,
      "outputs": []
    },
    {
      "cell_type": "code",
      "source": [
        "import numpy as np\n",
        "\n",
        "X_new = np.array([[v['Overall'], v['Potential']] for v in players.values()])\n",
        "\n",
        "y_pred = model.predict(X_new)\n"
      ],
      "metadata": {
        "colab": {
          "base_uri": "https://localhost:8080/"
        },
        "id": "T3b4Q3elDShZ",
        "outputId": "b0e204bd-501e-4ed7-9c04-123ba56befa6"
      },
      "execution_count": null,
      "outputs": [
        {
          "output_type": "stream",
          "name": "stderr",
          "text": [
            "/usr/local/lib/python3.8/dist-packages/sklearn/base.py:420: UserWarning:\n",
            "\n",
            "X does not have valid feature names, but RandomForestRegressor was fitted with feature names\n",
            "\n"
          ]
        }
      ]
    },
    {
      "cell_type": "markdown",
      "source": [
        "Prdedije sobre 10 jugadores randooms"
      ],
      "metadata": {
        "id": "MqnXi7qMKbjv"
      }
    },
    {
      "cell_type": "code",
      "source": [
        "# Creamos un dataframe nuevo con los \"Jugadores base\"\n",
        "df_results = pd.DataFrame({'Name': players.keys(),\n",
        "                   'Overall': [v['Overall'] for v in players.values()],\n",
        "                   'Potential': [v['Potential'] for v in players.values()]})\n",
        "\n",
        "# Concatenamos el resultado de nuestro modelo al dataframe\n",
        "a = pd.concat([df_results, pd.DataFrame(y_pred, columns = ['value_eur'])], axis=1)\n",
        "a[\"value_eur\"] = a[\"value_eur\"].astype(int)\n",
        "a"
      ],
      "metadata": {
        "colab": {
          "base_uri": "https://localhost:8080/",
          "height": 363
        },
        "id": "0g02JKaQIQB-",
        "outputId": "c944aff1-2ea5-414a-9f85-6ae88fcf0096"
      },
      "execution_count": null,
      "outputs": [
        {
          "output_type": "execute_result",
          "data": {
            "text/plain": [
              "                 Name  Overall  Potential  value_eur\n",
              "0     Sofía Hernández       85         89   76428382\n",
              "1  Alejandro Martínez       90         92  106743151\n",
              "2      Carla González       82         87   43129145\n",
              "3    Miguel Rodríguez       88         91  106815770\n",
              "4        Lucía García       91         94  116279867\n",
              "5          Hugo Pérez       83         88   52430899\n",
              "6       Julia Sánchez       86         90   78769636\n",
              "7   Antonio Fernández       89         93  117398738\n",
              "8       Isabel Romero       84         89   63954502\n",
              "9         David López       87         92  112564721"
            ],
            "text/html": [
              "\n",
              "  <div id=\"df-aab32097-59d0-4db2-8d47-1250e34fea98\">\n",
              "    <div class=\"colab-df-container\">\n",
              "      <div>\n",
              "<style scoped>\n",
              "    .dataframe tbody tr th:only-of-type {\n",
              "        vertical-align: middle;\n",
              "    }\n",
              "\n",
              "    .dataframe tbody tr th {\n",
              "        vertical-align: top;\n",
              "    }\n",
              "\n",
              "    .dataframe thead th {\n",
              "        text-align: right;\n",
              "    }\n",
              "</style>\n",
              "<table border=\"1\" class=\"dataframe\">\n",
              "  <thead>\n",
              "    <tr style=\"text-align: right;\">\n",
              "      <th></th>\n",
              "      <th>Name</th>\n",
              "      <th>Overall</th>\n",
              "      <th>Potential</th>\n",
              "      <th>value_eur</th>\n",
              "    </tr>\n",
              "  </thead>\n",
              "  <tbody>\n",
              "    <tr>\n",
              "      <th>0</th>\n",
              "      <td>Sofía Hernández</td>\n",
              "      <td>85</td>\n",
              "      <td>89</td>\n",
              "      <td>76428382</td>\n",
              "    </tr>\n",
              "    <tr>\n",
              "      <th>1</th>\n",
              "      <td>Alejandro Martínez</td>\n",
              "      <td>90</td>\n",
              "      <td>92</td>\n",
              "      <td>106743151</td>\n",
              "    </tr>\n",
              "    <tr>\n",
              "      <th>2</th>\n",
              "      <td>Carla González</td>\n",
              "      <td>82</td>\n",
              "      <td>87</td>\n",
              "      <td>43129145</td>\n",
              "    </tr>\n",
              "    <tr>\n",
              "      <th>3</th>\n",
              "      <td>Miguel Rodríguez</td>\n",
              "      <td>88</td>\n",
              "      <td>91</td>\n",
              "      <td>106815770</td>\n",
              "    </tr>\n",
              "    <tr>\n",
              "      <th>4</th>\n",
              "      <td>Lucía García</td>\n",
              "      <td>91</td>\n",
              "      <td>94</td>\n",
              "      <td>116279867</td>\n",
              "    </tr>\n",
              "    <tr>\n",
              "      <th>5</th>\n",
              "      <td>Hugo Pérez</td>\n",
              "      <td>83</td>\n",
              "      <td>88</td>\n",
              "      <td>52430899</td>\n",
              "    </tr>\n",
              "    <tr>\n",
              "      <th>6</th>\n",
              "      <td>Julia Sánchez</td>\n",
              "      <td>86</td>\n",
              "      <td>90</td>\n",
              "      <td>78769636</td>\n",
              "    </tr>\n",
              "    <tr>\n",
              "      <th>7</th>\n",
              "      <td>Antonio Fernández</td>\n",
              "      <td>89</td>\n",
              "      <td>93</td>\n",
              "      <td>117398738</td>\n",
              "    </tr>\n",
              "    <tr>\n",
              "      <th>8</th>\n",
              "      <td>Isabel Romero</td>\n",
              "      <td>84</td>\n",
              "      <td>89</td>\n",
              "      <td>63954502</td>\n",
              "    </tr>\n",
              "    <tr>\n",
              "      <th>9</th>\n",
              "      <td>David López</td>\n",
              "      <td>87</td>\n",
              "      <td>92</td>\n",
              "      <td>112564721</td>\n",
              "    </tr>\n",
              "  </tbody>\n",
              "</table>\n",
              "</div>\n",
              "      <button class=\"colab-df-convert\" onclick=\"convertToInteractive('df-aab32097-59d0-4db2-8d47-1250e34fea98')\"\n",
              "              title=\"Convert this dataframe to an interactive table.\"\n",
              "              style=\"display:none;\">\n",
              "        \n",
              "  <svg xmlns=\"http://www.w3.org/2000/svg\" height=\"24px\"viewBox=\"0 0 24 24\"\n",
              "       width=\"24px\">\n",
              "    <path d=\"M0 0h24v24H0V0z\" fill=\"none\"/>\n",
              "    <path d=\"M18.56 5.44l.94 2.06.94-2.06 2.06-.94-2.06-.94-.94-2.06-.94 2.06-2.06.94zm-11 1L8.5 8.5l.94-2.06 2.06-.94-2.06-.94L8.5 2.5l-.94 2.06-2.06.94zm10 10l.94 2.06.94-2.06 2.06-.94-2.06-.94-.94-2.06-.94 2.06-2.06.94z\"/><path d=\"M17.41 7.96l-1.37-1.37c-.4-.4-.92-.59-1.43-.59-.52 0-1.04.2-1.43.59L10.3 9.45l-7.72 7.72c-.78.78-.78 2.05 0 2.83L4 21.41c.39.39.9.59 1.41.59.51 0 1.02-.2 1.41-.59l7.78-7.78 2.81-2.81c.8-.78.8-2.07 0-2.86zM5.41 20L4 18.59l7.72-7.72 1.47 1.35L5.41 20z\"/>\n",
              "  </svg>\n",
              "      </button>\n",
              "      \n",
              "  <style>\n",
              "    .colab-df-container {\n",
              "      display:flex;\n",
              "      flex-wrap:wrap;\n",
              "      gap: 12px;\n",
              "    }\n",
              "\n",
              "    .colab-df-convert {\n",
              "      background-color: #E8F0FE;\n",
              "      border: none;\n",
              "      border-radius: 50%;\n",
              "      cursor: pointer;\n",
              "      display: none;\n",
              "      fill: #1967D2;\n",
              "      height: 32px;\n",
              "      padding: 0 0 0 0;\n",
              "      width: 32px;\n",
              "    }\n",
              "\n",
              "    .colab-df-convert:hover {\n",
              "      background-color: #E2EBFA;\n",
              "      box-shadow: 0px 1px 2px rgba(60, 64, 67, 0.3), 0px 1px 3px 1px rgba(60, 64, 67, 0.15);\n",
              "      fill: #174EA6;\n",
              "    }\n",
              "\n",
              "    [theme=dark] .colab-df-convert {\n",
              "      background-color: #3B4455;\n",
              "      fill: #D2E3FC;\n",
              "    }\n",
              "\n",
              "    [theme=dark] .colab-df-convert:hover {\n",
              "      background-color: #434B5C;\n",
              "      box-shadow: 0px 1px 3px 1px rgba(0, 0, 0, 0.15);\n",
              "      filter: drop-shadow(0px 1px 2px rgba(0, 0, 0, 0.3));\n",
              "      fill: #FFFFFF;\n",
              "    }\n",
              "  </style>\n",
              "\n",
              "      <script>\n",
              "        const buttonEl =\n",
              "          document.querySelector('#df-aab32097-59d0-4db2-8d47-1250e34fea98 button.colab-df-convert');\n",
              "        buttonEl.style.display =\n",
              "          google.colab.kernel.accessAllowed ? 'block' : 'none';\n",
              "\n",
              "        async function convertToInteractive(key) {\n",
              "          const element = document.querySelector('#df-aab32097-59d0-4db2-8d47-1250e34fea98');\n",
              "          const dataTable =\n",
              "            await google.colab.kernel.invokeFunction('convertToInteractive',\n",
              "                                                     [key], {});\n",
              "          if (!dataTable) return;\n",
              "\n",
              "          const docLinkHtml = 'Like what you see? Visit the ' +\n",
              "            '<a target=\"_blank\" href=https://colab.research.google.com/notebooks/data_table.ipynb>data table notebook</a>'\n",
              "            + ' to learn more about interactive tables.';\n",
              "          element.innerHTML = '';\n",
              "          dataTable['output_type'] = 'display_data';\n",
              "          await google.colab.output.renderOutput(dataTable, element);\n",
              "          const docLink = document.createElement('div');\n",
              "          docLink.innerHTML = docLinkHtml;\n",
              "          element.appendChild(docLink);\n",
              "        }\n",
              "      </script>\n",
              "    </div>\n",
              "  </div>\n",
              "  "
            ]
          },
          "metadata": {},
          "execution_count": 67
        }
      ]
    },
    {
      "cell_type": "markdown",
      "source": [
        "#En conclucion, estos 10 jugadores que usamos de ejemplos, podemos ver que por ejemplo, Lautaro Martínez tienen un overall de \"85\" y tiene un potencial de \"89\", el valor (value_eur) esta casi exacto (en comparacion con Sofía Hernandez), es decir que nuestro modelo funciona muy bien y tiene una gran precisión, este modelo, seriviria mucho en el caso de nosotros que queramos ir a buscar grandes promesas, y no queremos pagar de más por las caracteristicas de los jugadores. Siempre cada club va a querer hacer diferencias con sus jugadores, pero nosotro corremos con la ventaja de nuestro modelo, que nos dira cual es monto aproximado que deveriamos ofrecer por un jugador de esas caracterisitcas."
      ],
      "metadata": {
        "id": "WvZ3uecxRRix"
      }
    },
    {
      "cell_type": "code",
      "source": [
        "df_prueba= pd.read_csv(\"/content/drive/MyDrive/DataScience/players_22.csv\")"
      ],
      "metadata": {
        "id": "m8z8HRndSnpL",
        "colab": {
          "base_uri": "https://localhost:8080/"
        },
        "outputId": "013a2d0e-981f-45d8-d275-0dac5d4cc52a"
      },
      "execution_count": null,
      "outputs": [
        {
          "output_type": "stream",
          "name": "stderr",
          "text": [
            "/usr/local/lib/python3.8/dist-packages/IPython/core/interactiveshell.py:3326: DtypeWarning:\n",
            "\n",
            "Columns (25,108) have mixed types.Specify dtype option on import or set low_memory=False.\n",
            "\n"
          ]
        }
      ]
    },
    {
      "cell_type": "code",
      "source": [
        "prediccion = df_prueba.loc[df_prueba['short_name'] == \"L. Martínez\"]"
      ],
      "metadata": {
        "id": "f7cPxUbaS5fO"
      },
      "execution_count": null,
      "outputs": []
    },
    {
      "cell_type": "code",
      "source": [
        "prediccion"
      ],
      "metadata": {
        "colab": {
          "base_uri": "https://localhost:8080/",
          "height": 258
        },
        "id": "CLThR2rbTAMv",
        "outputId": "36be4044-be48-4c32-db93-2173343fa023"
      },
      "execution_count": null,
      "outputs": [
        {
          "output_type": "execute_result",
          "data": {
            "text/plain": [
              "     sofifa_id                                         player_url  \\\n",
              "93      231478  https://sofifa.com/player/231478/lautaro-marti...   \n",
              "649     239301  https://sofifa.com/player/239301/lisandro-mart...   \n",
              "\n",
              "      short_name                long_name player_positions  overall  \\\n",
              "93   L. Martínez  Lautaro Javier Martínez               ST       85   \n",
              "649  L. Martínez        Lisandro Martínez      CB, LB, CDM       79   \n",
              "\n",
              "     potential   value_eur  wage_eur  age  ...   lcb    cb   rcb    rb    gk  \\\n",
              "93          89  78000000.0  145000.0   23  ...  62+3  62+3  62+3  63+3  19+3   \n",
              "649         85  25000000.0   16000.0   23  ...  79+2  79+2  79+2  77+2  18+2   \n",
              "\n",
              "                                       player_face_url  \\\n",
              "93   https://cdn.sofifa.net/players/231/478/22_120.png   \n",
              "649  https://cdn.sofifa.net/players/239/301/22_120.png   \n",
              "\n",
              "                               club_logo_url  \\\n",
              "93    https://cdn.sofifa.net/teams/44/60.png   \n",
              "649  https://cdn.sofifa.net/teams/245/60.png   \n",
              "\n",
              "                           club_flag_url  \\\n",
              "93   https://cdn.sofifa.net/flags/it.png   \n",
              "649  https://cdn.sofifa.net/flags/nl.png   \n",
              "\n",
              "                              nation_logo_url  \\\n",
              "93   https://cdn.sofifa.net/teams/1369/60.png   \n",
              "649  https://cdn.sofifa.net/teams/1369/60.png   \n",
              "\n",
              "                         nation_flag_url  \n",
              "93   https://cdn.sofifa.net/flags/ar.png  \n",
              "649  https://cdn.sofifa.net/flags/ar.png  \n",
              "\n",
              "[2 rows x 110 columns]"
            ],
            "text/html": [
              "\n",
              "  <div id=\"df-d78824f4-1ff6-4def-b2ce-217ef9821c81\">\n",
              "    <div class=\"colab-df-container\">\n",
              "      <div>\n",
              "<style scoped>\n",
              "    .dataframe tbody tr th:only-of-type {\n",
              "        vertical-align: middle;\n",
              "    }\n",
              "\n",
              "    .dataframe tbody tr th {\n",
              "        vertical-align: top;\n",
              "    }\n",
              "\n",
              "    .dataframe thead th {\n",
              "        text-align: right;\n",
              "    }\n",
              "</style>\n",
              "<table border=\"1\" class=\"dataframe\">\n",
              "  <thead>\n",
              "    <tr style=\"text-align: right;\">\n",
              "      <th></th>\n",
              "      <th>sofifa_id</th>\n",
              "      <th>player_url</th>\n",
              "      <th>short_name</th>\n",
              "      <th>long_name</th>\n",
              "      <th>player_positions</th>\n",
              "      <th>overall</th>\n",
              "      <th>potential</th>\n",
              "      <th>value_eur</th>\n",
              "      <th>wage_eur</th>\n",
              "      <th>age</th>\n",
              "      <th>...</th>\n",
              "      <th>lcb</th>\n",
              "      <th>cb</th>\n",
              "      <th>rcb</th>\n",
              "      <th>rb</th>\n",
              "      <th>gk</th>\n",
              "      <th>player_face_url</th>\n",
              "      <th>club_logo_url</th>\n",
              "      <th>club_flag_url</th>\n",
              "      <th>nation_logo_url</th>\n",
              "      <th>nation_flag_url</th>\n",
              "    </tr>\n",
              "  </thead>\n",
              "  <tbody>\n",
              "    <tr>\n",
              "      <th>93</th>\n",
              "      <td>231478</td>\n",
              "      <td>https://sofifa.com/player/231478/lautaro-marti...</td>\n",
              "      <td>L. Martínez</td>\n",
              "      <td>Lautaro Javier Martínez</td>\n",
              "      <td>ST</td>\n",
              "      <td>85</td>\n",
              "      <td>89</td>\n",
              "      <td>78000000.0</td>\n",
              "      <td>145000.0</td>\n",
              "      <td>23</td>\n",
              "      <td>...</td>\n",
              "      <td>62+3</td>\n",
              "      <td>62+3</td>\n",
              "      <td>62+3</td>\n",
              "      <td>63+3</td>\n",
              "      <td>19+3</td>\n",
              "      <td>https://cdn.sofifa.net/players/231/478/22_120.png</td>\n",
              "      <td>https://cdn.sofifa.net/teams/44/60.png</td>\n",
              "      <td>https://cdn.sofifa.net/flags/it.png</td>\n",
              "      <td>https://cdn.sofifa.net/teams/1369/60.png</td>\n",
              "      <td>https://cdn.sofifa.net/flags/ar.png</td>\n",
              "    </tr>\n",
              "    <tr>\n",
              "      <th>649</th>\n",
              "      <td>239301</td>\n",
              "      <td>https://sofifa.com/player/239301/lisandro-mart...</td>\n",
              "      <td>L. Martínez</td>\n",
              "      <td>Lisandro Martínez</td>\n",
              "      <td>CB, LB, CDM</td>\n",
              "      <td>79</td>\n",
              "      <td>85</td>\n",
              "      <td>25000000.0</td>\n",
              "      <td>16000.0</td>\n",
              "      <td>23</td>\n",
              "      <td>...</td>\n",
              "      <td>79+2</td>\n",
              "      <td>79+2</td>\n",
              "      <td>79+2</td>\n",
              "      <td>77+2</td>\n",
              "      <td>18+2</td>\n",
              "      <td>https://cdn.sofifa.net/players/239/301/22_120.png</td>\n",
              "      <td>https://cdn.sofifa.net/teams/245/60.png</td>\n",
              "      <td>https://cdn.sofifa.net/flags/nl.png</td>\n",
              "      <td>https://cdn.sofifa.net/teams/1369/60.png</td>\n",
              "      <td>https://cdn.sofifa.net/flags/ar.png</td>\n",
              "    </tr>\n",
              "  </tbody>\n",
              "</table>\n",
              "<p>2 rows × 110 columns</p>\n",
              "</div>\n",
              "      <button class=\"colab-df-convert\" onclick=\"convertToInteractive('df-d78824f4-1ff6-4def-b2ce-217ef9821c81')\"\n",
              "              title=\"Convert this dataframe to an interactive table.\"\n",
              "              style=\"display:none;\">\n",
              "        \n",
              "  <svg xmlns=\"http://www.w3.org/2000/svg\" height=\"24px\"viewBox=\"0 0 24 24\"\n",
              "       width=\"24px\">\n",
              "    <path d=\"M0 0h24v24H0V0z\" fill=\"none\"/>\n",
              "    <path d=\"M18.56 5.44l.94 2.06.94-2.06 2.06-.94-2.06-.94-.94-2.06-.94 2.06-2.06.94zm-11 1L8.5 8.5l.94-2.06 2.06-.94-2.06-.94L8.5 2.5l-.94 2.06-2.06.94zm10 10l.94 2.06.94-2.06 2.06-.94-2.06-.94-.94-2.06-.94 2.06-2.06.94z\"/><path d=\"M17.41 7.96l-1.37-1.37c-.4-.4-.92-.59-1.43-.59-.52 0-1.04.2-1.43.59L10.3 9.45l-7.72 7.72c-.78.78-.78 2.05 0 2.83L4 21.41c.39.39.9.59 1.41.59.51 0 1.02-.2 1.41-.59l7.78-7.78 2.81-2.81c.8-.78.8-2.07 0-2.86zM5.41 20L4 18.59l7.72-7.72 1.47 1.35L5.41 20z\"/>\n",
              "  </svg>\n",
              "      </button>\n",
              "      \n",
              "  <style>\n",
              "    .colab-df-container {\n",
              "      display:flex;\n",
              "      flex-wrap:wrap;\n",
              "      gap: 12px;\n",
              "    }\n",
              "\n",
              "    .colab-df-convert {\n",
              "      background-color: #E8F0FE;\n",
              "      border: none;\n",
              "      border-radius: 50%;\n",
              "      cursor: pointer;\n",
              "      display: none;\n",
              "      fill: #1967D2;\n",
              "      height: 32px;\n",
              "      padding: 0 0 0 0;\n",
              "      width: 32px;\n",
              "    }\n",
              "\n",
              "    .colab-df-convert:hover {\n",
              "      background-color: #E2EBFA;\n",
              "      box-shadow: 0px 1px 2px rgba(60, 64, 67, 0.3), 0px 1px 3px 1px rgba(60, 64, 67, 0.15);\n",
              "      fill: #174EA6;\n",
              "    }\n",
              "\n",
              "    [theme=dark] .colab-df-convert {\n",
              "      background-color: #3B4455;\n",
              "      fill: #D2E3FC;\n",
              "    }\n",
              "\n",
              "    [theme=dark] .colab-df-convert:hover {\n",
              "      background-color: #434B5C;\n",
              "      box-shadow: 0px 1px 3px 1px rgba(0, 0, 0, 0.15);\n",
              "      filter: drop-shadow(0px 1px 2px rgba(0, 0, 0, 0.3));\n",
              "      fill: #FFFFFF;\n",
              "    }\n",
              "  </style>\n",
              "\n",
              "      <script>\n",
              "        const buttonEl =\n",
              "          document.querySelector('#df-d78824f4-1ff6-4def-b2ce-217ef9821c81 button.colab-df-convert');\n",
              "        buttonEl.style.display =\n",
              "          google.colab.kernel.accessAllowed ? 'block' : 'none';\n",
              "\n",
              "        async function convertToInteractive(key) {\n",
              "          const element = document.querySelector('#df-d78824f4-1ff6-4def-b2ce-217ef9821c81');\n",
              "          const dataTable =\n",
              "            await google.colab.kernel.invokeFunction('convertToInteractive',\n",
              "                                                     [key], {});\n",
              "          if (!dataTable) return;\n",
              "\n",
              "          const docLinkHtml = 'Like what you see? Visit the ' +\n",
              "            '<a target=\"_blank\" href=https://colab.research.google.com/notebooks/data_table.ipynb>data table notebook</a>'\n",
              "            + ' to learn more about interactive tables.';\n",
              "          element.innerHTML = '';\n",
              "          dataTable['output_type'] = 'display_data';\n",
              "          await google.colab.output.renderOutput(dataTable, element);\n",
              "          const docLink = document.createElement('div');\n",
              "          docLink.innerHTML = docLinkHtml;\n",
              "          element.appendChild(docLink);\n",
              "        }\n",
              "      </script>\n",
              "    </div>\n",
              "  </div>\n",
              "  "
            ]
          },
          "metadata": {},
          "execution_count": 70
        }
      ]
    },
    {
      "cell_type": "markdown",
      "source": [
        "#Creamos Variables Sinteticas"
      ],
      "metadata": {
        "id": "-P_VYEZvCpfh"
      }
    },
    {
      "cell_type": "code",
      "source": [
        "import pandas as pd\n",
        "from sklearn.linear_model import LinearRegression\n",
        "from sklearn.model_selection import train_test_split\n",
        "from sklearn.metrics import mean_squared_error\n",
        "\n",
        "# Carga los datos\n",
        "data = pd.read_csv(\"/content/drive/MyDrive/DataScience/players_22.csv\", usecols= ['age', 'overall', 'potential', 'player_positions','value_eur','height_cm','weight_kg','weak_foot','skill_moves',])\n",
        "\n",
        "# Creamos las Variables Sinteticas\n",
        "data['age_performance'] = data['age'] * data['overall']\n",
        "data['IMC'] = data['height_cm'] * data['weight_kg']\n",
        "\n",
        "# Seleccionamos las variables a utlizar\n",
        "features = ['age', 'overall', 'potential', 'value_eur', 'weak_foot', 'skill_moves', 'age_performance', 'IMC']\n",
        "\n",
        "# Eliminamos las filas que tienen nulos\n",
        "data.dropna(inplace=True)\n",
        "\n",
        "\n",
        "# Dividimos los datos en conjunto de entrenamiento y prueba\n",
        "X_train, X_test, y_train, y_test = train_test_split(data[features], data['value_eur'], test_size=0.2, random_state=42)\n",
        "\n",
        "# Creamos un modelo de regresion lineal\n",
        "model = LinearRegression()\n",
        "\n",
        "# Entrenamos el modelo\n",
        "model.fit(X_train, y_train)\n",
        "\n",
        "# Evaluamos el modelo\n",
        "y_pred = model.predict(X_test)\n",
        "mse = mean_squared_error(y_test, y_pred)\n",
        "rmse = mse ** 0.5\n",
        "print(\"RMSE:\", rmse)\n"
      ],
      "metadata": {
        "colab": {
          "base_uri": "https://localhost:8080/"
        },
        "id": "f8rFS_tcWUOJ",
        "outputId": "16ea6113-fed3-4ea0-f0ed-7f853d77d983"
      },
      "execution_count": null,
      "outputs": [
        {
          "output_type": "stream",
          "name": "stdout",
          "text": [
            "RMSE: 3.1499146725510613e-09\n"
          ]
        }
      ]
    },
    {
      "cell_type": "markdown",
      "source": [
        "En este punto se crearon dos nuevas características sintéticas, \"age_performance\" y \"IMC\", a partir de la combinación de dos o más características originales. Luego, se seleccionaron las características que se utilizarían para entrenar el modelo de regresión lineal, se eliminaron las filas con valores nulos y se dividieron los datos en conjuntos de entrenamiento y prueba. El modelo se entrenó en los datos de entrenamiento y se evaluó en los datos de prueba, obteniendo un RMSE de 3.22568660816733e-09, lo que indica que el modelo es bastante preciso en sus predicciones.\n",
        "\n",
        "En resumen, al crear características sintéticas podemos mejorar el rendimiento del modelo, ya que proporcionan información adicional que puede ser útil para hacer mejores predicciones. Además, es importante dividir los datos en conjuntos de entrenamiento y prueba para evaluar el rendimiento del modelo y detectar posibles problemas de sobreajuste. El RMSE es una métrica comúnmente utilizada para evaluar el rendimiento de los modelos de regresión y nos indica la cantidad de error que se espera en las predicciones del modelo. En este caso, el valor extremadamente bajo del RMSE indica que el modelo es muy preciso."
      ],
      "metadata": {
        "id": "yKs_V4_AfAj5"
      }
    },
    {
      "cell_type": "markdown",
      "source": [
        "# Entrenamiento de modelos"
      ],
      "metadata": {
        "id": "RbxYIJeOW_we"
      }
    },
    {
      "cell_type": "code",
      "source": [
        "from sklearn.linear_model import LinearRegression\n",
        "from sklearn.tree import DecisionTreeRegressor\n",
        "from sklearn.ensemble import RandomForestRegressor, GradientBoostingRegressor\n",
        "from sklearn.model_selection import cross_val_score\n",
        "\n",
        "models = [\n",
        "    LinearRegression(),\n",
        "    DecisionTreeRegressor(),\n",
        "    RandomForestRegressor(),\n",
        "    GradientBoostingRegressor()\n",
        "]\n",
        "\n",
        "for model in models:\n",
        "    scores = cross_val_score(model, X_train, y_train, cv=5, scoring='neg_root_mean_squared_error')\n",
        "    print(f\"{model.__class__.__name__}: {scores.mean():.4f} +/- {scores.std():.4f}\")\n"
      ],
      "metadata": {
        "colab": {
          "base_uri": "https://localhost:8080/"
        },
        "id": "a3JlEJmBXAtl",
        "outputId": "d742dd8b-f6e8-4d86-ec01-22ae0fcc28e0"
      },
      "execution_count": null,
      "outputs": [
        {
          "output_type": "stream",
          "name": "stdout",
          "text": [
            "LinearRegression: -0.0000 +/- 0.0000\n",
            "DecisionTreeRegressor: -214059.3623 +/- 129941.6041\n",
            "RandomForestRegressor: -139033.2154 +/- 90455.1170\n",
            "GradientBoostingRegressor: -108666.3157 +/- 30674.8523\n"
          ]
        }
      ]
    },
    {
      "cell_type": "markdown",
      "source": [
        "Este resultado indica que el mejor desempeño lo tiene el modelo GradientBoostingRegressor con un error medio cuadrático de -110938.6963 +/- 31392.3841.\n",
        "Sin embargo, es importante tener en cuenta que el error cuadrático medio es negativo en todos los modelos, lo cual no tiene sentido ya que el error siempre debe ser positivo. Por lo tanto, es posible que deba explorar diferentes técnicas de preprocesamiento para resolver este problema."
      ],
      "metadata": {
        "id": "-oUJH6tOYgDv"
      }
    },
    {
      "cell_type": "markdown",
      "source": [
        "El error que estamos obteniendo puede deberce a que algunas columnas del conjunto de datos contienen valores faltantes (NaN)\n",
        "Entonces remplazaremos los valores faltantes, con algun valor estadistico, como la media o la mediana."
      ],
      "metadata": {
        "id": "SxlbKSZsYwzo"
      }
    },
    {
      "cell_type": "code",
      "source": [
        "# Cargamos Datos\n",
        "data = pd.read_csv(\"/content/drive/MyDrive/DataScience/players_22.csv\", usecols= ['age', 'overall', 'potential', 'value_eur', 'height_cm', 'weight_kg', 'weak_foot', 'skill_moves', 'player_positions'])\n",
        "\n",
        "# Creamos variables sinteticas\n",
        "data['age_performance'] = data['age'] * data['overall']\n",
        "data['IMC'] = data['weight_kg'] / ((data['height_cm'] / 100) ** 2)\n",
        "\n",
        "# Remplazamos los valores que faltan con la media\n",
        "imputer = SimpleImputer(strategy='mean')\n",
        "data[['age', 'overall', 'potential', 'value_eur', 'height_cm', 'weight_kg', 'weak_foot', 'skill_moves', 'age_performance', 'IMC']] = imputer.fit_transform(data[['age', 'overall', 'potential', 'value_eur', 'height_cm', 'weight_kg', 'weak_foot', 'skill_moves', 'age_performance', 'IMC']])\n",
        "\n",
        "# Eliminamos los valores faltantes en la columna 'player_positions'\n",
        "data.dropna(subset=['player_positions'], inplace=True)\n",
        "\n",
        "# Seleccionamos las variables relevantes\n",
        "features = ['age', 'overall', 'potential', 'value_eur', 'weak_foot', 'skill_moves', 'age_performance', 'IMC']\n",
        "\n",
        "# Hcemos One-Hot-Enconding en  'player_positions'\n",
        "encoder = OneHotEncoder(sparse=False)\n",
        "positions_encoded = encoder.fit_transform(data[['player_positions']])\n",
        "positions_df = pd.DataFrame(positions_encoded, columns=encoder.get_feature_names_out(['player_positions']))\n",
        "data = pd.concat([data, positions_df], axis=1)\n",
        "data.drop(['player_positions'], axis=1, inplace=True)\n",
        "\n",
        "# Dividimos los datos en conjuntos de entrenamiento y prueba\n",
        "X_train, X_test, y_train, y_test = train_test_split(data[features], data['value_eur'], test_size=0.2, random_state=42)\n",
        "\n",
        "# Creamos un modelo de regresión lineal\n",
        "model = LinearRegression()\n",
        "\n",
        "# Entrenamos el modelo\n",
        "model.fit(X_train, y_train)\n",
        "\n",
        "# Evaluamos el modelo\n",
        "y_pred = model.predict(X_test)\n",
        "mse = mean_squared_error(y_test, y_pred)\n",
        "rmse = mse ** 0.5\n",
        "print(\"RMSE LinearRegression:\", rmse)\n",
        "\n",
        "# Creamos un modelo de árbol de decisión\n",
        "tree_model = DecisionTreeRegressor()\n",
        "tree_model.fit(X_train, y_train)\n",
        "\n",
        "# Evaluamos el modelo\n",
        "y_pred = tree_model.predict(X_test)\n",
        "mse = mean_squared_error(y_test, y_pred)\n",
        "rmse = mse ** 0.5\n",
        "print(\"RMSE DecisionTreeRegressor:\", rmse)\n",
        "\n",
        "# Creamos un modelo de Random Forest\n",
        "rf_model = RandomForestRegressor()\n",
        "rf_model.fit(X_train, y_train)\n",
        "\n",
        "# Evaluamos el modelo\n",
        "y_pred = rf_model.predict(X_test)\n",
        "y_pred = [0 if i < 0 else i for i in y_pred] # corrige valores negativos\n",
        "mse = mean_squared_error(y_test, y_pred)\n",
        "rmse = mse ** 0.5\n",
        "print(\"RMSE RandomForestRegressor:\", rmse)\n",
        "\n",
        "# Creamos un modelo de Gradient Boosting\n",
        "gb_model = GradientBoostingRegressor()\n",
        "gb_model.fit(X_train, y_train)\n",
        "\n",
        "# Evaluamos el modelo\n",
        "y_pred = rf_model.predict(X_test)\n",
        "y_pred = [0 if i < 0 else i for i in y_pred] # corrige valores negativos\n",
        "mse = mean_squared_error(y_test, y_pred)\n",
        "rmse = mse ** 0.5\n",
        "print(\"RMSE RandomForestRegressor:\", rmse)\n",
        "\n",
        "# Creamos un modelo de Gradient Boosting\n",
        "gb_model = GradientBoostingRegressor()\n",
        "gb_model.fit(X_train, y_train)\n",
        "\n",
        "# Evaluamos el modelo\n",
        "y_pred = gb_model.predict(X_test)\n",
        "y_pred = [0 if i < 0 else i for i in y_pred] # corrige valores negativos\n",
        "mse = mean_squared_error(y_test, y_pred)\n",
        "rmse = mse ** 0.5\n",
        "print(\"RMSE GradientBoostingRegressor:\", rmse)\n"
      ],
      "metadata": {
        "colab": {
          "base_uri": "https://localhost:8080/"
        },
        "id": "g7PSh7nIYqBV",
        "outputId": "cfdbfeb9-7418-4240-b2db-6269d08c60bc"
      },
      "execution_count": null,
      "outputs": [
        {
          "output_type": "stream",
          "name": "stderr",
          "text": [
            "/usr/local/lib/python3.8/dist-packages/sklearn/preprocessing/_encoders.py:828: FutureWarning: `sparse` was renamed to `sparse_output` in version 1.2 and will be removed in 1.4. `sparse_output` is ignored unless you leave `sparse` to its default value.\n",
            "  warnings.warn(\n"
          ]
        },
        {
          "output_type": "stream",
          "name": "stdout",
          "text": [
            "RMSE LinearRegression: 3.22568660816733e-09\n",
            "RMSE DecisionTreeRegressor: 914411.6407005374\n",
            "RMSE RandomForestRegressor: 1092486.801011923\n",
            "RMSE RandomForestRegressor: 1092486.801011923\n",
            "RMSE GradientBoostingRegressor: 1009220.6307434519\n"
          ]
        }
      ]
    },
    {
      "cell_type": "markdown",
      "source": [
        "El modelo de regresión lineal es el que tiene el menor valor de RMSE, lo que sugiere que es el modelo que mejor se ajusta a los datos.\n",
        "\n",
        "En comparación, los modelos de árbol de decisión, Random Forest y Gradient Boosting tienen valores de RMSE mucho más altos, lo que indica que no se ajustan tan bien a los datos como el modelo de regresión lineal."
      ],
      "metadata": {
        "id": "oHGFrnmvbP_P"
      }
    },
    {
      "cell_type": "markdown",
      "source": [
        "#PCA"
      ],
      "metadata": {
        "id": "BNjBVVm9cJQU"
      }
    },
    {
      "cell_type": "code",
      "source": [
        "from sklearn.decomposition import PCA\n",
        "\n",
        "# Creamos objeto PCA\n",
        "pca = PCA()\n",
        "\n",
        "# Ajustamos y transformamos los datos\n",
        "X_train_pca = pca.fit_transform(X_train)\n",
        "\n",
        "# Exploramos las cargas de los componentes principales\n",
        "loadings = pca.components_.T * np.sqrt(pca.explained_variance_)\n",
        "\n",
        "# Imprimimos las variables más relevantes en el primer componente principal\n",
        "most_important = [np.abs(loadings[:,i]).argmax() for i in range(loadings.shape[1])]\n",
        "variables = list(X_train.columns)\n",
        "print(\"Variables más relevantes en el primer componente principal:\")\n",
        "print([variables[most_important[i]] for i in range(2)])\n"
      ],
      "metadata": {
        "colab": {
          "base_uri": "https://localhost:8080/"
        },
        "id": "k_PjN3Bacr4u",
        "outputId": "def4efbe-52c0-4ee3-f8ec-d18eb655528a"
      },
      "execution_count": null,
      "outputs": [
        {
          "output_type": "stream",
          "name": "stdout",
          "text": [
            "Variables más relevantes en el primer componente principal:\n",
            "['value_eur', 'age_performance']\n"
          ]
        }
      ]
    },
    {
      "cell_type": "markdown",
      "source": [
        "El resultado de la PCA indica que las variables 'value_eur' y 'age_performance' son las más relevantes para explicar la variabilidad en los datos utilizados en  FIFA 22. Esto significa que estas variables tienen la mayor contribución en la información contenida en los datos y que son importantes para predecir el valor de los jugadores en el juego.\n",
        "\n",
        "La variable 'value_eur' es probablemente la más importante ya que está relacionada con el valor monetario del jugador en euros, mientras que la variable 'age_performance' puede estar relacionada con la habilidad y el desempeño del jugador en relación con su edad.\n"
      ],
      "metadata": {
        "id": "B0u1qQatdOaZ"
      }
    },
    {
      "cell_type": "markdown",
      "source": [
        "#Probamos el Modelo"
      ],
      "metadata": {
        "id": "nSnEP7Oq4gnh"
      }
    },
    {
      "cell_type": "markdown",
      "source": [
        "Probamos con un jugador que tenga tales caracterisitcas, a ver cual es el valor, y podriamos utilizar este modelo para obtener todas caracteristicas medibles y predecir su valor en el mercado. Y correr con la ventaja de que ya sabemos antes de sentarnos a negociar con el club cual es el valor del jugador. Con ciertas caracteristicas."
      ],
      "metadata": {
        "id": "ekLU0O-D4nLc"
      }
    },
    {
      "cell_type": "code",
      "source": [
        "import pandas as pd\n",
        "from sklearn.model_selection import train_test_split\n",
        "from sklearn.preprocessing import StandardScaler\n",
        "from sklearn.decomposition import PCA\n",
        "from sklearn.linear_model import LinearRegression\n",
        "\n",
        "# Seleccionamos variables\n",
        "features = ['age', 'overall', 'potential', 'value_eur', 'weak_foot', 'skill_moves', 'age_performance', 'IMC']\n",
        "X = data[features]\n",
        "y = data['value_eur']\n",
        "\n",
        "# Dividimos el conjunto de datos en conjunto de entrenamiento y prueba\n",
        "X_train, X_test, y_train, y_test = train_test_split(X, y, test_size=0.2, random_state=42)\n",
        "\n",
        "# Estandarizamos los datos de entrenamiento\n",
        "scaler = StandardScaler()\n",
        "X_train = scaler.fit_transform(X_train)\n",
        "\n",
        "# Aplicamos PCA a los datos de entrenamiento\n",
        "pca = PCA(n_components=5)\n",
        "X_train = pca.fit_transform(X_train)\n",
        "\n",
        "# Entrenamos un modelo de regresión lineal\n",
        "lr = LinearRegression()\n",
        "lr.fit(X_train, y_train)\n",
        "\n",
        "# Estandarizamos los datos del nuevo jugador\n",
        "nuevo_jugador = {\"age\": 22, \"overall\": 80, \"potential\": 85, \"value_eur\": 0, \"weak_foot\": 3,\n",
        "                 \"skill_moves\": 4, \"age_performance\":1760 , \"IMC\": 23.15}\n",
        "nuevo_jugador_df = pd.DataFrame(nuevo_jugador, index=[0])\n",
        "nuevo_jugador_df = scaler.transform(nuevo_jugador_df)\n",
        "\n",
        "# Aplicamos la transformación PCA a los datos del nuevo jugador\n",
        "nuevo_jugador_pca = pca.transform(nuevo_jugador_df)\n",
        "\n",
        "# Hacemos la predicción del valor de mercado del nuevo jugador\n",
        "valor_predicho = lr.predict(nuevo_jugador_pca)\n",
        "print(f\"El valor de mercado del nuevo jugador es: {valor_predicho[0]:,.0f} EUR\")\n"
      ],
      "metadata": {
        "colab": {
          "base_uri": "https://localhost:8080/"
        },
        "id": "WDY29V-q4SGG",
        "outputId": "d9ba0218-260f-4fd4-eb0f-3aab1d29f671"
      },
      "execution_count": null,
      "outputs": [
        {
          "output_type": "stream",
          "name": "stdout",
          "text": [
            "El valor de mercado del nuevo jugador es: 10,866,447 EUR\n"
          ]
        }
      ]
    },
    {
      "cell_type": "markdown",
      "source": [
        "# CrossValidation y mejora de modelos de ML"
      ],
      "metadata": {
        "id": "_g9rkCof9o8s"
      }
    },
    {
      "cell_type": "markdown",
      "source": [
        "## Validacion Cruzada"
      ],
      "metadata": {
        "id": "bWUQYL1L9ty_"
      }
    },
    {
      "cell_type": "markdown",
      "source": [
        "Probamos con Regresion Lineal"
      ],
      "metadata": {
        "id": "s9M60IOQGWyf"
      }
    },
    {
      "cell_type": "code",
      "source": [
        "import pandas as pd\n",
        "from sklearn.linear_model import LinearRegression\n",
        "from sklearn.model_selection import train_test_split\n",
        "from sklearn.metrics import mean_squared_error\n",
        "\n",
        "# Carga los datos\n",
        "data = pd.read_csv(\"/content/drive/MyDrive/DataScience/players_22.csv\", usecols= ['age', 'overall', 'potential', 'player_positions','value_eur','height_cm','weight_kg','weak_foot','skill_moves',])\n",
        "\n",
        "# Creamos las Variables Sinteticas\n",
        "data['age_performance'] = data['age'] * data['overall']\n",
        "data['IMC'] = data['height_cm'] * data['weight_kg']\n",
        "\n",
        "# Seleccionamos las variables a utlizar\n",
        "features = ['age', 'overall', 'potential', 'value_eur', 'weak_foot', 'skill_moves', 'age_performance', 'IMC']\n",
        "\n",
        "# Eliminamos las filas que tienen nulos\n",
        "data.dropna(inplace=True)\n",
        "\n",
        "\n",
        "# Dividimos los datos en conjunto de entrenamiento y prueba\n",
        "X_train, X_test, y_train, y_test = train_test_split(data[features], data['value_eur'], test_size=0.2, random_state=42)\n",
        "\n",
        "# Creamos un modelo de regresion lineal\n",
        "model = LinearRegression()\n",
        "\n",
        "# Entrenamos el modelo\n",
        "model.fit(X_train, y_train)\n",
        "\n",
        "# Evaluamos el modelo en el conjunto de prueba\n",
        "y_pred = model.predict(X_test)\n",
        "mse = mean_squared_error(y_test, y_pred)\n",
        "rmse = mse ** 0.5\n",
        "print(\"RMSE:\", rmse)"
      ],
      "metadata": {
        "colab": {
          "base_uri": "https://localhost:8080/"
        },
        "id": "yQLjQn58-dF6",
        "outputId": "d685965d-0b03-4761-8c9c-84d8f9cf744d"
      },
      "execution_count": null,
      "outputs": [
        {
          "output_type": "stream",
          "name": "stdout",
          "text": [
            "RMSE: 3.1499146725510613e-09\n"
          ]
        }
      ]
    },
    {
      "cell_type": "markdown",
      "source": [
        "Realizamos Validación cruzada k-fold con k=5"
      ],
      "metadata": {
        "id": "FeMV46a7GaS_"
      }
    },
    {
      "cell_type": "code",
      "source": [
        "from sklearn.model_selection import KFold\n",
        "from sklearn.metrics import mean_squared_error\n",
        "\n",
        "# Carga los datos\n",
        "data = pd.read_csv(\"/content/drive/MyDrive/DataScience/players_22.csv\", usecols= ['age', 'overall', 'potential', 'player_positions','value_eur','height_cm','weight_kg','weak_foot','skill_moves',])\n",
        "\n",
        "# Creamos las Variables Sinteticas\n",
        "data['age_performance'] = data['age'] * data['overall']\n",
        "data['IMC'] = data['height_cm'] * data['weight_kg']\n",
        "\n",
        "# Seleccionamos las variables a utlizar\n",
        "features = ['age', 'overall', 'potential', 'value_eur', 'weak_foot', 'skill_moves', 'age_performance', 'IMC']\n",
        "\n",
        "# Eliminamos las filas que tienen nulos\n",
        "data.dropna(inplace=True)\n",
        "\n",
        "# Creamos un objeto de validación cruzada k-fold con k=5\n",
        "kf = KFold(n_splits=5)\n",
        "\n",
        "# Inicializamos una lista para almacenar las puntuaciones de validación cruzada\n",
        "scores = []\n",
        "\n",
        "# Iteramos a través de cada división de entrenamiento / prueba de la validación cruzada\n",
        "for train_index, test_index in kf.split(data[features]):\n",
        "\n",
        "    # Dividimos los datos en conjuntos de entrenamiento y prueba utilizando los índices obtenidos de la validación cruzada\n",
        "    X_train, X_test = data[features].iloc[train_index], data[features].iloc[test_index]\n",
        "    y_train, y_test = data['value_eur'].iloc[train_index], data['value_eur'].iloc[test_index]\n",
        "\n",
        "    # Creamos un modelo de regresión lineal\n",
        "    model = LinearRegression()\n",
        "\n",
        "    # Entrenamos el modelo utilizando los datos de entrenamiento\n",
        "    model.fit(X_train, y_train)\n",
        "\n",
        "    # Evaluamos el modelo utilizando los datos de prueba y calculamos la puntuación de RMSE\n",
        "    y_pred = model.predict(X_test)\n",
        "    mse = mean_squared_error(y_test, y_pred)\n",
        "    rmse = mse ** 0.5\n",
        "\n",
        "    # Agregamos la puntuación de RMSE a la lista de puntuaciones de validación cruzada\n",
        "    scores.append(rmse)\n",
        "\n",
        "# Imprimimos las puntuaciones obtenidas en cada iteración de validación cruzada\n",
        "print(\"Puntuaciones de validación cruzada:\", scores)\n",
        "\n",
        "# Calculamos la puntuación media y el desviación estándar de las puntuaciones\n",
        "mean_score = sum(scores) / len(scores)\n",
        "std_score = np.std(scores)\n",
        "print(\"Puntuación media:\", mean_score)\n",
        "print(\"Desviación estándar:\", std_score)\n"
      ],
      "metadata": {
        "colab": {
          "base_uri": "https://localhost:8080/"
        },
        "id": "x4aiQumj9569",
        "outputId": "b18c18f7-cc83-4b70-98b1-50a21bfe3829"
      },
      "execution_count": null,
      "outputs": [
        {
          "output_type": "stream",
          "name": "stdout",
          "text": [
            "Puntuaciones de validación cruzada: [1.2311613386405798e-08, 2.5746581622691743e-09, 7.173093934280677e-10, 2.7372250540189366e-09, 3.406618838857166e-09]\n",
            "Puntuación media: 4.349484966995828e-09\n",
            "Desviación estándar: 4.079867083956483e-09\n"
          ]
        }
      ]
    },
    {
      "cell_type": "markdown",
      "source": [
        "Observando el valor de RMSE obtenido sin utilizar la validación cruzada, que es de 3.1499146725510613e-09, se puede concluir que el modelo también tiene un muy buen desempeño en la predicción del valor de los jugadores de FIFA 22.\n",
        "\n",
        "Ahora, para comparar el rendimiento de ambos modelos, podemos notar que el valor de RMSE obtenido utilizando la validación cruzada es muy similar al valor obtenido sin ella. Sin embargo, es importante tener en cuenta que la validación cruzada nos permite evaluar la capacidad de generalización del modelo en diferentes subconjuntos de datos, lo que nos da una mayor confianza en su capacidad de predecir nuevos datos. Por lo tanto, la validación cruzada nos proporciona una evaluación más completa del modelo."
      ],
      "metadata": {
        "id": "QD2v5ECV_AIL"
      }
    },
    {
      "cell_type": "markdown",
      "source": [
        "Podemos concluir que en ambos casos, el modelo de regresión lineal tiene un muy buen desempeño en la predicción del valor de los jugadores de FIFA 22. El hecho de que el valor de RMSE obtenido sin utilizar la validación cruzada sea muy similar al valor obtenido utilizando la validación cruzada, indica que el modelo es bastante robusto y no está sobreajustado.\n",
        "\n",
        "Sin embargo, la validación cruzada nos da una evaluación más completa y rigurosa del modelo, ya que nos permite evaluar su capacidad de generalización en diferentes subconjuntos de datos. Por lo tanto, si tuviéramos que elegir entre ambos modelos, deberíamos elegir el modelo entrenado con validación cruzada, ya que nos brinda una mayor confianza en su capacidad de predecir nuevos datos."
      ],
      "metadata": {
        "id": "dZzk44Dg_B8N"
      }
    },
    {
      "cell_type": "markdown",
      "source": [
        "Probamos con Random Forest"
      ],
      "metadata": {
        "id": "YSdZ6_lWJ7_Y"
      }
    },
    {
      "cell_type": "code",
      "source": [
        "import pandas as pd\n",
        "from sklearn.ensemble import RandomForestRegressor\n",
        "from sklearn.model_selection import cross_val_score\n",
        "\n",
        "# Carga los datos\n",
        "data = pd.read_csv(\"/content/drive/MyDrive/DataScience/players_22.csv\", usecols= ['age', 'overall', 'potential', 'player_positions','value_eur','height_cm','weight_kg','weak_foot','skill_moves',])\n",
        "\n",
        "# Creamos las Variables Sinteticas\n",
        "data['age_performance'] = data['age'] * data['overall']\n",
        "data['IMC'] = data['height_cm'] * data['weight_kg']\n",
        "\n",
        "# Seleccionamos las variables a utilizar\n",
        "features = ['age', 'overall', 'potential', 'value_eur', 'weak_foot', 'skill_moves', 'age_performance', 'IMC']\n",
        "\n",
        "# Eliminamos las filas que tienen nulos\n",
        "data.dropna(inplace=True)\n",
        "\n",
        "# Dividimos los datos en características y etiquetas\n",
        "X = data[features]\n",
        "y = data['value_eur']\n",
        "\n",
        "# Creamos un modelo de Random Forest con 100 árboles\n",
        "rf_model = RandomForestRegressor(n_estimators=100, random_state=42)\n",
        "\n",
        "# Evaluamos el modelo utilizando validación cruzada con 5 folds\n",
        "scores = cross_val_score(rf_model, X, y, cv=5, scoring='neg_root_mean_squared_error')\n",
        "\n",
        "# Imprimimos los resultados\n",
        "print(\"Puntuaciones de validación cruzada:\", -scores)\n",
        "print(\"Puntuación media:\", -scores.mean())\n",
        "print(\"Desviación estándar:\", scores.std())\n"
      ],
      "metadata": {
        "colab": {
          "base_uri": "https://localhost:8080/"
        },
        "id": "crDiGGHmCUh_",
        "outputId": "a44b8d96-b162-4bb6-f5d4-c43cf0a8501a"
      },
      "execution_count": null,
      "outputs": [
        {
          "output_type": "stream",
          "name": "stdout",
          "text": [
            "Puntuaciones de validación cruzada: [1.57519394e+07 0.00000000e+00 0.00000000e+00 3.20334420e+01\n",
            " 6.89752524e+02]\n",
            "Puntuación media: 3150532.2407271927\n",
            "Desviación estándar: 6300703.593971495\n"
          ]
        }
      ]
    },
    {
      "cell_type": "markdown",
      "source": [
        "Los resultados del modelo de Random Forest con validación cruzada muestran una puntuación media de 3150532.24, con una desviación estándar de 6300703.59\n",
        ". Algunas de las puntuaciones obtenidas en las folds son muy altas, lo cual puede indicar que hay overfitting.\n",
        "\n",
        "En comparación con el modelo de regresión lineal, podemos observar que el desempeño del modelo de Random Forest no es tan bueno, y los resultados de validación cruzada sugieren que puede haber sobreajuste. Sin embargo, podemos seguir explorando diferentes configuraciones de hiperparámetros para mejorar el desempeño del modelo de Random Forest."
      ],
      "metadata": {
        "id": "A0u9ES-xCxXK"
      }
    },
    {
      "cell_type": "markdown",
      "source": [
        "Agregamos Hiperparametros para mejorar ver si mejora el performance."
      ],
      "metadata": {
        "id": "lfMNCG8aKAUy"
      }
    },
    {
      "cell_type": "code",
      "source": [
        "import pandas as pd\n",
        "from sklearn.ensemble import RandomForestRegressor\n",
        "from sklearn.model_selection import train_test_split, GridSearchCV\n",
        "from sklearn.metrics import mean_squared_error\n",
        "\n",
        "# Carga los datos\n",
        "data = pd.read_csv(\"/content/drive/MyDrive/DataScience/players_22.csv\", usecols= ['age', 'overall', 'potential', 'player_positions','value_eur','height_cm','weight_kg','weak_foot','skill_moves',])\n",
        "\n",
        "# Creamos las Variables Sinteticas\n",
        "data['age_performance'] = data['age'] * data['overall']\n",
        "data['IMC'] = data['height_cm'] * data['weight_kg']\n",
        "\n",
        "# Seleccionamos las variables a utlizar\n",
        "features = ['age', 'overall', 'potential', 'value_eur', 'weak_foot', 'skill_moves', 'age_performance', 'IMC']\n",
        "\n",
        "# Eliminamos las filas que tienen nulos\n",
        "data.dropna(inplace=True)\n",
        "\n",
        "# Dividimos los datos en conjunto de entrenamiento y prueba\n",
        "X_train, X_test, y_train, y_test = train_test_split(data[features], data['value_eur'], test_size=0.2, random_state=42)\n",
        "\n",
        "# Creamos el modelo de Random Forest\n",
        "rf = RandomForestRegressor()\n",
        "\n",
        "# Definimos los parámetros a probar en el Grid Search\n",
        "param_grid = {\n",
        "    'n_estimators': [100, 200, 300],\n",
        "    'max_depth': [None, 5, 10],\n",
        "    'max_features': ['sqrt', 'log2']\n",
        "}\n",
        "\n",
        "# Definimos el objeto Grid Search\n",
        "grid_search = GridSearchCV(rf, param_grid, cv=5)\n",
        "\n",
        "# Entrenamos el modelo con Grid Search\n",
        "grid_search.fit(X_train, y_train)\n",
        "\n",
        "# Obtenemos la mejor combinación de parámetros\n",
        "best_params = grid_search.best_params_\n",
        "print(\"Mejores parámetros:\", best_params)\n",
        "\n",
        "# Evaluamos el modelo con los mejores parámetros\n",
        "y_pred = grid_search.predict(X_test)\n",
        "mse = mean_squared_error(y_test, y_pred)\n",
        "rmse = mse ** 0.5\n",
        "print(\"RMSE:\", rmse)\n"
      ],
      "metadata": {
        "colab": {
          "base_uri": "https://localhost:8080/"
        },
        "id": "JV3DCvrYC6EN",
        "outputId": "00c0d8ee-37e8-445b-98e4-801e32b0dc1f"
      },
      "execution_count": null,
      "outputs": [
        {
          "output_type": "stream",
          "name": "stdout",
          "text": [
            "Mejores parámetros: {'max_depth': 10, 'max_features': 'log2', 'n_estimators': 300}\n",
            "RMSE: 1237204.7432254958\n"
          ]
        }
      ]
    },
    {
      "cell_type": "markdown",
      "source": [
        "El modelo con la búsqueda de hiperparámetros ha mejorado el rendimiento en comparación con el modelo sin ajuste de hiperparámetros y con validación cruzada. En este caso, el valor de RMSE es menor, lo que indica que el modelo tiene un mejor desempeño en la predicción de los valores de \"value_eur\".\n",
        "\n",
        "Sin embargo, la regresión lineal obtuvo un RMSE mucho más bajo que el random forest con hiperparámetros, lo que indica que la regresión lineal puede ser un modelo más adecuado para este conjunto de datos."
      ],
      "metadata": {
        "id": "j35GeSHfGC8U"
      }
    }
  ]
}